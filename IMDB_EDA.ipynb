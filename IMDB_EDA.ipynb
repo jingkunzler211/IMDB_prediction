{
  "nbformat": 4,
  "nbformat_minor": 0,
  "metadata": {
    "colab": {
      "name": "IMDB_EDA.ipynb",
      "provenance": [],
      "collapsed_sections": [],
      "toc_visible": true
    },
    "kernelspec": {
      "name": "python3",
      "display_name": "Python 3"
    },
    "language_info": {
      "name": "python"
    }
  },
  "cells": [
    {
      "cell_type": "markdown",
      "metadata": {
        "id": "8V1X8g3G09QN"
      },
      "source": [
        "# Part 1：EDA & Visualization"
      ]
    },
    {
      "cell_type": "code",
      "metadata": {
        "colab": {
          "base_uri": "https://localhost:8080/"
        },
        "id": "KGQlAL490sRD",
        "outputId": "4001033e-0c12-429a-b6be-8a382f83cfa7"
      },
      "source": [
        "from google.colab import drive \n",
        "drive.mount('/content/gdrive')"
      ],
      "execution_count": 235,
      "outputs": [
        {
          "output_type": "stream",
          "name": "stdout",
          "text": [
            "Drive already mounted at /content/gdrive; to attempt to forcibly remount, call drive.mount(\"/content/gdrive\", force_remount=True).\n"
          ]
        }
      ]
    },
    {
      "cell_type": "code",
      "metadata": {
        "id": "5YLL7hDz1Knm"
      },
      "source": [
        "import pandas as pd \n",
        "df=pd.read_csv('/content/gdrive/MyDrive/clean_imdb.csv')"
      ],
      "execution_count": 123,
      "outputs": []
    },
    {
      "cell_type": "code",
      "metadata": {
        "id": "3f8olNwJ4cxd"
      },
      "source": [
        "import seaborn as sns\n",
        "import matplotlib as plt"
      ],
      "execution_count": 11,
      "outputs": []
    },
    {
      "cell_type": "code",
      "metadata": {
        "id": "IbHtgZqq-iBy"
      },
      "source": [
        "import numpy as np"
      ],
      "execution_count": 189,
      "outputs": []
    },
    {
      "cell_type": "code",
      "metadata": {
        "colab": {
          "base_uri": "https://localhost:8080/"
        },
        "id": "oasggdnz1gmu",
        "outputId": "3cc49d7f-0426-4e7e-d0cc-0efab2cf74eb"
      },
      "source": [
        "df.info()"
      ],
      "execution_count": 4,
      "outputs": [
        {
          "output_type": "stream",
          "name": "stdout",
          "text": [
            "<class 'pandas.core.frame.DataFrame'>\n",
            "RangeIndex: 4932 entries, 0 to 4931\n",
            "Data columns (total 28 columns):\n",
            " #   Column                     Non-Null Count  Dtype  \n",
            "---  ------                     --------------  -----  \n",
            " 0   Unnamed: 0                 4932 non-null   int64  \n",
            " 1   director_name              4932 non-null   object \n",
            " 2   num_critic_for_reviews     4932 non-null   float64\n",
            " 3   duration                   4932 non-null   float64\n",
            " 4   director_facebook_likes    4932 non-null   float64\n",
            " 5   actor_3_facebook_likes     4932 non-null   float64\n",
            " 6   actor_2_name               4922 non-null   object \n",
            " 7   actor_1_facebook_likes     4932 non-null   float64\n",
            " 8   gross                      4932 non-null   float64\n",
            " 9   genres                     4932 non-null   object \n",
            " 10  actor_1_name               4925 non-null   object \n",
            " 11  movie_title                4932 non-null   object \n",
            " 12  num_voted_users            4932 non-null   int64  \n",
            " 13  cast_total_facebook_likes  4932 non-null   int64  \n",
            " 14  actor_3_name               4914 non-null   object \n",
            " 15  plot_keywords              4793 non-null   object \n",
            " 16  movie_imdb_link            4932 non-null   object \n",
            " 17  num_user_for_reviews       4932 non-null   float64\n",
            " 18  language                   4923 non-null   object \n",
            " 19  country                    4931 non-null   object \n",
            " 20  content_rating             4672 non-null   object \n",
            " 21  budget                     4932 non-null   float64\n",
            " 22  title_year                 4932 non-null   int64  \n",
            " 23  actor_2_facebook_likes     4932 non-null   float64\n",
            " 24  imdb_score                 4932 non-null   float64\n",
            " 25  movie_facebook_likes       4932 non-null   int64  \n",
            " 26  first_genre                4932 non-null   object \n",
            " 27  year                       4932 non-null   float64\n",
            "dtypes: float64(11), int64(5), object(12)\n",
            "memory usage: 1.1+ MB\n"
          ]
        }
      ]
    },
    {
      "cell_type": "code",
      "metadata": {
        "id": "kytH0zJq1mA7"
      },
      "source": [
        "# drop Unnamed: 0\n",
        "df = df.drop(\"Unnamed: 0\", axis = 1)"
      ],
      "execution_count": 124,
      "outputs": []
    },
    {
      "cell_type": "code",
      "metadata": {
        "id": "7FJssjAXtGH_"
      },
      "source": [
        "# REVISION!!!\n",
        "# From 1.8 We found that non-english movies need to be removed! here to do it\n",
        "df = df.loc[df[\"language\"]== 'English']"
      ],
      "execution_count": 125,
      "outputs": []
    },
    {
      "cell_type": "code",
      "metadata": {
        "id": "Aq-5bH_8ukI4"
      },
      "source": [
        "df = df.loc[~df[\"movie_title\"].str.contains('Kites')]"
      ],
      "execution_count": 126,
      "outputs": []
    },
    {
      "cell_type": "code",
      "metadata": {
        "colab": {
          "base_uri": "https://localhost:8080/",
          "height": 479
        },
        "id": "aZg-er3e14Uv",
        "outputId": "5ef90ec7-fd27-439c-f222-435bd5763db5"
      },
      "source": [
        "df.head()"
      ],
      "execution_count": 127,
      "outputs": [
        {
          "output_type": "execute_result",
          "data": {
            "text/html": [
              "<div>\n",
              "<style scoped>\n",
              "    .dataframe tbody tr th:only-of-type {\n",
              "        vertical-align: middle;\n",
              "    }\n",
              "\n",
              "    .dataframe tbody tr th {\n",
              "        vertical-align: top;\n",
              "    }\n",
              "\n",
              "    .dataframe thead th {\n",
              "        text-align: right;\n",
              "    }\n",
              "</style>\n",
              "<table border=\"1\" class=\"dataframe\">\n",
              "  <thead>\n",
              "    <tr style=\"text-align: right;\">\n",
              "      <th></th>\n",
              "      <th>director_name</th>\n",
              "      <th>num_critic_for_reviews</th>\n",
              "      <th>duration</th>\n",
              "      <th>director_facebook_likes</th>\n",
              "      <th>actor_3_facebook_likes</th>\n",
              "      <th>actor_2_name</th>\n",
              "      <th>actor_1_facebook_likes</th>\n",
              "      <th>gross</th>\n",
              "      <th>genres</th>\n",
              "      <th>actor_1_name</th>\n",
              "      <th>movie_title</th>\n",
              "      <th>num_voted_users</th>\n",
              "      <th>cast_total_facebook_likes</th>\n",
              "      <th>actor_3_name</th>\n",
              "      <th>plot_keywords</th>\n",
              "      <th>movie_imdb_link</th>\n",
              "      <th>num_user_for_reviews</th>\n",
              "      <th>language</th>\n",
              "      <th>country</th>\n",
              "      <th>content_rating</th>\n",
              "      <th>budget</th>\n",
              "      <th>title_year</th>\n",
              "      <th>actor_2_facebook_likes</th>\n",
              "      <th>imdb_score</th>\n",
              "      <th>movie_facebook_likes</th>\n",
              "      <th>first_genre</th>\n",
              "      <th>year</th>\n",
              "    </tr>\n",
              "  </thead>\n",
              "  <tbody>\n",
              "    <tr>\n",
              "      <th>0</th>\n",
              "      <td>James Cameron</td>\n",
              "      <td>723.0</td>\n",
              "      <td>178.0</td>\n",
              "      <td>0.0</td>\n",
              "      <td>855.0</td>\n",
              "      <td>Joel David Moore</td>\n",
              "      <td>1000.0</td>\n",
              "      <td>760.0</td>\n",
              "      <td>['Action', 'Adventure', 'Fantasy', 'Sci-Fi']</td>\n",
              "      <td>CCH Pounder</td>\n",
              "      <td>Avatar</td>\n",
              "      <td>886204</td>\n",
              "      <td>4834</td>\n",
              "      <td>Wes Studi</td>\n",
              "      <td>['avatar', 'future', 'marine', 'native', 'para...</td>\n",
              "      <td>http://www.imdb.com/title/tt0499549/?ref_=fn_t...</td>\n",
              "      <td>3054.0</td>\n",
              "      <td>English</td>\n",
              "      <td>USA</td>\n",
              "      <td>PG-13</td>\n",
              "      <td>237.0</td>\n",
              "      <td>2009</td>\n",
              "      <td>936.0</td>\n",
              "      <td>7.9</td>\n",
              "      <td>33000</td>\n",
              "      <td>Action</td>\n",
              "      <td>2009.0</td>\n",
              "    </tr>\n",
              "    <tr>\n",
              "      <th>1</th>\n",
              "      <td>Gore Verbinski</td>\n",
              "      <td>302.0</td>\n",
              "      <td>169.0</td>\n",
              "      <td>563.0</td>\n",
              "      <td>1000.0</td>\n",
              "      <td>Orlando Bloom</td>\n",
              "      <td>40000.0</td>\n",
              "      <td>309.0</td>\n",
              "      <td>['Action', 'Adventure', 'Fantasy']</td>\n",
              "      <td>Johnny Depp</td>\n",
              "      <td>Pirates of the Caribbean: At World's End</td>\n",
              "      <td>471220</td>\n",
              "      <td>48350</td>\n",
              "      <td>Jack Davenport</td>\n",
              "      <td>['goddess', 'marriage ceremony', 'marriage pro...</td>\n",
              "      <td>http://www.imdb.com/title/tt0449088/?ref_=fn_t...</td>\n",
              "      <td>1238.0</td>\n",
              "      <td>English</td>\n",
              "      <td>USA</td>\n",
              "      <td>PG-13</td>\n",
              "      <td>300.0</td>\n",
              "      <td>2007</td>\n",
              "      <td>5000.0</td>\n",
              "      <td>7.1</td>\n",
              "      <td>0</td>\n",
              "      <td>Action</td>\n",
              "      <td>2007.0</td>\n",
              "    </tr>\n",
              "    <tr>\n",
              "      <th>2</th>\n",
              "      <td>Sam Mendes</td>\n",
              "      <td>602.0</td>\n",
              "      <td>148.0</td>\n",
              "      <td>0.0</td>\n",
              "      <td>161.0</td>\n",
              "      <td>Rory Kinnear</td>\n",
              "      <td>11000.0</td>\n",
              "      <td>200.0</td>\n",
              "      <td>['Action', 'Adventure', 'Thriller']</td>\n",
              "      <td>Christoph Waltz</td>\n",
              "      <td>Spectre</td>\n",
              "      <td>275868</td>\n",
              "      <td>11700</td>\n",
              "      <td>Stephanie Sigman</td>\n",
              "      <td>['bomb', 'espionage', 'sequel', 'spy', 'terror...</td>\n",
              "      <td>http://www.imdb.com/title/tt2379713/?ref_=fn_t...</td>\n",
              "      <td>994.0</td>\n",
              "      <td>English</td>\n",
              "      <td>UK</td>\n",
              "      <td>PG-13</td>\n",
              "      <td>245.0</td>\n",
              "      <td>2015</td>\n",
              "      <td>393.0</td>\n",
              "      <td>6.8</td>\n",
              "      <td>85000</td>\n",
              "      <td>Action</td>\n",
              "      <td>2015.0</td>\n",
              "    </tr>\n",
              "    <tr>\n",
              "      <th>3</th>\n",
              "      <td>Christopher Nolan</td>\n",
              "      <td>813.0</td>\n",
              "      <td>164.0</td>\n",
              "      <td>22000.0</td>\n",
              "      <td>23000.0</td>\n",
              "      <td>Christian Bale</td>\n",
              "      <td>27000.0</td>\n",
              "      <td>448.0</td>\n",
              "      <td>['Action', 'Thriller']</td>\n",
              "      <td>Tom Hardy</td>\n",
              "      <td>The Dark Knight Rises</td>\n",
              "      <td>1144337</td>\n",
              "      <td>106759</td>\n",
              "      <td>Joseph Gordon-Levitt</td>\n",
              "      <td>['deception', 'imprisonment', 'lawlessness', '...</td>\n",
              "      <td>http://www.imdb.com/title/tt1345836/?ref_=fn_t...</td>\n",
              "      <td>2701.0</td>\n",
              "      <td>English</td>\n",
              "      <td>USA</td>\n",
              "      <td>PG-13</td>\n",
              "      <td>250.0</td>\n",
              "      <td>2012</td>\n",
              "      <td>23000.0</td>\n",
              "      <td>8.5</td>\n",
              "      <td>164000</td>\n",
              "      <td>Action</td>\n",
              "      <td>2012.0</td>\n",
              "    </tr>\n",
              "    <tr>\n",
              "      <th>4</th>\n",
              "      <td>Andrew Stanton</td>\n",
              "      <td>462.0</td>\n",
              "      <td>132.0</td>\n",
              "      <td>475.0</td>\n",
              "      <td>530.0</td>\n",
              "      <td>Samantha Morton</td>\n",
              "      <td>640.0</td>\n",
              "      <td>73.0</td>\n",
              "      <td>['Action', 'Adventure', 'Sci-Fi']</td>\n",
              "      <td>Daryl Sabara</td>\n",
              "      <td>John Carter</td>\n",
              "      <td>212204</td>\n",
              "      <td>1873</td>\n",
              "      <td>Polly Walker</td>\n",
              "      <td>['alien', 'american civil war', 'male nipple',...</td>\n",
              "      <td>http://www.imdb.com/title/tt0401729/?ref_=fn_t...</td>\n",
              "      <td>738.0</td>\n",
              "      <td>English</td>\n",
              "      <td>USA</td>\n",
              "      <td>PG-13</td>\n",
              "      <td>263.0</td>\n",
              "      <td>2012</td>\n",
              "      <td>632.0</td>\n",
              "      <td>6.6</td>\n",
              "      <td>24000</td>\n",
              "      <td>Action</td>\n",
              "      <td>2012.0</td>\n",
              "    </tr>\n",
              "  </tbody>\n",
              "</table>\n",
              "</div>"
            ],
            "text/plain": [
              "       director_name  num_critic_for_reviews  ...  first_genre    year\n",
              "0      James Cameron                   723.0  ...       Action  2009.0\n",
              "1     Gore Verbinski                   302.0  ...       Action  2007.0\n",
              "2         Sam Mendes                   602.0  ...       Action  2015.0\n",
              "3  Christopher Nolan                   813.0  ...       Action  2012.0\n",
              "4     Andrew Stanton                   462.0  ...       Action  2012.0\n",
              "\n",
              "[5 rows x 27 columns]"
            ]
          },
          "metadata": {},
          "execution_count": 127
        }
      ]
    },
    {
      "cell_type": "code",
      "metadata": {
        "colab": {
          "base_uri": "https://localhost:8080/",
          "height": 316
        },
        "id": "HPmeNGsxDgxd",
        "outputId": "b4726c99-b522-4a2a-a014-1dfdc7bd8673"
      },
      "source": [
        "df.describe()\n",
        "# the unit of number of users reviewed is unknown\n",
        "# assume at hundreds\n",
        "# because Lord of the rings: the fellowship has 1.7 million votes to date\n",
        "# but the number of user reviews for this movie is at around 5000, if 5000 x 1000 = 5 million\n",
        "# which doesn't make sense \n",
        "# so assume the unit is hundreds given this dataset was collected in 2016"
      ],
      "execution_count": 128,
      "outputs": [
        {
          "output_type": "execute_result",
          "data": {
            "text/html": [
              "<div>\n",
              "<style scoped>\n",
              "    .dataframe tbody tr th:only-of-type {\n",
              "        vertical-align: middle;\n",
              "    }\n",
              "\n",
              "    .dataframe tbody tr th {\n",
              "        vertical-align: top;\n",
              "    }\n",
              "\n",
              "    .dataframe thead th {\n",
              "        text-align: right;\n",
              "    }\n",
              "</style>\n",
              "<table border=\"1\" class=\"dataframe\">\n",
              "  <thead>\n",
              "    <tr style=\"text-align: right;\">\n",
              "      <th></th>\n",
              "      <th>num_critic_for_reviews</th>\n",
              "      <th>duration</th>\n",
              "      <th>director_facebook_likes</th>\n",
              "      <th>actor_3_facebook_likes</th>\n",
              "      <th>actor_1_facebook_likes</th>\n",
              "      <th>gross</th>\n",
              "      <th>num_voted_users</th>\n",
              "      <th>cast_total_facebook_likes</th>\n",
              "      <th>num_user_for_reviews</th>\n",
              "      <th>budget</th>\n",
              "      <th>title_year</th>\n",
              "      <th>actor_2_facebook_likes</th>\n",
              "      <th>imdb_score</th>\n",
              "      <th>movie_facebook_likes</th>\n",
              "      <th>year</th>\n",
              "    </tr>\n",
              "  </thead>\n",
              "  <tbody>\n",
              "    <tr>\n",
              "      <th>count</th>\n",
              "      <td>4603.000000</td>\n",
              "      <td>4603.000000</td>\n",
              "      <td>4603.000000</td>\n",
              "      <td>4603.000000</td>\n",
              "      <td>4603.000000</td>\n",
              "      <td>4603.00000</td>\n",
              "      <td>4.603000e+03</td>\n",
              "      <td>4603.000000</td>\n",
              "      <td>4603.000000</td>\n",
              "      <td>4603.000000</td>\n",
              "      <td>4603.000000</td>\n",
              "      <td>4603.000000</td>\n",
              "      <td>4603.000000</td>\n",
              "      <td>4603.000000</td>\n",
              "      <td>4603.000000</td>\n",
              "    </tr>\n",
              "    <tr>\n",
              "      <th>mean</th>\n",
              "      <td>145.524054</td>\n",
              "      <td>107.800911</td>\n",
              "      <td>714.857484</td>\n",
              "      <td>691.348786</td>\n",
              "      <td>7024.391798</td>\n",
              "      <td>49.67308</td>\n",
              "      <td>8.827469e+04</td>\n",
              "      <td>10399.884858</td>\n",
              "      <td>286.423218</td>\n",
              "      <td>34.202276</td>\n",
              "      <td>2002.356289</td>\n",
              "      <td>1783.475031</td>\n",
              "      <td>6.374082</td>\n",
              "      <td>7877.853139</td>\n",
              "      <td>2002.356289</td>\n",
              "    </tr>\n",
              "    <tr>\n",
              "      <th>std</th>\n",
              "      <td>122.327045</td>\n",
              "      <td>21.970793</td>\n",
              "      <td>2886.869352</td>\n",
              "      <td>1730.434182</td>\n",
              "      <td>15131.577484</td>\n",
              "      <td>64.97751</td>\n",
              "      <td>1.425266e+05</td>\n",
              "      <td>18439.859915</td>\n",
              "      <td>385.949710</td>\n",
              "      <td>40.962220</td>\n",
              "      <td>12.317805</td>\n",
              "      <td>4200.750090</td>\n",
              "      <td>1.111607</td>\n",
              "      <td>19964.966466</td>\n",
              "      <td>12.317805</td>\n",
              "    </tr>\n",
              "    <tr>\n",
              "      <th>min</th>\n",
              "      <td>1.000000</td>\n",
              "      <td>7.000000</td>\n",
              "      <td>0.000000</td>\n",
              "      <td>0.000000</td>\n",
              "      <td>0.000000</td>\n",
              "      <td>0.00000</td>\n",
              "      <td>5.000000e+00</td>\n",
              "      <td>0.000000</td>\n",
              "      <td>1.000000</td>\n",
              "      <td>0.000000</td>\n",
              "      <td>1929.000000</td>\n",
              "      <td>0.000000</td>\n",
              "      <td>1.600000</td>\n",
              "      <td>0.000000</td>\n",
              "      <td>1929.000000</td>\n",
              "    </tr>\n",
              "    <tr>\n",
              "      <th>25%</th>\n",
              "      <td>56.000000</td>\n",
              "      <td>94.000000</td>\n",
              "      <td>7.000000</td>\n",
              "      <td>168.500000</td>\n",
              "      <td>682.000000</td>\n",
              "      <td>10.00000</td>\n",
              "      <td>9.964000e+03</td>\n",
              "      <td>1652.000000</td>\n",
              "      <td>74.000000</td>\n",
              "      <td>7.000000</td>\n",
              "      <td>1999.000000</td>\n",
              "      <td>333.500000</td>\n",
              "      <td>5.800000</td>\n",
              "      <td>0.000000</td>\n",
              "      <td>1999.000000</td>\n",
              "    </tr>\n",
              "    <tr>\n",
              "      <th>50%</th>\n",
              "      <td>117.000000</td>\n",
              "      <td>103.000000</td>\n",
              "      <td>51.000000</td>\n",
              "      <td>401.000000</td>\n",
              "      <td>1000.000000</td>\n",
              "      <td>31.00000</td>\n",
              "      <td>3.795200e+04</td>\n",
              "      <td>3408.000000</td>\n",
              "      <td>168.000000</td>\n",
              "      <td>22.000000</td>\n",
              "      <td>2005.000000</td>\n",
              "      <td>636.000000</td>\n",
              "      <td>6.500000</td>\n",
              "      <td>175.000000</td>\n",
              "      <td>2005.000000</td>\n",
              "    </tr>\n",
              "    <tr>\n",
              "      <th>75%</th>\n",
              "      <td>198.000000</td>\n",
              "      <td>118.000000</td>\n",
              "      <td>207.000000</td>\n",
              "      <td>653.500000</td>\n",
              "      <td>12000.000000</td>\n",
              "      <td>66.00000</td>\n",
              "      <td>1.028040e+05</td>\n",
              "      <td>14747.000000</td>\n",
              "      <td>343.500000</td>\n",
              "      <td>44.000000</td>\n",
              "      <td>2011.000000</td>\n",
              "      <td>943.500000</td>\n",
              "      <td>7.100000</td>\n",
              "      <td>5000.000000</td>\n",
              "      <td>2011.000000</td>\n",
              "    </tr>\n",
              "    <tr>\n",
              "      <th>max</th>\n",
              "      <td>813.000000</td>\n",
              "      <td>330.000000</td>\n",
              "      <td>23000.000000</td>\n",
              "      <td>23000.000000</td>\n",
              "      <td>640000.000000</td>\n",
              "      <td>760.00000</td>\n",
              "      <td>1.689764e+06</td>\n",
              "      <td>656730.000000</td>\n",
              "      <td>5060.000000</td>\n",
              "      <td>390.000000</td>\n",
              "      <td>2016.000000</td>\n",
              "      <td>137000.000000</td>\n",
              "      <td>9.300000</td>\n",
              "      <td>349000.000000</td>\n",
              "      <td>2016.000000</td>\n",
              "    </tr>\n",
              "  </tbody>\n",
              "</table>\n",
              "</div>"
            ],
            "text/plain": [
              "       num_critic_for_reviews     duration  ...  movie_facebook_likes         year\n",
              "count             4603.000000  4603.000000  ...           4603.000000  4603.000000\n",
              "mean               145.524054   107.800911  ...           7877.853139  2002.356289\n",
              "std                122.327045    21.970793  ...          19964.966466    12.317805\n",
              "min                  1.000000     7.000000  ...              0.000000  1929.000000\n",
              "25%                 56.000000    94.000000  ...              0.000000  1999.000000\n",
              "50%                117.000000   103.000000  ...            175.000000  2005.000000\n",
              "75%                198.000000   118.000000  ...           5000.000000  2011.000000\n",
              "max                813.000000   330.000000  ...         349000.000000  2016.000000\n",
              "\n",
              "[8 rows x 15 columns]"
            ]
          },
          "metadata": {},
          "execution_count": 128
        }
      ]
    },
    {
      "cell_type": "code",
      "metadata": {
        "colab": {
          "base_uri": "https://localhost:8080/"
        },
        "id": "sNGkaZoLu-Wk",
        "outputId": "3153d116-dbd1-4fd7-d318-10c07241f185"
      },
      "source": [
        "df.info()"
      ],
      "execution_count": 129,
      "outputs": [
        {
          "output_type": "stream",
          "name": "stdout",
          "text": [
            "<class 'pandas.core.frame.DataFrame'>\n",
            "Int64Index: 4603 entries, 0 to 4931\n",
            "Data columns (total 27 columns):\n",
            " #   Column                     Non-Null Count  Dtype  \n",
            "---  ------                     --------------  -----  \n",
            " 0   director_name              4603 non-null   object \n",
            " 1   num_critic_for_reviews     4603 non-null   float64\n",
            " 2   duration                   4603 non-null   float64\n",
            " 3   director_facebook_likes    4603 non-null   float64\n",
            " 4   actor_3_facebook_likes     4603 non-null   float64\n",
            " 5   actor_2_name               4595 non-null   object \n",
            " 6   actor_1_facebook_likes     4603 non-null   float64\n",
            " 7   gross                      4603 non-null   float64\n",
            " 8   genres                     4603 non-null   object \n",
            " 9   actor_1_name               4597 non-null   object \n",
            " 10  movie_title                4603 non-null   object \n",
            " 11  num_voted_users            4603 non-null   int64  \n",
            " 12  cast_total_facebook_likes  4603 non-null   int64  \n",
            " 13  actor_3_name               4587 non-null   object \n",
            " 14  plot_keywords              4489 non-null   object \n",
            " 15  movie_imdb_link            4603 non-null   object \n",
            " 16  num_user_for_reviews       4603 non-null   float64\n",
            " 17  language                   4603 non-null   object \n",
            " 18  country                    4602 non-null   object \n",
            " 19  content_rating             4427 non-null   object \n",
            " 20  budget                     4603 non-null   float64\n",
            " 21  title_year                 4603 non-null   int64  \n",
            " 22  actor_2_facebook_likes     4603 non-null   float64\n",
            " 23  imdb_score                 4603 non-null   float64\n",
            " 24  movie_facebook_likes       4603 non-null   int64  \n",
            " 25  first_genre                4603 non-null   object \n",
            " 26  year                       4603 non-null   float64\n",
            "dtypes: float64(11), int64(4), object(12)\n",
            "memory usage: 1006.9+ KB\n"
          ]
        }
      ]
    },
    {
      "cell_type": "code",
      "metadata": {
        "colab": {
          "base_uri": "https://localhost:8080/"
        },
        "id": "iKdFCzUDHwK8",
        "outputId": "427984dc-49fe-4c5f-e15a-9e09e7ec2b86"
      },
      "source": [
        "# write this df to file again\n",
        "# since we made changes again in this notebook\n",
        "df.to_csv('clean_imdb_2.csv')\n",
        "!cp clean_imdb_2.csv \"drive/My Drive/\""
      ],
      "execution_count": 237,
      "outputs": [
        {
          "output_type": "stream",
          "name": "stdout",
          "text": [
            "cp: cannot create regular file 'drive/My Drive/': No such file or directory\n"
          ]
        }
      ]
    },
    {
      "cell_type": "markdown",
      "metadata": {
        "id": "fwGGSdFk2H7D"
      },
      "source": [
        "## 1.1: count of movies by genre\n",
        "\n",
        "* from the last notebook (Preprocessing) we assumed that the first genre that each movies is tagged with, is \"the strongest genre\" it definitely belongs to.\n",
        "\n",
        "* A column has been created, called \"first_genre\"\n",
        "\n",
        "* we'll look at count of movies by \"first_genre\" "
      ]
    },
    {
      "cell_type": "code",
      "metadata": {
        "id": "LQDOpOXqvD88"
      },
      "source": [
        "# deep copy df\n",
        "df1 = df.copy()"
      ],
      "execution_count": 130,
      "outputs": []
    },
    {
      "cell_type": "code",
      "metadata": {
        "colab": {
          "base_uri": "https://localhost:8080/"
        },
        "id": "n8OdY8Xv2ryE",
        "outputId": "3a737e23-93fd-4676-afb2-562841817ca0"
      },
      "source": [
        "df1.groupby(\"first_genre\").size().sort_values(ascending=False)"
      ],
      "execution_count": 131,
      "outputs": [
        {
          "output_type": "execute_result",
          "data": {
            "text/plain": [
              "first_genre\n",
              "Comedy         1232\n",
              "Action         1065\n",
              "Drama           839\n",
              "Adventure       422\n",
              "Crime           310\n",
              "Biography       240\n",
              "Horror          224\n",
              "Documentary      73\n",
              "Fantasy          51\n",
              "Animation        50\n",
              "Mystery          32\n",
              "Thriller         21\n",
              "Sci-Fi           13\n",
              "Western          11\n",
              "Family           11\n",
              "Romance           5\n",
              "Musical           4\n",
              "dtype: int64"
            ]
          },
          "metadata": {},
          "execution_count": 131
        }
      ]
    },
    {
      "cell_type": "code",
      "metadata": {
        "colab": {
          "base_uri": "https://localhost:8080/",
          "height": 421
        },
        "id": "f5-0OlEI4au3",
        "outputId": "172b65f4-2881-4bdc-e5cd-7c5fe857e224"
      },
      "source": [
        "fig,axs=plt.subplots(figsize=(10, 6))\n",
        "sns.countplot(y = 'first_genre',\n",
        "              data = df1,\n",
        "              order = df1['first_genre'].value_counts().index).set_title(\"Num of movies by genre\", weight = \"bold\")"
      ],
      "execution_count": 132,
      "outputs": [
        {
          "output_type": "execute_result",
          "data": {
            "text/plain": [
              "Text(0.5, 1.0, 'Num of movies by genre')"
            ]
          },
          "metadata": {},
          "execution_count": 132
        },
        {
          "output_type": "display_data",
          "data": {
            "image/png": "[encoded data removed]",
            "text/plain": [
              "<Figure size 720x432 with 1 Axes>"
            ]
          },
          "metadata": {
            "needs_background": "light"
          }
        }
      ]
    },
    {
      "cell_type": "markdown",
      "metadata": {
        "id": "QmyaDGI2-uCd"
      },
      "source": [
        "## 1.2: Top 10 Most voted movies"
      ]
    },
    {
      "cell_type": "code",
      "metadata": {
        "id": "cQlC2PVQAqZj"
      },
      "source": [
        "top_voted = df1.sort_values(['num_user_for_reviews'], ascending = False)"
      ],
      "execution_count": 133,
      "outputs": []
    },
    {
      "cell_type": "code",
      "metadata": {
        "colab": {
          "base_uri": "https://localhost:8080/",
          "height": 622
        },
        "id": "FyhfpmK394Aw",
        "outputId": "ffef16ee-5371-4b07-bfde-85a01594efaf"
      },
      "source": [
        "import matplotlib.pyplot as plt \n",
        "fig,axs=plt.subplots(figsize=(10, 10))\n",
        "g=sns.barplot(y=top_voted['movie_title'][:10],x=top_voted['num_user_for_reviews'][:10], palette = 'hls')\n",
        "g.set_title(\"Top 10 Voted Movies\", weight = \"bold\")\n",
        "plt.show()"
      ],
      "execution_count": 134,
      "outputs": [
        {
          "output_type": "display_data",
          "data": {
            "image/png": "[encoded data removed]",
            "text/plain": [
              "<Figure size 720x720 with 1 Axes>"
            ]
          },
          "metadata": {
            "needs_background": "light"
          }
        }
      ]
    },
    {
      "cell_type": "markdown",
      "metadata": {
        "id": "w2qU3hiCHvjB"
      },
      "source": [
        "Are we surprised at the top 10 voted piece? Not really. I'm slightly surprised at The Blair Witch Project, because I'm unfamiliar with this one."
      ]
    },
    {
      "cell_type": "markdown",
      "metadata": {
        "id": "qGJXH2WMIHQ-"
      },
      "source": [
        "## 1.3: Top 10 voted films vs their imdb scores"
      ]
    },
    {
      "cell_type": "code",
      "metadata": {
        "colab": {
          "base_uri": "https://localhost:8080/",
          "height": 359
        },
        "id": "x_Eduy4FIGNA",
        "outputId": "6871d767-fb63-4208-ca88-79a6514d3444"
      },
      "source": [
        "top_voted[:10][[\"movie_title\", \"num_user_for_reviews\",\"imdb_score\"]]"
      ],
      "execution_count": 135,
      "outputs": [
        {
          "output_type": "execute_result",
          "data": {
            "text/html": [
              "<div>\n",
              "<style scoped>\n",
              "    .dataframe tbody tr th:only-of-type {\n",
              "        vertical-align: middle;\n",
              "    }\n",
              "\n",
              "    .dataframe tbody tr th {\n",
              "        vertical-align: top;\n",
              "    }\n",
              "\n",
              "    .dataframe thead th {\n",
              "        text-align: right;\n",
              "    }\n",
              "</style>\n",
              "<table border=\"1\" class=\"dataframe\">\n",
              "  <thead>\n",
              "    <tr style=\"text-align: right;\">\n",
              "      <th></th>\n",
              "      <th>movie_title</th>\n",
              "      <th>num_user_for_reviews</th>\n",
              "      <th>imdb_score</th>\n",
              "    </tr>\n",
              "  </thead>\n",
              "  <tbody>\n",
              "    <tr>\n",
              "      <th>267</th>\n",
              "      <td>The Lord of the Rings: The Fellowship of the R...</td>\n",
              "      <td>5060.0</td>\n",
              "      <td>8.8</td>\n",
              "    </tr>\n",
              "    <tr>\n",
              "      <th>65</th>\n",
              "      <td>The Dark Knight</td>\n",
              "      <td>4667.0</td>\n",
              "      <td>9.0</td>\n",
              "    </tr>\n",
              "    <tr>\n",
              "      <th>1900</th>\n",
              "      <td>The Shawshank Redemption</td>\n",
              "      <td>4144.0</td>\n",
              "      <td>9.3</td>\n",
              "    </tr>\n",
              "    <tr>\n",
              "      <th>643</th>\n",
              "      <td>The Matrix</td>\n",
              "      <td>3646.0</td>\n",
              "      <td>8.7</td>\n",
              "    </tr>\n",
              "    <tr>\n",
              "      <th>238</th>\n",
              "      <td>Star Wars: Episode I - The Phantom Menace</td>\n",
              "      <td>3597.0</td>\n",
              "      <td>6.5</td>\n",
              "    </tr>\n",
              "    <tr>\n",
              "      <th>235</th>\n",
              "      <td>Star Wars: Episode II - Attack of the Clones</td>\n",
              "      <td>3516.0</td>\n",
              "      <td>6.7</td>\n",
              "    </tr>\n",
              "    <tr>\n",
              "      <th>4602</th>\n",
              "      <td>The Blair Witch Project</td>\n",
              "      <td>3400.0</td>\n",
              "      <td>6.4</td>\n",
              "    </tr>\n",
              "    <tr>\n",
              "      <th>234</th>\n",
              "      <td>Star Wars: Episode III - Revenge of the Sith</td>\n",
              "      <td>3286.0</td>\n",
              "      <td>7.6</td>\n",
              "    </tr>\n",
              "    <tr>\n",
              "      <th>335</th>\n",
              "      <td>The Lord of the Rings: The Return of the King</td>\n",
              "      <td>3189.0</td>\n",
              "      <td>8.9</td>\n",
              "    </tr>\n",
              "    <tr>\n",
              "      <th>0</th>\n",
              "      <td>Avatar</td>\n",
              "      <td>3054.0</td>\n",
              "      <td>7.9</td>\n",
              "    </tr>\n",
              "  </tbody>\n",
              "</table>\n",
              "</div>"
            ],
            "text/plain": [
              "                                            movie_title  ...  imdb_score\n",
              "267   The Lord of the Rings: The Fellowship of the R...  ...         8.8\n",
              "65                                     The Dark Knight   ...         9.0\n",
              "1900                          The Shawshank Redemption   ...         9.3\n",
              "643                                         The Matrix   ...         8.7\n",
              "238          Star Wars: Episode I - The Phantom Menace   ...         6.5\n",
              "235       Star Wars: Episode II - Attack of the Clones   ...         6.7\n",
              "4602                           The Blair Witch Project   ...         6.4\n",
              "234       Star Wars: Episode III - Revenge of the Sith   ...         7.6\n",
              "335      The Lord of the Rings: The Return of the King   ...         8.9\n",
              "0                                               Avatar   ...         7.9\n",
              "\n",
              "[10 rows x 3 columns]"
            ]
          },
          "metadata": {},
          "execution_count": 135
        }
      ]
    },
    {
      "cell_type": "markdown",
      "metadata": {
        "id": "aG76pGPYMtzM"
      },
      "source": [
        "I'm surprised that Starwars 1 & 2, and the blair wtich project are rated quite low. Everything else on the chart are quite highly rated."
      ]
    },
    {
      "cell_type": "markdown",
      "metadata": {
        "id": "f3yhqyniNRK5"
      },
      "source": [
        "## 1.4: How many movies are in each rating bucket?\n",
        "* horrible = 0 - 4\n",
        "* poor = 4.1 - 6\n",
        "* okay = 6.1 - 7.5\n",
        "* high = 7.6 - 8.5\n",
        "* amazing = 8.6 - 10"
      ]
    },
    {
      "cell_type": "code",
      "metadata": {
        "id": "hWJf42RlVuAI"
      },
      "source": [
        "df1['score_bin'] = pd.cut(df1.imdb_score, [0, 4, 6, 7.5, 8.5, 10],\n",
        "                              labels=['horrible', 'poor', 'okay', 'high', 'amazing'], right = True)"
      ],
      "execution_count": 136,
      "outputs": []
    },
    {
      "cell_type": "code",
      "metadata": {
        "colab": {
          "base_uri": "https://localhost:8080/"
        },
        "id": "PppzJvkTXWjb",
        "outputId": "67627e70-92f1-4a30-b472-f715873761b7"
      },
      "source": [
        "df1.groupby(\"score_bin\").size()"
      ],
      "execution_count": 137,
      "outputs": [
        {
          "output_type": "execute_result",
          "data": {
            "text/plain": [
              "score_bin\n",
              "horrible     169\n",
              "poor        1356\n",
              "okay        2492\n",
              "high         554\n",
              "amazing       32\n",
              "dtype: int64"
            ]
          },
          "metadata": {},
          "execution_count": 137
        }
      ]
    },
    {
      "cell_type": "code",
      "metadata": {
        "colab": {
          "base_uri": "https://localhost:8080/",
          "height": 367
        },
        "id": "xbk3ca__YjNS",
        "outputId": "bd1b6dde-5b28-487f-e82b-81822f9c8b8e"
      },
      "source": [
        "fig,axs=plt.subplots(figsize=(6, 4))\n",
        "sns.countplot('score_bin', data=df1).set_title(\"Num of movies in each rating bucket\", weight = \"bold\")"
      ],
      "execution_count": 139,
      "outputs": [
        {
          "output_type": "stream",
          "name": "stderr",
          "text": [
            "/usr/local/lib/python3.7/dist-packages/seaborn/_decorators.py:43: FutureWarning: Pass the following variable as a keyword arg: x. From version 0.12, the only valid positional argument will be `data`, and passing other arguments without an explicit keyword will result in an error or misinterpretation.\n",
            "  FutureWarning\n"
          ]
        },
        {
          "output_type": "execute_result",
          "data": {
            "text/plain": [
              "Text(0.5, 1.0, 'Num of movies in each rating bucket')"
            ]
          },
          "metadata": {},
          "execution_count": 139
        },
        {
          "output_type": "display_data",
          "data": {
            "image/png": "[encoded data removed]",
            "text/plain": [
              "<Figure size 432x288 with 1 Axes>"
            ]
          },
          "metadata": {
            "needs_background": "light"
          }
        }
      ]
    },
    {
      "cell_type": "markdown",
      "metadata": {
        "id": "DdGnVPDlaFSU"
      },
      "source": [
        "## 1.5: Top 10 Genres with the highest mean gross"
      ]
    },
    {
      "cell_type": "code",
      "metadata": {
        "id": "vttMQHHCaEwS"
      },
      "source": [
        "gross_ = df1.groupby(\"first_genre\")[\"gross\"].mean().reset_index()\n",
        "gross_10 = gross_.sort_values(\"gross\", ascending = False)[:10]"
      ],
      "execution_count": 140,
      "outputs": []
    },
    {
      "cell_type": "code",
      "metadata": {
        "colab": {
          "base_uri": "https://localhost:8080/",
          "height": 359
        },
        "id": "ksZDoJdZcWDt",
        "outputId": "530c7e7f-a90c-4d5c-8434-1042bb0286ff"
      },
      "source": [
        "gross_10"
      ],
      "execution_count": 141,
      "outputs": [
        {
          "output_type": "execute_result",
          "data": {
            "text/html": [
              "<div>\n",
              "<style scoped>\n",
              "    .dataframe tbody tr th:only-of-type {\n",
              "        vertical-align: middle;\n",
              "    }\n",
              "\n",
              "    .dataframe tbody tr th {\n",
              "        vertical-align: top;\n",
              "    }\n",
              "\n",
              "    .dataframe thead th {\n",
              "        text-align: right;\n",
              "    }\n",
              "</style>\n",
              "<table border=\"1\" class=\"dataframe\">\n",
              "  <thead>\n",
              "    <tr style=\"text-align: right;\">\n",
              "      <th></th>\n",
              "      <th>first_genre</th>\n",
              "      <th>gross</th>\n",
              "    </tr>\n",
              "  </thead>\n",
              "  <tbody>\n",
              "    <tr>\n",
              "      <th>8</th>\n",
              "      <td>Family</td>\n",
              "      <td>148.666667</td>\n",
              "    </tr>\n",
              "    <tr>\n",
              "      <th>2</th>\n",
              "      <td>Animation</td>\n",
              "      <td>93.108000</td>\n",
              "    </tr>\n",
              "    <tr>\n",
              "      <th>1</th>\n",
              "      <td>Adventure</td>\n",
              "      <td>88.678523</td>\n",
              "    </tr>\n",
              "    <tr>\n",
              "      <th>0</th>\n",
              "      <td>Action</td>\n",
              "      <td>78.668786</td>\n",
              "    </tr>\n",
              "    <tr>\n",
              "      <th>11</th>\n",
              "      <td>Musical</td>\n",
              "      <td>61.000000</td>\n",
              "    </tr>\n",
              "    <tr>\n",
              "      <th>12</th>\n",
              "      <td>Mystery</td>\n",
              "      <td>48.250000</td>\n",
              "    </tr>\n",
              "    <tr>\n",
              "      <th>9</th>\n",
              "      <td>Fantasy</td>\n",
              "      <td>38.795098</td>\n",
              "    </tr>\n",
              "    <tr>\n",
              "      <th>4</th>\n",
              "      <td>Comedy</td>\n",
              "      <td>36.324399</td>\n",
              "    </tr>\n",
              "    <tr>\n",
              "      <th>3</th>\n",
              "      <td>Biography</td>\n",
              "      <td>35.794833</td>\n",
              "    </tr>\n",
              "    <tr>\n",
              "      <th>10</th>\n",
              "      <td>Horror</td>\n",
              "      <td>35.159332</td>\n",
              "    </tr>\n",
              "  </tbody>\n",
              "</table>\n",
              "</div>"
            ],
            "text/plain": [
              "   first_genre       gross\n",
              "8       Family  148.666667\n",
              "2    Animation   93.108000\n",
              "1    Adventure   88.678523\n",
              "0       Action   78.668786\n",
              "11     Musical   61.000000\n",
              "12     Mystery   48.250000\n",
              "9      Fantasy   38.795098\n",
              "4       Comedy   36.324399\n",
              "3    Biography   35.794833\n",
              "10      Horror   35.159332"
            ]
          },
          "metadata": {},
          "execution_count": 141
        }
      ]
    },
    {
      "cell_type": "code",
      "metadata": {
        "colab": {
          "base_uri": "https://localhost:8080/",
          "height": 530
        },
        "id": "a71YpVjedStr",
        "outputId": "8f00bf38-237e-493f-ae65-769b662444d9"
      },
      "source": [
        "fig,axs=plt.subplots(figsize=(10, 8))\n",
        "sns.barplot(y = 'first_genre', x = 'gross', data=gross_10).set_title(\"Top 10 Genres with the highest mean gross\", weight = \"bold\")"
      ],
      "execution_count": 142,
      "outputs": [
        {
          "output_type": "execute_result",
          "data": {
            "text/plain": [
              "Text(0.5, 1.0, 'Top 10 Genres with the highest mean gross')"
            ]
          },
          "metadata": {},
          "execution_count": 142
        },
        {
          "output_type": "display_data",
          "data": {
            "image/png": "[encoded data removed]",
            "text/plain": [
              "<Figure size 720x576 with 1 Axes>"
            ]
          },
          "metadata": {
            "needs_background": "light"
          }
        }
      ]
    },
    {
      "cell_type": "markdown",
      "metadata": {
        "id": "gv9pl-WRdqN0"
      },
      "source": [
        "## 1.6: Top 10 Genres with the highest mean budget"
      ]
    },
    {
      "cell_type": "code",
      "metadata": {
        "id": "JFgaGqxqdwQX"
      },
      "source": [
        "budget_ = df1.groupby(\"first_genre\")[\"budget\"].mean().reset_index()\n",
        "budget_10 = budget_.sort_values(\"budget\", ascending = False)[:10]"
      ],
      "execution_count": 143,
      "outputs": []
    },
    {
      "cell_type": "code",
      "metadata": {
        "colab": {
          "base_uri": "https://localhost:8080/",
          "height": 359
        },
        "id": "T8KFBta2d-ct",
        "outputId": "e9bc8b21-0049-4ba2-8b3c-5c0c904167b5"
      },
      "source": [
        "budget_10"
      ],
      "execution_count": 144,
      "outputs": [
        {
          "output_type": "execute_result",
          "data": {
            "text/html": [
              "<div>\n",
              "<style scoped>\n",
              "    .dataframe tbody tr th:only-of-type {\n",
              "        vertical-align: middle;\n",
              "    }\n",
              "\n",
              "    .dataframe tbody tr th {\n",
              "        vertical-align: top;\n",
              "    }\n",
              "\n",
              "    .dataframe thead th {\n",
              "        text-align: right;\n",
              "    }\n",
              "</style>\n",
              "<table border=\"1\" class=\"dataframe\">\n",
              "  <thead>\n",
              "    <tr style=\"text-align: right;\">\n",
              "      <th></th>\n",
              "      <th>first_genre</th>\n",
              "      <th>budget</th>\n",
              "    </tr>\n",
              "  </thead>\n",
              "  <tbody>\n",
              "    <tr>\n",
              "      <th>0</th>\n",
              "      <td>Action</td>\n",
              "      <td>61.131870</td>\n",
              "    </tr>\n",
              "    <tr>\n",
              "      <th>1</th>\n",
              "      <td>Adventure</td>\n",
              "      <td>61.041516</td>\n",
              "    </tr>\n",
              "    <tr>\n",
              "      <th>2</th>\n",
              "      <td>Animation</td>\n",
              "      <td>55.290588</td>\n",
              "    </tr>\n",
              "    <tr>\n",
              "      <th>12</th>\n",
              "      <td>Mystery</td>\n",
              "      <td>26.784180</td>\n",
              "    </tr>\n",
              "    <tr>\n",
              "      <th>5</th>\n",
              "      <td>Crime</td>\n",
              "      <td>24.710002</td>\n",
              "    </tr>\n",
              "    <tr>\n",
              "      <th>3</th>\n",
              "      <td>Biography</td>\n",
              "      <td>24.701985</td>\n",
              "    </tr>\n",
              "    <tr>\n",
              "      <th>13</th>\n",
              "      <td>Romance</td>\n",
              "      <td>24.000000</td>\n",
              "    </tr>\n",
              "    <tr>\n",
              "      <th>4</th>\n",
              "      <td>Comedy</td>\n",
              "      <td>21.888675</td>\n",
              "    </tr>\n",
              "    <tr>\n",
              "      <th>7</th>\n",
              "      <td>Drama</td>\n",
              "      <td>21.675574</td>\n",
              "    </tr>\n",
              "    <tr>\n",
              "      <th>14</th>\n",
              "      <td>Sci-Fi</td>\n",
              "      <td>17.076923</td>\n",
              "    </tr>\n",
              "  </tbody>\n",
              "</table>\n",
              "</div>"
            ],
            "text/plain": [
              "   first_genre     budget\n",
              "0       Action  61.131870\n",
              "1    Adventure  61.041516\n",
              "2    Animation  55.290588\n",
              "12     Mystery  26.784180\n",
              "5        Crime  24.710002\n",
              "3    Biography  24.701985\n",
              "13     Romance  24.000000\n",
              "4       Comedy  21.888675\n",
              "7        Drama  21.675574\n",
              "14      Sci-Fi  17.076923"
            ]
          },
          "metadata": {},
          "execution_count": 144
        }
      ]
    },
    {
      "cell_type": "code",
      "metadata": {
        "colab": {
          "base_uri": "https://localhost:8080/",
          "height": 530
        },
        "id": "KApMRpXgeBtB",
        "outputId": "ade3c09a-8bb6-4161-a685-0cf504c71b87"
      },
      "source": [
        "fig,axs=plt.subplots(figsize=(10, 8))\n",
        "sns.barplot(y = 'first_genre', x = 'budget', data=budget_10).set_title(\"Top 10 Genres with the highest mean budget\", weight = \"bold\")"
      ],
      "execution_count": 145,
      "outputs": [
        {
          "output_type": "execute_result",
          "data": {
            "text/plain": [
              "Text(0.5, 1.0, 'Top 10 Genres with the highest mean budget')"
            ]
          },
          "metadata": {},
          "execution_count": 145
        },
        {
          "output_type": "display_data",
          "data": {
            "image/png": "[encoded data removed]",
            "text/plain": [
              "<Figure size 720x576 with 1 Axes>"
            ]
          },
          "metadata": {
            "needs_background": "light"
          }
        }
      ]
    },
    {
      "cell_type": "markdown",
      "metadata": {
        "id": "tq_9l1hoe6bO"
      },
      "source": [
        "## 1.7: Top 10 movies by highest gross"
      ]
    },
    {
      "cell_type": "code",
      "metadata": {
        "colab": {
          "base_uri": "https://localhost:8080/",
          "height": 429
        },
        "id": "oaiaO9Oie-1v",
        "outputId": "f50f241e-50c5-4926-bf63-e013311bdb79"
      },
      "source": [
        "top_gross = df1.sort_values(['gross'], ascending = False)\n",
        "fig,axs=plt.subplots(figsize=(15, 8))\n",
        "g=sns.barplot(y=top_gross['movie_title'][:10],x=top_gross['gross'][:10], palette = 'husl')\n",
        "g.set_title(\"Top 10 Movies with highest Gross\", weight = \"bold\")\n",
        "plt.show()"
      ],
      "execution_count": 146,
      "outputs": [
        {
          "output_type": "display_data",
          "data": {
            "image/png": "[encoded data removed]",
            "text/plain": [
              "<Figure size 1080x576 with 1 Axes>"
            ]
          },
          "metadata": {
            "needs_background": "light"
          }
        }
      ]
    },
    {
      "cell_type": "markdown",
      "metadata": {
        "id": "FykSXlXogf7-"
      },
      "source": [
        "## 1.8: Top 10 movies by highest budget"
      ]
    },
    {
      "cell_type": "code",
      "metadata": {
        "colab": {
          "base_uri": "https://localhost:8080/",
          "height": 435
        },
        "id": "IxZeCSuEgm3C",
        "outputId": "c4a71d21-1055-4fc2-9403-325047d5e1e3"
      },
      "source": [
        "top_budget = df1.sort_values(['budget'], ascending = False)\n",
        "fig,axs=plt.subplots(figsize=(15, 8))\n",
        "g=sns.barplot(y=top_budget['movie_title'][:10],x=top_budget['budget'][:10], palette = 'hls')\n",
        "g.set_title(\"Top 10 Movies with highest Budget\", weight = \"bold\")\n",
        "plt.show()"
      ],
      "execution_count": 147,
      "outputs": [
        {
          "output_type": "display_data",
          "data": {
            "image/png": "[encoded data removed]",
            "text/plain": [
              "<Figure size 1080x576 with 1 Axes>"
            ]
          },
          "metadata": {
            "needs_background": "light"
          }
        }
      ]
    },
    {
      "cell_type": "markdown",
      "metadata": {
        "id": "ncaK1sKkixy7"
      },
      "source": [
        "NOTE: Before non-english & Kites were deleted from df, in the first run of this query on the original df, almost all of the top 10 most expensive movies made no sense. Upon research, their budget was recorded in a non-USD currency. For example, The Host (most expensive in that query) is a Korean movie, and the budget is in KRW, which resulted in the crazy number.\n",
        "\n",
        "* below in comment mode is the original code run to discover the details of such problem. They are kept in comment to avoid confusion \n",
        "\n",
        "* I moved the process of removing unqualified titles from the original df in the beginning of the notebook, right after the original data is read from google drive."
      ]
    },
    {
      "cell_type": "code",
      "metadata": {
        "colab": {
          "base_uri": "https://localhost:8080/"
        },
        "id": "vHLMygTbky89",
        "outputId": "9ee7dfea-e73b-4d37-f325-b2d2ef00dc84"
      },
      "source": [
        "# len(df.loc[df['language'] != 'English'])"
      ],
      "execution_count": 91,
      "outputs": [
        {
          "output_type": "execute_result",
          "data": {
            "text/plain": [
              "328"
            ]
          },
          "metadata": {},
          "execution_count": 91
        }
      ]
    },
    {
      "cell_type": "code",
      "metadata": {
        "id": "gVgle0LtmTgD"
      },
      "source": [
        "# non_eng_languages = df[\"language\"] != \"English\""
      ],
      "execution_count": 94,
      "outputs": []
    },
    {
      "cell_type": "code",
      "metadata": {
        "colab": {
          "base_uri": "https://localhost:8080/",
          "height": 496
        },
        "id": "v9zzbb2yo3bZ",
        "outputId": "6a901c39-4c4d-4892-ac44-1bc8cc430112"
      },
      "source": [
        "# df[non_eng_languages].head()"
      ],
      "execution_count": 97,
      "outputs": [
        {
          "output_type": "execute_result",
          "data": {
            "text/html": [
              "<div>\n",
              "<style scoped>\n",
              "    .dataframe tbody tr th:only-of-type {\n",
              "        vertical-align: middle;\n",
              "    }\n",
              "\n",
              "    .dataframe tbody tr th {\n",
              "        vertical-align: top;\n",
              "    }\n",
              "\n",
              "    .dataframe thead th {\n",
              "        text-align: right;\n",
              "    }\n",
              "</style>\n",
              "<table border=\"1\" class=\"dataframe\">\n",
              "  <thead>\n",
              "    <tr style=\"text-align: right;\">\n",
              "      <th></th>\n",
              "      <th>director_name</th>\n",
              "      <th>num_critic_for_reviews</th>\n",
              "      <th>duration</th>\n",
              "      <th>director_facebook_likes</th>\n",
              "      <th>actor_3_facebook_likes</th>\n",
              "      <th>actor_2_name</th>\n",
              "      <th>actor_1_facebook_likes</th>\n",
              "      <th>gross</th>\n",
              "      <th>genres</th>\n",
              "      <th>actor_1_name</th>\n",
              "      <th>movie_title</th>\n",
              "      <th>num_voted_users</th>\n",
              "      <th>cast_total_facebook_likes</th>\n",
              "      <th>actor_3_name</th>\n",
              "      <th>plot_keywords</th>\n",
              "      <th>movie_imdb_link</th>\n",
              "      <th>num_user_for_reviews</th>\n",
              "      <th>language</th>\n",
              "      <th>country</th>\n",
              "      <th>content_rating</th>\n",
              "      <th>budget</th>\n",
              "      <th>title_year</th>\n",
              "      <th>actor_2_facebook_likes</th>\n",
              "      <th>imdb_score</th>\n",
              "      <th>movie_facebook_likes</th>\n",
              "      <th>first_genre</th>\n",
              "      <th>year</th>\n",
              "      <th>score_bin</th>\n",
              "    </tr>\n",
              "  </thead>\n",
              "  <tbody>\n",
              "    <tr>\n",
              "      <th>97</th>\n",
              "      <td>Hideaki Anno</td>\n",
              "      <td>1.0</td>\n",
              "      <td>120.0</td>\n",
              "      <td>28.0</td>\n",
              "      <td>12.0</td>\n",
              "      <td>Shin'ya Tsukamoto</td>\n",
              "      <td>544.0</td>\n",
              "      <td>75.864975</td>\n",
              "      <td>['Action', 'Adventure', 'Drama', 'Horror', 'Sc...</td>\n",
              "      <td>Mark Chinnery</td>\n",
              "      <td>Godzilla Resurgence</td>\n",
              "      <td>374</td>\n",
              "      <td>699</td>\n",
              "      <td>Atsuko Maeda</td>\n",
              "      <td>['blood', 'godzilla', 'monster', 'sequel']</td>\n",
              "      <td>http://www.imdb.com/title/tt4262980/?ref_=fn_t...</td>\n",
              "      <td>13.0</td>\n",
              "      <td>Japanese</td>\n",
              "      <td>Japan</td>\n",
              "      <td>NaN</td>\n",
              "      <td>64.435059</td>\n",
              "      <td>2016</td>\n",
              "      <td>106.0</td>\n",
              "      <td>8.2</td>\n",
              "      <td>0</td>\n",
              "      <td>Action</td>\n",
              "      <td>2016.0</td>\n",
              "      <td>high</td>\n",
              "    </tr>\n",
              "    <tr>\n",
              "      <th>202</th>\n",
              "      <td>Hideaki Anno</td>\n",
              "      <td>1.0</td>\n",
              "      <td>120.0</td>\n",
              "      <td>28.0</td>\n",
              "      <td>12.0</td>\n",
              "      <td>Shin'ya Tsukamoto</td>\n",
              "      <td>544.0</td>\n",
              "      <td>75.864975</td>\n",
              "      <td>['Action', 'Adventure', 'Drama', 'Horror', 'Sc...</td>\n",
              "      <td>Mark Chinnery</td>\n",
              "      <td>Godzilla Resurgence</td>\n",
              "      <td>374</td>\n",
              "      <td>699</td>\n",
              "      <td>Atsuko Maeda</td>\n",
              "      <td>['blood', 'godzilla', 'monster', 'sequel']</td>\n",
              "      <td>http://www.imdb.com/title/tt4262980/?ref_=fn_t...</td>\n",
              "      <td>13.0</td>\n",
              "      <td>Japanese</td>\n",
              "      <td>Japan</td>\n",
              "      <td>NaN</td>\n",
              "      <td>64.435059</td>\n",
              "      <td>2016</td>\n",
              "      <td>106.0</td>\n",
              "      <td>8.2</td>\n",
              "      <td>0</td>\n",
              "      <td>Action</td>\n",
              "      <td>2016.0</td>\n",
              "      <td>high</td>\n",
              "    </tr>\n",
              "    <tr>\n",
              "      <th>240</th>\n",
              "      <td>Frédéric Forestier</td>\n",
              "      <td>33.0</td>\n",
              "      <td>116.0</td>\n",
              "      <td>0.0</td>\n",
              "      <td>141.0</td>\n",
              "      <td>Santiago Segura</td>\n",
              "      <td>936.0</td>\n",
              "      <td>85.861183</td>\n",
              "      <td>['Adventure', 'Comedy', 'Family', 'Fantasy']</td>\n",
              "      <td>Alain Delon</td>\n",
              "      <td>Asterix at the Olympic Games</td>\n",
              "      <td>20567</td>\n",
              "      <td>1609</td>\n",
              "      <td>Vanessa Hessler</td>\n",
              "      <td>['1st century b.c.', 'lightsaber', 'local bloc...</td>\n",
              "      <td>http://www.imdb.com/title/tt0463872/?ref_=fn_t...</td>\n",
              "      <td>36.0</td>\n",
              "      <td>French</td>\n",
              "      <td>France</td>\n",
              "      <td>NaN</td>\n",
              "      <td>78.000000</td>\n",
              "      <td>2008</td>\n",
              "      <td>276.0</td>\n",
              "      <td>5.1</td>\n",
              "      <td>291</td>\n",
              "      <td>Adventure</td>\n",
              "      <td>2008.0</td>\n",
              "      <td>poor</td>\n",
              "    </tr>\n",
              "    <tr>\n",
              "      <th>323</th>\n",
              "      <td>Yimou Zhang</td>\n",
              "      <td>136.0</td>\n",
              "      <td>146.0</td>\n",
              "      <td>611.0</td>\n",
              "      <td>28.0</td>\n",
              "      <td>Ni Ni</td>\n",
              "      <td>23000.0</td>\n",
              "      <td>0.000000</td>\n",
              "      <td>['Drama', 'History', 'Romance', 'War']</td>\n",
              "      <td>Christian Bale</td>\n",
              "      <td>The Flowers of War</td>\n",
              "      <td>38690</td>\n",
              "      <td>23240</td>\n",
              "      <td>Shigeo Kobayashi</td>\n",
              "      <td>['abusive stepfather', 'attempted rape', 'food...</td>\n",
              "      <td>http://www.imdb.com/title/tt1410063/?ref_=fn_t...</td>\n",
              "      <td>130.0</td>\n",
              "      <td>Mandarin</td>\n",
              "      <td>China</td>\n",
              "      <td>R</td>\n",
              "      <td>94.000000</td>\n",
              "      <td>2011</td>\n",
              "      <td>196.0</td>\n",
              "      <td>7.6</td>\n",
              "      <td>13000</td>\n",
              "      <td>Drama</td>\n",
              "      <td>2011.0</td>\n",
              "      <td>high</td>\n",
              "    </tr>\n",
              "    <tr>\n",
              "      <th>373</th>\n",
              "      <td>Sydney Pollack</td>\n",
              "      <td>227.0</td>\n",
              "      <td>128.0</td>\n",
              "      <td>521.0</td>\n",
              "      <td>249.0</td>\n",
              "      <td>George Harris</td>\n",
              "      <td>591.0</td>\n",
              "      <td>72.000000</td>\n",
              "      <td>['Crime', 'Mystery', 'Thriller']</td>\n",
              "      <td>Curtiss Cook</td>\n",
              "      <td>The Interpreter</td>\n",
              "      <td>86152</td>\n",
              "      <td>2100</td>\n",
              "      <td>Michael Wright</td>\n",
              "      <td>['african', 'assassination', 'dialect', 'inter...</td>\n",
              "      <td>http://www.imdb.com/title/tt0373926/?ref_=fn_t...</td>\n",
              "      <td>411.0</td>\n",
              "      <td>Aboriginal</td>\n",
              "      <td>UK</td>\n",
              "      <td>PG-13</td>\n",
              "      <td>80.000000</td>\n",
              "      <td>2005</td>\n",
              "      <td>249.0</td>\n",
              "      <td>6.4</td>\n",
              "      <td>0</td>\n",
              "      <td>Crime</td>\n",
              "      <td>2005.0</td>\n",
              "      <td>okay</td>\n",
              "    </tr>\n",
              "  </tbody>\n",
              "</table>\n",
              "</div>"
            ],
            "text/plain": [
              "          director_name  num_critic_for_reviews  ...    year  score_bin\n",
              "97         Hideaki Anno                     1.0  ...  2016.0       high\n",
              "202        Hideaki Anno                     1.0  ...  2016.0       high\n",
              "240  Frédéric Forestier                    33.0  ...  2008.0       poor\n",
              "323         Yimou Zhang                   136.0  ...  2011.0       high\n",
              "373      Sydney Pollack                   227.0  ...  2005.0       okay\n",
              "\n",
              "[5 rows x 28 columns]"
            ]
          },
          "metadata": {},
          "execution_count": 97
        }
      ]
    },
    {
      "cell_type": "code",
      "metadata": {
        "colab": {
          "base_uri": "https://localhost:8080/",
          "height": 151
        },
        "id": "Ga0Esk7DjCBQ",
        "outputId": "300b9b47-42a9-4750-d537-23b5bfccc4a7"
      },
      "source": [
        "# df.loc[df[\"movie_title\"].str.contains('Kites')]\n",
        "# CHECKPOINT: Kites became the most expensive movie made after removing non-eng movies\n",
        "# upon research, it has to be removed\n",
        "# this is a Bollywood movie that is in English & Hindi, and currency non USD\n",
        "# this will be done at the beginning of the notebook too"
      ],
      "execution_count": 122,
      "outputs": [
        {
          "output_type": "execute_result",
          "data": {
            "text/html": [
              "<div>\n",
              "<style scoped>\n",
              "    .dataframe tbody tr th:only-of-type {\n",
              "        vertical-align: middle;\n",
              "    }\n",
              "\n",
              "    .dataframe tbody tr th {\n",
              "        vertical-align: top;\n",
              "    }\n",
              "\n",
              "    .dataframe thead th {\n",
              "        text-align: right;\n",
              "    }\n",
              "</style>\n",
              "<table border=\"1\" class=\"dataframe\">\n",
              "  <thead>\n",
              "    <tr style=\"text-align: right;\">\n",
              "      <th></th>\n",
              "      <th>director_name</th>\n",
              "      <th>num_critic_for_reviews</th>\n",
              "      <th>duration</th>\n",
              "      <th>director_facebook_likes</th>\n",
              "      <th>actor_3_facebook_likes</th>\n",
              "      <th>actor_2_name</th>\n",
              "      <th>actor_1_facebook_likes</th>\n",
              "      <th>gross</th>\n",
              "      <th>genres</th>\n",
              "      <th>actor_1_name</th>\n",
              "      <th>movie_title</th>\n",
              "      <th>num_voted_users</th>\n",
              "      <th>cast_total_facebook_likes</th>\n",
              "      <th>actor_3_name</th>\n",
              "      <th>plot_keywords</th>\n",
              "      <th>movie_imdb_link</th>\n",
              "      <th>num_user_for_reviews</th>\n",
              "      <th>language</th>\n",
              "      <th>country</th>\n",
              "      <th>content_rating</th>\n",
              "      <th>budget</th>\n",
              "      <th>title_year</th>\n",
              "      <th>actor_2_facebook_likes</th>\n",
              "      <th>imdb_score</th>\n",
              "      <th>movie_facebook_likes</th>\n",
              "      <th>first_genre</th>\n",
              "      <th>year</th>\n",
              "      <th>score_bin</th>\n",
              "    </tr>\n",
              "  </thead>\n",
              "  <tbody>\n",
              "    <tr>\n",
              "      <th>3208</th>\n",
              "      <td>Anurag Basu</td>\n",
              "      <td>41.0</td>\n",
              "      <td>90.0</td>\n",
              "      <td>116.0</td>\n",
              "      <td>303.0</td>\n",
              "      <td>Steven Michael Quezada</td>\n",
              "      <td>594.0</td>\n",
              "      <td>1.0</td>\n",
              "      <td>['Action', 'Drama', 'Romance', 'Thriller']</td>\n",
              "      <td>Bárbara Mori</td>\n",
              "      <td>Kites</td>\n",
              "      <td>9673</td>\n",
              "      <td>1836</td>\n",
              "      <td>Kabir Bedi</td>\n",
              "      <td>['casino', 'desert', 'love', 'suicide', 'tragi...</td>\n",
              "      <td>http://www.imdb.com/title/tt1198101/?ref_=fn_t...</td>\n",
              "      <td>106.0</td>\n",
              "      <td>English</td>\n",
              "      <td>India</td>\n",
              "      <td>NaN</td>\n",
              "      <td>600.0</td>\n",
              "      <td>2010</td>\n",
              "      <td>412.0</td>\n",
              "      <td>6.0</td>\n",
              "      <td>0</td>\n",
              "      <td>Action</td>\n",
              "      <td>2010.0</td>\n",
              "      <td>poor</td>\n",
              "    </tr>\n",
              "  </tbody>\n",
              "</table>\n",
              "</div>"
            ],
            "text/plain": [
              "     director_name  num_critic_for_reviews  ...    year  score_bin\n",
              "3208   Anurag Basu                    41.0  ...  2010.0       poor\n",
              "\n",
              "[1 rows x 28 columns]"
            ]
          },
          "metadata": {},
          "execution_count": 122
        }
      ]
    },
    {
      "cell_type": "markdown",
      "metadata": {
        "id": "2uFUpRuNxUIu"
      },
      "source": [
        "## 1.9: Top directors by number of films"
      ]
    },
    {
      "cell_type": "code",
      "metadata": {
        "colab": {
          "base_uri": "https://localhost:8080/",
          "height": 276
        },
        "id": "CA1F9XQYqSIW",
        "outputId": "590e5e70-752e-439a-f768-348c985909c0"
      },
      "source": [
        "fig,axs=plt.subplots(figsize=(20,5))\n",
        "g=sns.barplot(x=df1['director_name'].value_counts()[:10].index,y=df1['director_name'].value_counts()[:10])\n",
        "g.set_title(\"Top 10 directors by num of films\", weight = \"bold\")\n",
        "g.set_xlabel(\"director\", weight = \"bold\")\n",
        "plt.show()"
      ],
      "execution_count": 149,
      "outputs": [
        {
          "output_type": "display_data",
          "data": {
            "image/png": "[encoded data removed]",
            "text/plain": [
              "<Figure size 1440x360 with 1 Axes>"
            ]
          },
          "metadata": {
            "needs_background": "light"
          }
        }
      ]
    },
    {
      "cell_type": "markdown",
      "metadata": {
        "id": "4h7-yFgJyHjn"
      },
      "source": [
        "## 1.10: Top 10 directors by mean imdb score"
      ]
    },
    {
      "cell_type": "code",
      "metadata": {
        "id": "-jBoMcrIzazO"
      },
      "source": [
        "#temp = df1[[\"director_name\", \"imdb_score\"]]\n",
        "group_by_dir = df1.groupby('director_name', sort=True)\n"
      ],
      "execution_count": 193,
      "outputs": []
    },
    {
      "cell_type": "code",
      "metadata": {
        "colab": {
          "base_uri": "https://localhost:8080/"
        },
        "id": "BT4Zm9_bGTvv",
        "outputId": "4c8c921c-c7fb-4686-aae5-390603a23e60"
      },
      "source": [
        "group_by_dir.size().sort_values(ascending = False)[:10]"
      ],
      "execution_count": 232,
      "outputs": [
        {
          "output_type": "execute_result",
          "data": {
            "text/plain": [
              "director_name\n",
              "Steven Spielberg     26\n",
              "Woody Allen          22\n",
              "Martin Scorsese      20\n",
              "Clint Eastwood       19\n",
              "Ridley Scott         17\n",
              "Steven Soderbergh    16\n",
              "Spike Lee            16\n",
              "Tim Burton           16\n",
              "Renny Harlin         15\n",
              "Oliver Stone         14\n",
              "dtype: int64"
            ]
          },
          "metadata": {},
          "execution_count": 232
        }
      ]
    },
    {
      "cell_type": "code",
      "metadata": {
        "id": "6PyTEwnp6o27"
      },
      "source": [
        "avg_score_top_dir = group_by_dir.agg(mean_score = (\"imdb_score\",np.mean)).mean_score.sort_values(ascending = False)[:10]"
      ],
      "execution_count": 222,
      "outputs": []
    },
    {
      "cell_type": "code",
      "metadata": {
        "id": "GepxCkMGzns-"
      },
      "source": [
        "score_dir_df = avg_score_top_dir.to_frame().reset_index()\n"
      ],
      "execution_count": 224,
      "outputs": []
    },
    {
      "cell_type": "code",
      "metadata": {
        "colab": {
          "base_uri": "https://localhost:8080/",
          "height": 359
        },
        "id": "hVKFSJUfF0Im",
        "outputId": "02fbd50d-4e05-4392-eeb7-073fd6eabf9a"
      },
      "source": [
        "score_dir_df"
      ],
      "execution_count": 225,
      "outputs": [
        {
          "output_type": "execute_result",
          "data": {
            "text/html": [
              "<div>\n",
              "<style scoped>\n",
              "    .dataframe tbody tr th:only-of-type {\n",
              "        vertical-align: middle;\n",
              "    }\n",
              "\n",
              "    .dataframe tbody tr th {\n",
              "        vertical-align: top;\n",
              "    }\n",
              "\n",
              "    .dataframe thead th {\n",
              "        text-align: right;\n",
              "    }\n",
              "</style>\n",
              "<table border=\"1\" class=\"dataframe\">\n",
              "  <thead>\n",
              "    <tr style=\"text-align: right;\">\n",
              "      <th></th>\n",
              "      <th>director_name</th>\n",
              "      <th>mean_score</th>\n",
              "    </tr>\n",
              "  </thead>\n",
              "  <tbody>\n",
              "    <tr>\n",
              "      <th>0</th>\n",
              "      <td>Mitchell Altieri</td>\n",
              "      <td>8.700</td>\n",
              "    </tr>\n",
              "    <tr>\n",
              "      <th>1</th>\n",
              "      <td>Cary Bell</td>\n",
              "      <td>8.700</td>\n",
              "    </tr>\n",
              "    <tr>\n",
              "      <th>2</th>\n",
              "      <td>Sadyk Sher-Niyaz</td>\n",
              "      <td>8.700</td>\n",
              "    </tr>\n",
              "    <tr>\n",
              "      <th>3</th>\n",
              "      <td>Charles Chaplin</td>\n",
              "      <td>8.600</td>\n",
              "    </tr>\n",
              "    <tr>\n",
              "      <th>4</th>\n",
              "      <td>Mike Mayhall</td>\n",
              "      <td>8.600</td>\n",
              "    </tr>\n",
              "    <tr>\n",
              "      <th>5</th>\n",
              "      <td>Damien Chazelle</td>\n",
              "      <td>8.500</td>\n",
              "    </tr>\n",
              "    <tr>\n",
              "      <th>6</th>\n",
              "      <td>Sergio Leone</td>\n",
              "      <td>8.500</td>\n",
              "    </tr>\n",
              "    <tr>\n",
              "      <th>7</th>\n",
              "      <td>Christopher Nolan</td>\n",
              "      <td>8.425</td>\n",
              "    </tr>\n",
              "    <tr>\n",
              "      <th>8</th>\n",
              "      <td>Moustapha Akkad</td>\n",
              "      <td>8.400</td>\n",
              "    </tr>\n",
              "    <tr>\n",
              "      <th>9</th>\n",
              "      <td>Jay Oliva</td>\n",
              "      <td>8.400</td>\n",
              "    </tr>\n",
              "  </tbody>\n",
              "</table>\n",
              "</div>"
            ],
            "text/plain": [
              "       director_name  mean_score\n",
              "0   Mitchell Altieri       8.700\n",
              "1          Cary Bell       8.700\n",
              "2   Sadyk Sher-Niyaz       8.700\n",
              "3    Charles Chaplin       8.600\n",
              "4       Mike Mayhall       8.600\n",
              "5    Damien Chazelle       8.500\n",
              "6       Sergio Leone       8.500\n",
              "7  Christopher Nolan       8.425\n",
              "8    Moustapha Akkad       8.400\n",
              "9          Jay Oliva       8.400"
            ]
          },
          "metadata": {},
          "execution_count": 225
        }
      ]
    },
    {
      "cell_type": "code",
      "metadata": {
        "colab": {
          "base_uri": "https://localhost:8080/",
          "height": 249
        },
        "id": "jE4x9nNZyUJS",
        "outputId": "5176debe-75e0-45ee-857b-45cb1a4d2e07"
      },
      "source": [
        "fig,axs=plt.subplots(figsize=(20,5))\n",
        "sns.barplot(y='director_name',x=\"mean_score\", data = score_dir_df)\n",
        "g.set_title(\"Top 10 directors by mean imdb score\", weight = \"bold\")\n",
        "g.set_ylabel(\"director\", weight = \"bold\")\n",
        "plt.show()"
      ],
      "execution_count": 233,
      "outputs": [
        {
          "output_type": "display_data",
          "data": {
            "image/png": "[encoded data removed]",
            "text/plain": [
              "<Figure size 1440x360 with 1 Axes>"
            ]
          },
          "metadata": {
            "needs_background": "light"
          }
        }
      ]
    }
  ]
}