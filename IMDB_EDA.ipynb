{
  "nbformat": 4,
  "nbformat_minor": 0,
  "metadata": {
    "colab": {
      "name": "IMDB_EDA.ipynb",
      "provenance": [],
      "collapsed_sections": [],
      "toc_visible": true
    },
    "kernelspec": {
      "name": "python3",
      "display_name": "Python 3"
    },
    "language_info": {
      "name": "python"
    }
  },
  "cells": [
    {
      "cell_type": "markdown",
      "metadata": {
        "id": "8V1X8g3G09QN"
      },
      "source": [
        "# Part 1：EDA & Visualization"
      ]
    },
    {
      "cell_type": "code",
      "metadata": {
        "colab": {
          "base_uri": "https://localhost:8080/"
        },
        "id": "KGQlAL490sRD",
        "outputId": "d45d5ec4-56df-44df-89c8-afee60fe377e"
      },
      "source": [
        "from google.colab import drive \n",
        "drive.mount('/content/gdrive')"
      ],
      "execution_count": 1,
      "outputs": [
        {
          "output_type": "stream",
          "name": "stdout",
          "text": [
            "Mounted at /content/gdrive\n"
          ]
        }
      ]
    },
    {
      "cell_type": "code",
      "metadata": {
        "id": "5YLL7hDz1Knm"
      },
      "source": [
        "import pandas as pd \n",
        "df=pd.read_csv('/content/gdrive/MyDrive/clean_imdb.csv')"
      ],
      "execution_count": 2,
      "outputs": []
    },
    {
      "cell_type": "code",
      "metadata": {
        "id": "3f8olNwJ4cxd"
      },
      "source": [
        "import seaborn as sns\n",
        "import matplotlib as plt"
      ],
      "execution_count": 61,
      "outputs": []
    },
    {
      "cell_type": "code",
      "metadata": {
        "id": "IbHtgZqq-iBy"
      },
      "source": [
        "import numpy as np"
      ],
      "execution_count": 4,
      "outputs": []
    },
    {
      "cell_type": "code",
      "metadata": {
        "colab": {
          "base_uri": "https://localhost:8080/"
        },
        "id": "oasggdnz1gmu",
        "outputId": "fc5dcfad-51eb-4e3c-ced4-042af1b7120a"
      },
      "source": [
        "df.info()"
      ],
      "execution_count": 5,
      "outputs": [
        {
          "output_type": "stream",
          "name": "stdout",
          "text": [
            "<class 'pandas.core.frame.DataFrame'>\n",
            "RangeIndex: 4932 entries, 0 to 4931\n",
            "Data columns (total 28 columns):\n",
            " #   Column                     Non-Null Count  Dtype  \n",
            "---  ------                     --------------  -----  \n",
            " 0   Unnamed: 0                 4932 non-null   int64  \n",
            " 1   director_name              4932 non-null   object \n",
            " 2   num_critic_for_reviews     4932 non-null   float64\n",
            " 3   duration                   4932 non-null   float64\n",
            " 4   director_facebook_likes    4932 non-null   float64\n",
            " 5   actor_3_facebook_likes     4932 non-null   float64\n",
            " 6   actor_2_name               4922 non-null   object \n",
            " 7   actor_1_facebook_likes     4932 non-null   float64\n",
            " 8   gross                      4932 non-null   float64\n",
            " 9   genres                     4932 non-null   object \n",
            " 10  actor_1_name               4925 non-null   object \n",
            " 11  movie_title                4932 non-null   object \n",
            " 12  num_voted_users            4932 non-null   int64  \n",
            " 13  cast_total_facebook_likes  4932 non-null   int64  \n",
            " 14  actor_3_name               4914 non-null   object \n",
            " 15  plot_keywords              4793 non-null   object \n",
            " 16  movie_imdb_link            4932 non-null   object \n",
            " 17  num_user_for_reviews       4932 non-null   float64\n",
            " 18  language                   4923 non-null   object \n",
            " 19  country                    4931 non-null   object \n",
            " 20  content_rating             4672 non-null   object \n",
            " 21  budget                     4932 non-null   float64\n",
            " 22  title_year                 4932 non-null   int64  \n",
            " 23  actor_2_facebook_likes     4932 non-null   float64\n",
            " 24  imdb_score                 4932 non-null   float64\n",
            " 25  movie_facebook_likes       4932 non-null   int64  \n",
            " 26  first_genre                4932 non-null   object \n",
            " 27  year                       4932 non-null   float64\n",
            "dtypes: float64(11), int64(5), object(12)\n",
            "memory usage: 1.1+ MB\n"
          ]
        }
      ]
    },
    {
      "cell_type": "code",
      "metadata": {
        "id": "kytH0zJq1mA7"
      },
      "source": [
        "# drop Unnamed: 0\n",
        "df = df.drop(\"Unnamed: 0\", axis = 1)"
      ],
      "execution_count": 6,
      "outputs": []
    },
    {
      "cell_type": "code",
      "metadata": {
        "id": "7FJssjAXtGH_"
      },
      "source": [
        "# REVISION!!!\n",
        "# In a later query about top 10 most expensive movies, we found that non-english movies need to be removed! \n",
        "df = df.loc[df[\"language\"]== 'English']"
      ],
      "execution_count": 7,
      "outputs": []
    },
    {
      "cell_type": "code",
      "metadata": {
        "id": "Aq-5bH_8ukI4"
      },
      "source": [
        "# as well as this one bollywood movie that released in both english and hindi\n",
        "df = df.loc[~df[\"movie_title\"].str.contains('Kites')]"
      ],
      "execution_count": 8,
      "outputs": []
    },
    {
      "cell_type": "code",
      "metadata": {
        "colab": {
          "base_uri": "https://localhost:8080/",
          "height": 479
        },
        "id": "aZg-er3e14Uv",
        "outputId": "577ec8d0-1335-4801-ea8c-53ffc7f3c16e"
      },
      "source": [
        "df.head()"
      ],
      "execution_count": 9,
      "outputs": [
        {
          "output_type": "execute_result",
          "data": {
            "text/html": [
              "<div>\n",
              "<style scoped>\n",
              "    .dataframe tbody tr th:only-of-type {\n",
              "        vertical-align: middle;\n",
              "    }\n",
              "\n",
              "    .dataframe tbody tr th {\n",
              "        vertical-align: top;\n",
              "    }\n",
              "\n",
              "    .dataframe thead th {\n",
              "        text-align: right;\n",
              "    }\n",
              "</style>\n",
              "<table border=\"1\" class=\"dataframe\">\n",
              "  <thead>\n",
              "    <tr style=\"text-align: right;\">\n",
              "      <th></th>\n",
              "      <th>director_name</th>\n",
              "      <th>num_critic_for_reviews</th>\n",
              "      <th>duration</th>\n",
              "      <th>director_facebook_likes</th>\n",
              "      <th>actor_3_facebook_likes</th>\n",
              "      <th>actor_2_name</th>\n",
              "      <th>actor_1_facebook_likes</th>\n",
              "      <th>gross</th>\n",
              "      <th>genres</th>\n",
              "      <th>actor_1_name</th>\n",
              "      <th>movie_title</th>\n",
              "      <th>num_voted_users</th>\n",
              "      <th>cast_total_facebook_likes</th>\n",
              "      <th>actor_3_name</th>\n",
              "      <th>plot_keywords</th>\n",
              "      <th>movie_imdb_link</th>\n",
              "      <th>num_user_for_reviews</th>\n",
              "      <th>language</th>\n",
              "      <th>country</th>\n",
              "      <th>content_rating</th>\n",
              "      <th>budget</th>\n",
              "      <th>title_year</th>\n",
              "      <th>actor_2_facebook_likes</th>\n",
              "      <th>imdb_score</th>\n",
              "      <th>movie_facebook_likes</th>\n",
              "      <th>first_genre</th>\n",
              "      <th>year</th>\n",
              "    </tr>\n",
              "  </thead>\n",
              "  <tbody>\n",
              "    <tr>\n",
              "      <th>0</th>\n",
              "      <td>James Cameron</td>\n",
              "      <td>723.0</td>\n",
              "      <td>178.0</td>\n",
              "      <td>0.0</td>\n",
              "      <td>855.0</td>\n",
              "      <td>Joel David Moore</td>\n",
              "      <td>1000.0</td>\n",
              "      <td>760.0</td>\n",
              "      <td>['Action', 'Adventure', 'Fantasy', 'Sci-Fi']</td>\n",
              "      <td>CCH Pounder</td>\n",
              "      <td>Avatar</td>\n",
              "      <td>886204</td>\n",
              "      <td>4834</td>\n",
              "      <td>Wes Studi</td>\n",
              "      <td>['avatar', 'future', 'marine', 'native', 'para...</td>\n",
              "      <td>http://www.imdb.com/title/tt0499549/?ref_=fn_t...</td>\n",
              "      <td>3054.0</td>\n",
              "      <td>English</td>\n",
              "      <td>USA</td>\n",
              "      <td>PG-13</td>\n",
              "      <td>237.0</td>\n",
              "      <td>2009</td>\n",
              "      <td>936.0</td>\n",
              "      <td>7.9</td>\n",
              "      <td>33000</td>\n",
              "      <td>Action</td>\n",
              "      <td>2009.0</td>\n",
              "    </tr>\n",
              "    <tr>\n",
              "      <th>1</th>\n",
              "      <td>Gore Verbinski</td>\n",
              "      <td>302.0</td>\n",
              "      <td>169.0</td>\n",
              "      <td>563.0</td>\n",
              "      <td>1000.0</td>\n",
              "      <td>Orlando Bloom</td>\n",
              "      <td>40000.0</td>\n",
              "      <td>309.0</td>\n",
              "      <td>['Action', 'Adventure', 'Fantasy']</td>\n",
              "      <td>Johnny Depp</td>\n",
              "      <td>Pirates of the Caribbean: At World's End</td>\n",
              "      <td>471220</td>\n",
              "      <td>48350</td>\n",
              "      <td>Jack Davenport</td>\n",
              "      <td>['goddess', 'marriage ceremony', 'marriage pro...</td>\n",
              "      <td>http://www.imdb.com/title/tt0449088/?ref_=fn_t...</td>\n",
              "      <td>1238.0</td>\n",
              "      <td>English</td>\n",
              "      <td>USA</td>\n",
              "      <td>PG-13</td>\n",
              "      <td>300.0</td>\n",
              "      <td>2007</td>\n",
              "      <td>5000.0</td>\n",
              "      <td>7.1</td>\n",
              "      <td>0</td>\n",
              "      <td>Action</td>\n",
              "      <td>2007.0</td>\n",
              "    </tr>\n",
              "    <tr>\n",
              "      <th>2</th>\n",
              "      <td>Sam Mendes</td>\n",
              "      <td>602.0</td>\n",
              "      <td>148.0</td>\n",
              "      <td>0.0</td>\n",
              "      <td>161.0</td>\n",
              "      <td>Rory Kinnear</td>\n",
              "      <td>11000.0</td>\n",
              "      <td>200.0</td>\n",
              "      <td>['Action', 'Adventure', 'Thriller']</td>\n",
              "      <td>Christoph Waltz</td>\n",
              "      <td>Spectre</td>\n",
              "      <td>275868</td>\n",
              "      <td>11700</td>\n",
              "      <td>Stephanie Sigman</td>\n",
              "      <td>['bomb', 'espionage', 'sequel', 'spy', 'terror...</td>\n",
              "      <td>http://www.imdb.com/title/tt2379713/?ref_=fn_t...</td>\n",
              "      <td>994.0</td>\n",
              "      <td>English</td>\n",
              "      <td>UK</td>\n",
              "      <td>PG-13</td>\n",
              "      <td>245.0</td>\n",
              "      <td>2015</td>\n",
              "      <td>393.0</td>\n",
              "      <td>6.8</td>\n",
              "      <td>85000</td>\n",
              "      <td>Action</td>\n",
              "      <td>2015.0</td>\n",
              "    </tr>\n",
              "    <tr>\n",
              "      <th>3</th>\n",
              "      <td>Christopher Nolan</td>\n",
              "      <td>813.0</td>\n",
              "      <td>164.0</td>\n",
              "      <td>22000.0</td>\n",
              "      <td>23000.0</td>\n",
              "      <td>Christian Bale</td>\n",
              "      <td>27000.0</td>\n",
              "      <td>448.0</td>\n",
              "      <td>['Action', 'Thriller']</td>\n",
              "      <td>Tom Hardy</td>\n",
              "      <td>The Dark Knight Rises</td>\n",
              "      <td>1144337</td>\n",
              "      <td>106759</td>\n",
              "      <td>Joseph Gordon-Levitt</td>\n",
              "      <td>['deception', 'imprisonment', 'lawlessness', '...</td>\n",
              "      <td>http://www.imdb.com/title/tt1345836/?ref_=fn_t...</td>\n",
              "      <td>2701.0</td>\n",
              "      <td>English</td>\n",
              "      <td>USA</td>\n",
              "      <td>PG-13</td>\n",
              "      <td>250.0</td>\n",
              "      <td>2012</td>\n",
              "      <td>23000.0</td>\n",
              "      <td>8.5</td>\n",
              "      <td>164000</td>\n",
              "      <td>Action</td>\n",
              "      <td>2012.0</td>\n",
              "    </tr>\n",
              "    <tr>\n",
              "      <th>4</th>\n",
              "      <td>Andrew Stanton</td>\n",
              "      <td>462.0</td>\n",
              "      <td>132.0</td>\n",
              "      <td>475.0</td>\n",
              "      <td>530.0</td>\n",
              "      <td>Samantha Morton</td>\n",
              "      <td>640.0</td>\n",
              "      <td>73.0</td>\n",
              "      <td>['Action', 'Adventure', 'Sci-Fi']</td>\n",
              "      <td>Daryl Sabara</td>\n",
              "      <td>John Carter</td>\n",
              "      <td>212204</td>\n",
              "      <td>1873</td>\n",
              "      <td>Polly Walker</td>\n",
              "      <td>['alien', 'american civil war', 'male nipple',...</td>\n",
              "      <td>http://www.imdb.com/title/tt0401729/?ref_=fn_t...</td>\n",
              "      <td>738.0</td>\n",
              "      <td>English</td>\n",
              "      <td>USA</td>\n",
              "      <td>PG-13</td>\n",
              "      <td>263.0</td>\n",
              "      <td>2012</td>\n",
              "      <td>632.0</td>\n",
              "      <td>6.6</td>\n",
              "      <td>24000</td>\n",
              "      <td>Action</td>\n",
              "      <td>2012.0</td>\n",
              "    </tr>\n",
              "  </tbody>\n",
              "</table>\n",
              "</div>"
            ],
            "text/plain": [
              "       director_name  num_critic_for_reviews  ...  first_genre    year\n",
              "0      James Cameron                   723.0  ...       Action  2009.0\n",
              "1     Gore Verbinski                   302.0  ...       Action  2007.0\n",
              "2         Sam Mendes                   602.0  ...       Action  2015.0\n",
              "3  Christopher Nolan                   813.0  ...       Action  2012.0\n",
              "4     Andrew Stanton                   462.0  ...       Action  2012.0\n",
              "\n",
              "[5 rows x 27 columns]"
            ]
          },
          "metadata": {},
          "execution_count": 9
        }
      ]
    },
    {
      "cell_type": "code",
      "metadata": {
        "colab": {
          "base_uri": "https://localhost:8080/",
          "height": 317
        },
        "id": "HPmeNGsxDgxd",
        "outputId": "965cdcb7-e758-47fd-97bf-216354235ad5"
      },
      "source": [
        "df.describe()"
      ],
      "execution_count": 10,
      "outputs": [
        {
          "output_type": "execute_result",
          "data": {
            "text/html": [
              "<div>\n",
              "<style scoped>\n",
              "    .dataframe tbody tr th:only-of-type {\n",
              "        vertical-align: middle;\n",
              "    }\n",
              "\n",
              "    .dataframe tbody tr th {\n",
              "        vertical-align: top;\n",
              "    }\n",
              "\n",
              "    .dataframe thead th {\n",
              "        text-align: right;\n",
              "    }\n",
              "</style>\n",
              "<table border=\"1\" class=\"dataframe\">\n",
              "  <thead>\n",
              "    <tr style=\"text-align: right;\">\n",
              "      <th></th>\n",
              "      <th>num_critic_for_reviews</th>\n",
              "      <th>duration</th>\n",
              "      <th>director_facebook_likes</th>\n",
              "      <th>actor_3_facebook_likes</th>\n",
              "      <th>actor_1_facebook_likes</th>\n",
              "      <th>gross</th>\n",
              "      <th>num_voted_users</th>\n",
              "      <th>cast_total_facebook_likes</th>\n",
              "      <th>num_user_for_reviews</th>\n",
              "      <th>budget</th>\n",
              "      <th>title_year</th>\n",
              "      <th>actor_2_facebook_likes</th>\n",
              "      <th>imdb_score</th>\n",
              "      <th>movie_facebook_likes</th>\n",
              "      <th>year</th>\n",
              "    </tr>\n",
              "  </thead>\n",
              "  <tbody>\n",
              "    <tr>\n",
              "      <th>count</th>\n",
              "      <td>4603.000000</td>\n",
              "      <td>4603.000000</td>\n",
              "      <td>4603.000000</td>\n",
              "      <td>4603.000000</td>\n",
              "      <td>4603.000000</td>\n",
              "      <td>4603.00000</td>\n",
              "      <td>4.603000e+03</td>\n",
              "      <td>4603.000000</td>\n",
              "      <td>4603.000000</td>\n",
              "      <td>4603.000000</td>\n",
              "      <td>4603.000000</td>\n",
              "      <td>4603.000000</td>\n",
              "      <td>4603.000000</td>\n",
              "      <td>4603.000000</td>\n",
              "      <td>4603.000000</td>\n",
              "    </tr>\n",
              "    <tr>\n",
              "      <th>mean</th>\n",
              "      <td>145.524054</td>\n",
              "      <td>107.800911</td>\n",
              "      <td>714.857484</td>\n",
              "      <td>691.348786</td>\n",
              "      <td>7024.391798</td>\n",
              "      <td>49.67308</td>\n",
              "      <td>8.827469e+04</td>\n",
              "      <td>10399.884858</td>\n",
              "      <td>286.423218</td>\n",
              "      <td>34.202276</td>\n",
              "      <td>2002.356289</td>\n",
              "      <td>1783.475031</td>\n",
              "      <td>6.374082</td>\n",
              "      <td>7877.853139</td>\n",
              "      <td>2002.356289</td>\n",
              "    </tr>\n",
              "    <tr>\n",
              "      <th>std</th>\n",
              "      <td>122.327045</td>\n",
              "      <td>21.970793</td>\n",
              "      <td>2886.869352</td>\n",
              "      <td>1730.434182</td>\n",
              "      <td>15131.577484</td>\n",
              "      <td>64.97751</td>\n",
              "      <td>1.425266e+05</td>\n",
              "      <td>18439.859915</td>\n",
              "      <td>385.949710</td>\n",
              "      <td>40.962220</td>\n",
              "      <td>12.317805</td>\n",
              "      <td>4200.750090</td>\n",
              "      <td>1.111607</td>\n",
              "      <td>19964.966466</td>\n",
              "      <td>12.317805</td>\n",
              "    </tr>\n",
              "    <tr>\n",
              "      <th>min</th>\n",
              "      <td>1.000000</td>\n",
              "      <td>7.000000</td>\n",
              "      <td>0.000000</td>\n",
              "      <td>0.000000</td>\n",
              "      <td>0.000000</td>\n",
              "      <td>0.00000</td>\n",
              "      <td>5.000000e+00</td>\n",
              "      <td>0.000000</td>\n",
              "      <td>1.000000</td>\n",
              "      <td>0.000000</td>\n",
              "      <td>1929.000000</td>\n",
              "      <td>0.000000</td>\n",
              "      <td>1.600000</td>\n",
              "      <td>0.000000</td>\n",
              "      <td>1929.000000</td>\n",
              "    </tr>\n",
              "    <tr>\n",
              "      <th>25%</th>\n",
              "      <td>56.000000</td>\n",
              "      <td>94.000000</td>\n",
              "      <td>7.000000</td>\n",
              "      <td>168.500000</td>\n",
              "      <td>682.000000</td>\n",
              "      <td>10.00000</td>\n",
              "      <td>9.964000e+03</td>\n",
              "      <td>1652.000000</td>\n",
              "      <td>74.000000</td>\n",
              "      <td>7.000000</td>\n",
              "      <td>1999.000000</td>\n",
              "      <td>333.500000</td>\n",
              "      <td>5.800000</td>\n",
              "      <td>0.000000</td>\n",
              "      <td>1999.000000</td>\n",
              "    </tr>\n",
              "    <tr>\n",
              "      <th>50%</th>\n",
              "      <td>117.000000</td>\n",
              "      <td>103.000000</td>\n",
              "      <td>51.000000</td>\n",
              "      <td>401.000000</td>\n",
              "      <td>1000.000000</td>\n",
              "      <td>31.00000</td>\n",
              "      <td>3.795200e+04</td>\n",
              "      <td>3408.000000</td>\n",
              "      <td>168.000000</td>\n",
              "      <td>22.000000</td>\n",
              "      <td>2005.000000</td>\n",
              "      <td>636.000000</td>\n",
              "      <td>6.500000</td>\n",
              "      <td>175.000000</td>\n",
              "      <td>2005.000000</td>\n",
              "    </tr>\n",
              "    <tr>\n",
              "      <th>75%</th>\n",
              "      <td>198.000000</td>\n",
              "      <td>118.000000</td>\n",
              "      <td>207.000000</td>\n",
              "      <td>653.500000</td>\n",
              "      <td>12000.000000</td>\n",
              "      <td>66.00000</td>\n",
              "      <td>1.028040e+05</td>\n",
              "      <td>14747.000000</td>\n",
              "      <td>343.500000</td>\n",
              "      <td>44.000000</td>\n",
              "      <td>2011.000000</td>\n",
              "      <td>943.500000</td>\n",
              "      <td>7.100000</td>\n",
              "      <td>5000.000000</td>\n",
              "      <td>2011.000000</td>\n",
              "    </tr>\n",
              "    <tr>\n",
              "      <th>max</th>\n",
              "      <td>813.000000</td>\n",
              "      <td>330.000000</td>\n",
              "      <td>23000.000000</td>\n",
              "      <td>23000.000000</td>\n",
              "      <td>640000.000000</td>\n",
              "      <td>760.00000</td>\n",
              "      <td>1.689764e+06</td>\n",
              "      <td>656730.000000</td>\n",
              "      <td>5060.000000</td>\n",
              "      <td>390.000000</td>\n",
              "      <td>2016.000000</td>\n",
              "      <td>137000.000000</td>\n",
              "      <td>9.300000</td>\n",
              "      <td>349000.000000</td>\n",
              "      <td>2016.000000</td>\n",
              "    </tr>\n",
              "  </tbody>\n",
              "</table>\n",
              "</div>"
            ],
            "text/plain": [
              "       num_critic_for_reviews     duration  ...  movie_facebook_likes         year\n",
              "count             4603.000000  4603.000000  ...           4603.000000  4603.000000\n",
              "mean               145.524054   107.800911  ...           7877.853139  2002.356289\n",
              "std                122.327045    21.970793  ...          19964.966466    12.317805\n",
              "min                  1.000000     7.000000  ...              0.000000  1929.000000\n",
              "25%                 56.000000    94.000000  ...              0.000000  1999.000000\n",
              "50%                117.000000   103.000000  ...            175.000000  2005.000000\n",
              "75%                198.000000   118.000000  ...           5000.000000  2011.000000\n",
              "max                813.000000   330.000000  ...         349000.000000  2016.000000\n",
              "\n",
              "[8 rows x 15 columns]"
            ]
          },
          "metadata": {},
          "execution_count": 10
        }
      ]
    },
    {
      "cell_type": "code",
      "metadata": {
        "colab": {
          "base_uri": "https://localhost:8080/"
        },
        "id": "sNGkaZoLu-Wk",
        "outputId": "3153d116-dbd1-4fd7-d318-10c07241f185"
      },
      "source": [
        "df.info()"
      ],
      "execution_count": null,
      "outputs": [
        {
          "output_type": "stream",
          "name": "stdout",
          "text": [
            "<class 'pandas.core.frame.DataFrame'>\n",
            "Int64Index: 4603 entries, 0 to 4931\n",
            "Data columns (total 27 columns):\n",
            " #   Column                     Non-Null Count  Dtype  \n",
            "---  ------                     --------------  -----  \n",
            " 0   director_name              4603 non-null   object \n",
            " 1   num_critic_for_reviews     4603 non-null   float64\n",
            " 2   duration                   4603 non-null   float64\n",
            " 3   director_facebook_likes    4603 non-null   float64\n",
            " 4   actor_3_facebook_likes     4603 non-null   float64\n",
            " 5   actor_2_name               4595 non-null   object \n",
            " 6   actor_1_facebook_likes     4603 non-null   float64\n",
            " 7   gross                      4603 non-null   float64\n",
            " 8   genres                     4603 non-null   object \n",
            " 9   actor_1_name               4597 non-null   object \n",
            " 10  movie_title                4603 non-null   object \n",
            " 11  num_voted_users            4603 non-null   int64  \n",
            " 12  cast_total_facebook_likes  4603 non-null   int64  \n",
            " 13  actor_3_name               4587 non-null   object \n",
            " 14  plot_keywords              4489 non-null   object \n",
            " 15  movie_imdb_link            4603 non-null   object \n",
            " 16  num_user_for_reviews       4603 non-null   float64\n",
            " 17  language                   4603 non-null   object \n",
            " 18  country                    4602 non-null   object \n",
            " 19  content_rating             4427 non-null   object \n",
            " 20  budget                     4603 non-null   float64\n",
            " 21  title_year                 4603 non-null   int64  \n",
            " 22  actor_2_facebook_likes     4603 non-null   float64\n",
            " 23  imdb_score                 4603 non-null   float64\n",
            " 24  movie_facebook_likes       4603 non-null   int64  \n",
            " 25  first_genre                4603 non-null   object \n",
            " 26  year                       4603 non-null   float64\n",
            "dtypes: float64(11), int64(4), object(12)\n",
            "memory usage: 1006.9+ KB\n"
          ]
        }
      ]
    },
    {
      "cell_type": "code",
      "metadata": {
        "colab": {
          "base_uri": "https://localhost:8080/"
        },
        "id": "iKdFCzUDHwK8",
        "outputId": "427984dc-49fe-4c5f-e15a-9e09e7ec2b86"
      },
      "source": [
        "# write this df to file again\n",
        "# since we made changes again in this notebook\n",
        "df.to_csv('clean_imdb_2.csv')\n",
        "!cp clean_imdb_2.csv \"drive/My Drive/\""
      ],
      "execution_count": null,
      "outputs": [
        {
          "output_type": "stream",
          "name": "stdout",
          "text": [
            "cp: cannot create regular file 'drive/My Drive/': No such file or directory\n"
          ]
        }
      ]
    },
    {
      "cell_type": "markdown",
      "metadata": {
        "id": "FykSXlXogf7-"
      },
      "source": [
        "## Top 10 movies by highest budget"
      ]
    },
    {
      "cell_type": "markdown",
      "metadata": {
        "id": "ncaK1sKkixy7"
      },
      "source": [
        "NOTE: Before non-english & Kites were deleted from df, in the first run of this query on the original df, almost all of the top 10 most expensive movies made no sense. Upon research, their budget was recorded in a non-USD currency. For example, The Host (most expensive in that query) is a Korean movie, and the budget is in KRW, which resulted in the crazy number.\n",
        "\n",
        "* below in comment mode is the original code run to discover the details of such problem. They are kept in comment to avoid confusion \n",
        "\n",
        "* I moved the process of removing unqualified titles from the original df in the beginning of the notebook, right after the original data is read from google drive."
      ]
    },
    {
      "cell_type": "code",
      "metadata": {
        "colab": {
          "base_uri": "https://localhost:8080/",
          "height": 496
        },
        "id": "v9zzbb2yo3bZ",
        "outputId": "6a901c39-4c4d-4892-ac44-1bc8cc430112"
      },
      "source": [
        "# non_eng_languages = df[\"language\"] != \"English\"\n",
        "# df[non_eng_languages].head()"
      ],
      "execution_count": null,
      "outputs": [
        {
          "output_type": "execute_result",
          "data": {
            "text/html": [
              "<div>\n",
              "<style scoped>\n",
              "    .dataframe tbody tr th:only-of-type {\n",
              "        vertical-align: middle;\n",
              "    }\n",
              "\n",
              "    .dataframe tbody tr th {\n",
              "        vertical-align: top;\n",
              "    }\n",
              "\n",
              "    .dataframe thead th {\n",
              "        text-align: right;\n",
              "    }\n",
              "</style>\n",
              "<table border=\"1\" class=\"dataframe\">\n",
              "  <thead>\n",
              "    <tr style=\"text-align: right;\">\n",
              "      <th></th>\n",
              "      <th>director_name</th>\n",
              "      <th>num_critic_for_reviews</th>\n",
              "      <th>duration</th>\n",
              "      <th>director_facebook_likes</th>\n",
              "      <th>actor_3_facebook_likes</th>\n",
              "      <th>actor_2_name</th>\n",
              "      <th>actor_1_facebook_likes</th>\n",
              "      <th>gross</th>\n",
              "      <th>genres</th>\n",
              "      <th>actor_1_name</th>\n",
              "      <th>movie_title</th>\n",
              "      <th>num_voted_users</th>\n",
              "      <th>cast_total_facebook_likes</th>\n",
              "      <th>actor_3_name</th>\n",
              "      <th>plot_keywords</th>\n",
              "      <th>movie_imdb_link</th>\n",
              "      <th>num_user_for_reviews</th>\n",
              "      <th>language</th>\n",
              "      <th>country</th>\n",
              "      <th>content_rating</th>\n",
              "      <th>budget</th>\n",
              "      <th>title_year</th>\n",
              "      <th>actor_2_facebook_likes</th>\n",
              "      <th>imdb_score</th>\n",
              "      <th>movie_facebook_likes</th>\n",
              "      <th>first_genre</th>\n",
              "      <th>year</th>\n",
              "      <th>score_bin</th>\n",
              "    </tr>\n",
              "  </thead>\n",
              "  <tbody>\n",
              "    <tr>\n",
              "      <th>97</th>\n",
              "      <td>Hideaki Anno</td>\n",
              "      <td>1.0</td>\n",
              "      <td>120.0</td>\n",
              "      <td>28.0</td>\n",
              "      <td>12.0</td>\n",
              "      <td>Shin'ya Tsukamoto</td>\n",
              "      <td>544.0</td>\n",
              "      <td>75.864975</td>\n",
              "      <td>['Action', 'Adventure', 'Drama', 'Horror', 'Sc...</td>\n",
              "      <td>Mark Chinnery</td>\n",
              "      <td>Godzilla Resurgence</td>\n",
              "      <td>374</td>\n",
              "      <td>699</td>\n",
              "      <td>Atsuko Maeda</td>\n",
              "      <td>['blood', 'godzilla', 'monster', 'sequel']</td>\n",
              "      <td>http://www.imdb.com/title/tt4262980/?ref_=fn_t...</td>\n",
              "      <td>13.0</td>\n",
              "      <td>Japanese</td>\n",
              "      <td>Japan</td>\n",
              "      <td>NaN</td>\n",
              "      <td>64.435059</td>\n",
              "      <td>2016</td>\n",
              "      <td>106.0</td>\n",
              "      <td>8.2</td>\n",
              "      <td>0</td>\n",
              "      <td>Action</td>\n",
              "      <td>2016.0</td>\n",
              "      <td>high</td>\n",
              "    </tr>\n",
              "    <tr>\n",
              "      <th>202</th>\n",
              "      <td>Hideaki Anno</td>\n",
              "      <td>1.0</td>\n",
              "      <td>120.0</td>\n",
              "      <td>28.0</td>\n",
              "      <td>12.0</td>\n",
              "      <td>Shin'ya Tsukamoto</td>\n",
              "      <td>544.0</td>\n",
              "      <td>75.864975</td>\n",
              "      <td>['Action', 'Adventure', 'Drama', 'Horror', 'Sc...</td>\n",
              "      <td>Mark Chinnery</td>\n",
              "      <td>Godzilla Resurgence</td>\n",
              "      <td>374</td>\n",
              "      <td>699</td>\n",
              "      <td>Atsuko Maeda</td>\n",
              "      <td>['blood', 'godzilla', 'monster', 'sequel']</td>\n",
              "      <td>http://www.imdb.com/title/tt4262980/?ref_=fn_t...</td>\n",
              "      <td>13.0</td>\n",
              "      <td>Japanese</td>\n",
              "      <td>Japan</td>\n",
              "      <td>NaN</td>\n",
              "      <td>64.435059</td>\n",
              "      <td>2016</td>\n",
              "      <td>106.0</td>\n",
              "      <td>8.2</td>\n",
              "      <td>0</td>\n",
              "      <td>Action</td>\n",
              "      <td>2016.0</td>\n",
              "      <td>high</td>\n",
              "    </tr>\n",
              "    <tr>\n",
              "      <th>240</th>\n",
              "      <td>Frédéric Forestier</td>\n",
              "      <td>33.0</td>\n",
              "      <td>116.0</td>\n",
              "      <td>0.0</td>\n",
              "      <td>141.0</td>\n",
              "      <td>Santiago Segura</td>\n",
              "      <td>936.0</td>\n",
              "      <td>85.861183</td>\n",
              "      <td>['Adventure', 'Comedy', 'Family', 'Fantasy']</td>\n",
              "      <td>Alain Delon</td>\n",
              "      <td>Asterix at the Olympic Games</td>\n",
              "      <td>20567</td>\n",
              "      <td>1609</td>\n",
              "      <td>Vanessa Hessler</td>\n",
              "      <td>['1st century b.c.', 'lightsaber', 'local bloc...</td>\n",
              "      <td>http://www.imdb.com/title/tt0463872/?ref_=fn_t...</td>\n",
              "      <td>36.0</td>\n",
              "      <td>French</td>\n",
              "      <td>France</td>\n",
              "      <td>NaN</td>\n",
              "      <td>78.000000</td>\n",
              "      <td>2008</td>\n",
              "      <td>276.0</td>\n",
              "      <td>5.1</td>\n",
              "      <td>291</td>\n",
              "      <td>Adventure</td>\n",
              "      <td>2008.0</td>\n",
              "      <td>poor</td>\n",
              "    </tr>\n",
              "    <tr>\n",
              "      <th>323</th>\n",
              "      <td>Yimou Zhang</td>\n",
              "      <td>136.0</td>\n",
              "      <td>146.0</td>\n",
              "      <td>611.0</td>\n",
              "      <td>28.0</td>\n",
              "      <td>Ni Ni</td>\n",
              "      <td>23000.0</td>\n",
              "      <td>0.000000</td>\n",
              "      <td>['Drama', 'History', 'Romance', 'War']</td>\n",
              "      <td>Christian Bale</td>\n",
              "      <td>The Flowers of War</td>\n",
              "      <td>38690</td>\n",
              "      <td>23240</td>\n",
              "      <td>Shigeo Kobayashi</td>\n",
              "      <td>['abusive stepfather', 'attempted rape', 'food...</td>\n",
              "      <td>http://www.imdb.com/title/tt1410063/?ref_=fn_t...</td>\n",
              "      <td>130.0</td>\n",
              "      <td>Mandarin</td>\n",
              "      <td>China</td>\n",
              "      <td>R</td>\n",
              "      <td>94.000000</td>\n",
              "      <td>2011</td>\n",
              "      <td>196.0</td>\n",
              "      <td>7.6</td>\n",
              "      <td>13000</td>\n",
              "      <td>Drama</td>\n",
              "      <td>2011.0</td>\n",
              "      <td>high</td>\n",
              "    </tr>\n",
              "    <tr>\n",
              "      <th>373</th>\n",
              "      <td>Sydney Pollack</td>\n",
              "      <td>227.0</td>\n",
              "      <td>128.0</td>\n",
              "      <td>521.0</td>\n",
              "      <td>249.0</td>\n",
              "      <td>George Harris</td>\n",
              "      <td>591.0</td>\n",
              "      <td>72.000000</td>\n",
              "      <td>['Crime', 'Mystery', 'Thriller']</td>\n",
              "      <td>Curtiss Cook</td>\n",
              "      <td>The Interpreter</td>\n",
              "      <td>86152</td>\n",
              "      <td>2100</td>\n",
              "      <td>Michael Wright</td>\n",
              "      <td>['african', 'assassination', 'dialect', 'inter...</td>\n",
              "      <td>http://www.imdb.com/title/tt0373926/?ref_=fn_t...</td>\n",
              "      <td>411.0</td>\n",
              "      <td>Aboriginal</td>\n",
              "      <td>UK</td>\n",
              "      <td>PG-13</td>\n",
              "      <td>80.000000</td>\n",
              "      <td>2005</td>\n",
              "      <td>249.0</td>\n",
              "      <td>6.4</td>\n",
              "      <td>0</td>\n",
              "      <td>Crime</td>\n",
              "      <td>2005.0</td>\n",
              "      <td>okay</td>\n",
              "    </tr>\n",
              "  </tbody>\n",
              "</table>\n",
              "</div>"
            ],
            "text/plain": [
              "          director_name  num_critic_for_reviews  ...    year  score_bin\n",
              "97         Hideaki Anno                     1.0  ...  2016.0       high\n",
              "202        Hideaki Anno                     1.0  ...  2016.0       high\n",
              "240  Frédéric Forestier                    33.0  ...  2008.0       poor\n",
              "323         Yimou Zhang                   136.0  ...  2011.0       high\n",
              "373      Sydney Pollack                   227.0  ...  2005.0       okay\n",
              "\n",
              "[5 rows x 28 columns]"
            ]
          },
          "metadata": {},
          "execution_count": 97
        }
      ]
    },
    {
      "cell_type": "code",
      "metadata": {
        "colab": {
          "base_uri": "https://localhost:8080/"
        },
        "id": "vHLMygTbky89",
        "outputId": "9ee7dfea-e73b-4d37-f325-b2d2ef00dc84"
      },
      "source": [
        "# len(df.loc[df['language'] != 'English'])"
      ],
      "execution_count": null,
      "outputs": [
        {
          "output_type": "execute_result",
          "data": {
            "text/plain": [
              "328"
            ]
          },
          "metadata": {},
          "execution_count": 91
        }
      ]
    },
    {
      "cell_type": "code",
      "metadata": {
        "colab": {
          "base_uri": "https://localhost:8080/",
          "height": 151
        },
        "id": "Ga0Esk7DjCBQ",
        "outputId": "300b9b47-42a9-4750-d537-23b5bfccc4a7"
      },
      "source": [
        "# df.loc[df[\"movie_title\"].str.contains('Kites')]\n",
        "# CHECKPOINT: Kites became the most expensive movie made after removing non-eng movies\n",
        "# upon research, it has to be removed\n",
        "# this is a Bollywood movie that is in English & Hindi, and currency non USD\n",
        "# this will be done at the beginning of the notebook too"
      ],
      "execution_count": null,
      "outputs": [
        {
          "output_type": "execute_result",
          "data": {
            "text/html": [
              "<div>\n",
              "<style scoped>\n",
              "    .dataframe tbody tr th:only-of-type {\n",
              "        vertical-align: middle;\n",
              "    }\n",
              "\n",
              "    .dataframe tbody tr th {\n",
              "        vertical-align: top;\n",
              "    }\n",
              "\n",
              "    .dataframe thead th {\n",
              "        text-align: right;\n",
              "    }\n",
              "</style>\n",
              "<table border=\"1\" class=\"dataframe\">\n",
              "  <thead>\n",
              "    <tr style=\"text-align: right;\">\n",
              "      <th></th>\n",
              "      <th>director_name</th>\n",
              "      <th>num_critic_for_reviews</th>\n",
              "      <th>duration</th>\n",
              "      <th>director_facebook_likes</th>\n",
              "      <th>actor_3_facebook_likes</th>\n",
              "      <th>actor_2_name</th>\n",
              "      <th>actor_1_facebook_likes</th>\n",
              "      <th>gross</th>\n",
              "      <th>genres</th>\n",
              "      <th>actor_1_name</th>\n",
              "      <th>movie_title</th>\n",
              "      <th>num_voted_users</th>\n",
              "      <th>cast_total_facebook_likes</th>\n",
              "      <th>actor_3_name</th>\n",
              "      <th>plot_keywords</th>\n",
              "      <th>movie_imdb_link</th>\n",
              "      <th>num_user_for_reviews</th>\n",
              "      <th>language</th>\n",
              "      <th>country</th>\n",
              "      <th>content_rating</th>\n",
              "      <th>budget</th>\n",
              "      <th>title_year</th>\n",
              "      <th>actor_2_facebook_likes</th>\n",
              "      <th>imdb_score</th>\n",
              "      <th>movie_facebook_likes</th>\n",
              "      <th>first_genre</th>\n",
              "      <th>year</th>\n",
              "      <th>score_bin</th>\n",
              "    </tr>\n",
              "  </thead>\n",
              "  <tbody>\n",
              "    <tr>\n",
              "      <th>3208</th>\n",
              "      <td>Anurag Basu</td>\n",
              "      <td>41.0</td>\n",
              "      <td>90.0</td>\n",
              "      <td>116.0</td>\n",
              "      <td>303.0</td>\n",
              "      <td>Steven Michael Quezada</td>\n",
              "      <td>594.0</td>\n",
              "      <td>1.0</td>\n",
              "      <td>['Action', 'Drama', 'Romance', 'Thriller']</td>\n",
              "      <td>Bárbara Mori</td>\n",
              "      <td>Kites</td>\n",
              "      <td>9673</td>\n",
              "      <td>1836</td>\n",
              "      <td>Kabir Bedi</td>\n",
              "      <td>['casino', 'desert', 'love', 'suicide', 'tragi...</td>\n",
              "      <td>http://www.imdb.com/title/tt1198101/?ref_=fn_t...</td>\n",
              "      <td>106.0</td>\n",
              "      <td>English</td>\n",
              "      <td>India</td>\n",
              "      <td>NaN</td>\n",
              "      <td>600.0</td>\n",
              "      <td>2010</td>\n",
              "      <td>412.0</td>\n",
              "      <td>6.0</td>\n",
              "      <td>0</td>\n",
              "      <td>Action</td>\n",
              "      <td>2010.0</td>\n",
              "      <td>poor</td>\n",
              "    </tr>\n",
              "  </tbody>\n",
              "</table>\n",
              "</div>"
            ],
            "text/plain": [
              "     director_name  num_critic_for_reviews  ...    year  score_bin\n",
              "3208   Anurag Basu                    41.0  ...  2010.0       poor\n",
              "\n",
              "[1 rows x 28 columns]"
            ]
          },
          "metadata": {},
          "execution_count": 122
        }
      ]
    },
    {
      "cell_type": "code",
      "metadata": {
        "colab": {
          "base_uri": "https://localhost:8080/",
          "height": 435
        },
        "id": "IxZeCSuEgm3C",
        "outputId": "c4a71d21-1055-4fc2-9403-325047d5e1e3"
      },
      "source": [
        "top_budget = df1.sort_values(['budget'], ascending = False)\n",
        "fig,axs=plt.subplots(figsize=(15, 8))\n",
        "g=sns.barplot(y=top_budget['movie_title'][:10],x=top_budget['budget'][:10], palette = 'hls')\n",
        "g.set_title(\"Top 10 Movies with highest Budget\", weight = \"bold\")\n",
        "plt.show()"
      ],
      "execution_count": null,
      "outputs": [
        {
          "output_type": "display_data",
          "data": {
            "image/png": "[encoded data removed]",
            "text/plain": [
              "<Figure size 1080x576 with 1 Axes>"
            ]
          },
          "metadata": {
            "needs_background": "light"
          }
        }
      ]
    },
    {
      "cell_type": "markdown",
      "metadata": {
        "id": "tq_9l1hoe6bO"
      },
      "source": [
        "## Top 10 movies by highest gross"
      ]
    },
    {
      "cell_type": "code",
      "metadata": {
        "colab": {
          "base_uri": "https://localhost:8080/",
          "height": 429
        },
        "id": "oaiaO9Oie-1v",
        "outputId": "f50f241e-50c5-4926-bf63-e013311bdb79"
      },
      "source": [
        "top_gross = df1.sort_values(['gross'], ascending = False)\n",
        "fig,axs=plt.subplots(figsize=(15, 8))\n",
        "g=sns.barplot(y=top_gross['movie_title'][:10],x=top_gross['gross'][:10], palette = 'husl')\n",
        "g.set_title(\"Top 10 Movies with highest Gross\", weight = \"bold\")\n",
        "plt.show()"
      ],
      "execution_count": null,
      "outputs": [
        {
          "output_type": "display_data",
          "data": {
            "image/png": "[encoded data removed]",
            "text/plain": [
              "<Figure size 1080x576 with 1 Axes>"
            ]
          },
          "metadata": {
            "needs_background": "light"
          }
        }
      ]
    },
    {
      "cell_type": "markdown",
      "metadata": {
        "id": "fwGGSdFk2H7D"
      },
      "source": [
        "## A close up look at genre:\n",
        "\n",
        "* from the last notebook (Preprocessing) we assumed that the first genre that each movies is tagged with, is \"the strongest genre\" it definitely belongs to.\n",
        "\n",
        "* A column has been created, called \"first_genre\""
      ]
    },
    {
      "cell_type": "markdown",
      "metadata": {
        "id": "zqjTnynNx4at"
      },
      "source": [
        "### Count of movies, Mean imdb scores and mode scores by genre"
      ]
    },
    {
      "cell_type": "code",
      "metadata": {
        "id": "LQDOpOXqvD88"
      },
      "source": [
        "# deep copy df\n",
        "df1 = df.copy()"
      ],
      "execution_count": 16,
      "outputs": []
    },
    {
      "cell_type": "code",
      "metadata": {
        "id": "n8OdY8Xv2ryE"
      },
      "source": [
        "count_by_genre = df1.groupby(\"first_genre\").size().sort_values(ascending=False)"
      ],
      "execution_count": 20,
      "outputs": []
    },
    {
      "cell_type": "code",
      "metadata": {
        "colab": {
          "base_uri": "https://localhost:8080/"
        },
        "id": "AvZV47Bjb-9G",
        "outputId": "893e098a-a98c-498f-c4c3-30a59fb3a1f7"
      },
      "source": [
        "count_by_genre"
      ],
      "execution_count": 21,
      "outputs": [
        {
          "output_type": "execute_result",
          "data": {
            "text/plain": [
              "first_genre\n",
              "Comedy         1232\n",
              "Action         1065\n",
              "Drama           839\n",
              "Adventure       422\n",
              "Crime           310\n",
              "Biography       240\n",
              "Horror          224\n",
              "Documentary      73\n",
              "Fantasy          51\n",
              "Animation        50\n",
              "Mystery          32\n",
              "Thriller         21\n",
              "Sci-Fi           13\n",
              "Western          11\n",
              "Family           11\n",
              "Romance           5\n",
              "Musical           4\n",
              "dtype: int64"
            ]
          },
          "metadata": {},
          "execution_count": 21
        }
      ]
    },
    {
      "cell_type": "code",
      "metadata": {
        "colab": {
          "base_uri": "https://localhost:8080/",
          "height": 421
        },
        "id": "f5-0OlEI4au3",
        "outputId": "172b65f4-2881-4bdc-e5cd-7c5fe857e224"
      },
      "source": [
        "fig,axs=plt.subplots(figsize=(10, 6))\n",
        "sns.countplot(y = 'first_genre',\n",
        "              data = df1,\n",
        "              order = df1['first_genre'].value_counts().index).set_title(\"Num of movies by genre\", weight = \"bold\")"
      ],
      "execution_count": null,
      "outputs": [
        {
          "output_type": "execute_result",
          "data": {
            "text/plain": [
              "Text(0.5, 1.0, 'Num of movies by genre')"
            ]
          },
          "metadata": {},
          "execution_count": 132
        },
        {
          "output_type": "display_data",
          "data": {
            "image/png": "[encoded data removed]",
            "text/plain": [
              "<Figure size 720x432 with 1 Axes>"
            ]
          },
          "metadata": {
            "needs_background": "light"
          }
        }
      ]
    },
    {
      "cell_type": "code",
      "metadata": {
        "id": "dfqq-UB-apby"
      },
      "source": [
        "avg_score_by_genre = df1.groupby(\"first_genre\")[\"imdb_score\"].mean().sort_values(ascending = False)"
      ],
      "execution_count": 22,
      "outputs": []
    },
    {
      "cell_type": "code",
      "metadata": {
        "colab": {
          "base_uri": "https://localhost:8080/"
        },
        "id": "9PSmFapmdNj-",
        "outputId": "12428bfc-4f3b-419a-8ac4-f75b1966c6d3"
      },
      "source": [
        "avg_score_by_genre"
      ],
      "execution_count": 23,
      "outputs": [
        {
          "output_type": "execute_result",
          "data": {
            "text/plain": [
              "first_genre\n",
              "Biography      7.148333\n",
              "Documentary    7.100000\n",
              "Crime          6.810323\n",
              "Drama          6.687128\n",
              "Mystery        6.562500\n",
              "Animation      6.530000\n",
              "Adventure      6.499052\n",
              "Fantasy        6.419608\n",
              "Western        6.372727\n",
              "Action         6.183474\n",
              "Comedy         6.125731\n",
              "Musical        6.000000\n",
              "Sci-Fi         6.000000\n",
              "Romance        5.740000\n",
              "Family         5.709091\n",
              "Horror         5.641518\n",
              "Thriller       5.628571\n",
              "Name: imdb_score, dtype: float64"
            ]
          },
          "metadata": {},
          "execution_count": 23
        }
      ]
    },
    {
      "cell_type": "markdown",
      "metadata": {
        "id": "0hGywUSOdRzO"
      },
      "source": [
        "now we should combine the last two queries together to see count of movies and mean score across the genres"
      ]
    },
    {
      "cell_type": "code",
      "metadata": {
        "id": "a2Uy8J56depn"
      },
      "source": [
        "score_ct_avg_mode = df1.groupby(\"first_genre\")[\"imdb_score\"].agg(\n",
        "    [np.size, np.mean, pd.Series.mode]).rename(\n",
        "        columns = {'size':'count', 'mean':'mean_', 'mode': 'mode_'})"
      ],
      "execution_count": 54,
      "outputs": []
    },
    {
      "cell_type": "code",
      "metadata": {
        "id": "VFCUF_cRhaO2"
      },
      "source": [
        "score_ct_avg_mode = score_ct_avg_mode.sort_values('count', ascending = False)"
      ],
      "execution_count": 55,
      "outputs": []
    },
    {
      "cell_type": "code",
      "metadata": {
        "colab": {
          "base_uri": "https://localhost:8080/",
          "height": 607
        },
        "id": "opQICa-OzEtO",
        "outputId": "b5e8977c-5137-4323-bee8-26369aef480f"
      },
      "source": [
        "score_ct_avg_mode"
      ],
      "execution_count": 66,
      "outputs": [
        {
          "output_type": "execute_result",
          "data": {
            "text/html": [
              "<div>\n",
              "<style scoped>\n",
              "    .dataframe tbody tr th:only-of-type {\n",
              "        vertical-align: middle;\n",
              "    }\n",
              "\n",
              "    .dataframe tbody tr th {\n",
              "        vertical-align: top;\n",
              "    }\n",
              "\n",
              "    .dataframe thead th {\n",
              "        text-align: right;\n",
              "    }\n",
              "</style>\n",
              "<table border=\"1\" class=\"dataframe\">\n",
              "  <thead>\n",
              "    <tr style=\"text-align: right;\">\n",
              "      <th></th>\n",
              "      <th>count</th>\n",
              "      <th>mean_</th>\n",
              "      <th>mode_</th>\n",
              "    </tr>\n",
              "    <tr>\n",
              "      <th>first_genre</th>\n",
              "      <th></th>\n",
              "      <th></th>\n",
              "      <th></th>\n",
              "    </tr>\n",
              "  </thead>\n",
              "  <tbody>\n",
              "    <tr>\n",
              "      <th>Comedy</th>\n",
              "      <td>1232.0</td>\n",
              "      <td>6.125731</td>\n",
              "      <td>6.4</td>\n",
              "    </tr>\n",
              "    <tr>\n",
              "      <th>Action</th>\n",
              "      <td>1065.0</td>\n",
              "      <td>6.183474</td>\n",
              "      <td>6.1</td>\n",
              "    </tr>\n",
              "    <tr>\n",
              "      <th>Drama</th>\n",
              "      <td>839.0</td>\n",
              "      <td>6.687128</td>\n",
              "      <td>6.7</td>\n",
              "    </tr>\n",
              "    <tr>\n",
              "      <th>Adventure</th>\n",
              "      <td>422.0</td>\n",
              "      <td>6.499052</td>\n",
              "      <td>[6.7, 7.3]</td>\n",
              "    </tr>\n",
              "    <tr>\n",
              "      <th>Crime</th>\n",
              "      <td>310.0</td>\n",
              "      <td>6.810323</td>\n",
              "      <td>[7.2, 7.3, 7.4]</td>\n",
              "    </tr>\n",
              "    <tr>\n",
              "      <th>Biography</th>\n",
              "      <td>240.0</td>\n",
              "      <td>7.148333</td>\n",
              "      <td>7</td>\n",
              "    </tr>\n",
              "    <tr>\n",
              "      <th>Horror</th>\n",
              "      <td>224.0</td>\n",
              "      <td>5.641518</td>\n",
              "      <td>5.9</td>\n",
              "    </tr>\n",
              "    <tr>\n",
              "      <th>Documentary</th>\n",
              "      <td>73.0</td>\n",
              "      <td>7.100000</td>\n",
              "      <td>7.5</td>\n",
              "    </tr>\n",
              "    <tr>\n",
              "      <th>Fantasy</th>\n",
              "      <td>51.0</td>\n",
              "      <td>6.419608</td>\n",
              "      <td>[6.8, 7.4]</td>\n",
              "    </tr>\n",
              "    <tr>\n",
              "      <th>Animation</th>\n",
              "      <td>50.0</td>\n",
              "      <td>6.530000</td>\n",
              "      <td>7.1</td>\n",
              "    </tr>\n",
              "    <tr>\n",
              "      <th>Mystery</th>\n",
              "      <td>32.0</td>\n",
              "      <td>6.562500</td>\n",
              "      <td>[6.6, 7.1]</td>\n",
              "    </tr>\n",
              "    <tr>\n",
              "      <th>Thriller</th>\n",
              "      <td>21.0</td>\n",
              "      <td>5.628571</td>\n",
              "      <td>5.8</td>\n",
              "    </tr>\n",
              "    <tr>\n",
              "      <th>Sci-Fi</th>\n",
              "      <td>13.0</td>\n",
              "      <td>6.000000</td>\n",
              "      <td>6.1</td>\n",
              "    </tr>\n",
              "    <tr>\n",
              "      <th>Family</th>\n",
              "      <td>11.0</td>\n",
              "      <td>5.709091</td>\n",
              "      <td>5.7</td>\n",
              "    </tr>\n",
              "    <tr>\n",
              "      <th>Western</th>\n",
              "      <td>11.0</td>\n",
              "      <td>6.372727</td>\n",
              "      <td>7.1</td>\n",
              "    </tr>\n",
              "    <tr>\n",
              "      <th>Romance</th>\n",
              "      <td>5.0</td>\n",
              "      <td>5.740000</td>\n",
              "      <td>5.1</td>\n",
              "    </tr>\n",
              "    <tr>\n",
              "      <th>Musical</th>\n",
              "      <td>4.0</td>\n",
              "      <td>6.000000</td>\n",
              "      <td>[3.4, 6.3, 7.1, 7.2]</td>\n",
              "    </tr>\n",
              "  </tbody>\n",
              "</table>\n",
              "</div>"
            ],
            "text/plain": [
              "              count     mean_                 mode_\n",
              "first_genre                                        \n",
              "Comedy       1232.0  6.125731                   6.4\n",
              "Action       1065.0  6.183474                   6.1\n",
              "Drama         839.0  6.687128                   6.7\n",
              "Adventure     422.0  6.499052            [6.7, 7.3]\n",
              "Crime         310.0  6.810323       [7.2, 7.3, 7.4]\n",
              "Biography     240.0  7.148333                     7\n",
              "Horror        224.0  5.641518                   5.9\n",
              "Documentary    73.0  7.100000                   7.5\n",
              "Fantasy        51.0  6.419608            [6.8, 7.4]\n",
              "Animation      50.0  6.530000                   7.1\n",
              "Mystery        32.0  6.562500            [6.6, 7.1]\n",
              "Thriller       21.0  5.628571                   5.8\n",
              "Sci-Fi         13.0  6.000000                   6.1\n",
              "Family         11.0  5.709091                   5.7\n",
              "Western        11.0  6.372727                   7.1\n",
              "Romance         5.0  5.740000                   5.1\n",
              "Musical         4.0  6.000000  [3.4, 6.3, 7.1, 7.2]"
            ]
          },
          "metadata": {},
          "execution_count": 66
        }
      ]
    },
    {
      "cell_type": "code",
      "metadata": {
        "colab": {
          "base_uri": "https://localhost:8080/",
          "height": 572
        },
        "id": "40Dsi5uLlEkK",
        "outputId": "72d2728a-2060-44dd-a899-de882a44893c"
      },
      "source": [
        "score_ct_avg_mode.plot.bar(logy = True, figsize = (12, 8))"
      ],
      "execution_count": 65,
      "outputs": [
        {
          "output_type": "execute_result",
          "data": {
            "text/plain": [
              "<matplotlib.axes._subplots.AxesSubplot at 0x7f159e5a9950>"
            ]
          },
          "metadata": {},
          "execution_count": 65
        },
        {
          "output_type": "display_data",
          "data": {
            "image/png": "[encoded data removed]",
            "text/plain": [
              "<Figure size 864x576 with 1 Axes>"
            ]
          },
          "metadata": {
            "needs_background": "light"
          }
        }
      ]
    },
    {
      "cell_type": "markdown",
      "metadata": {
        "id": "D6l9Je9JgFS0"
      },
      "source": [
        "Above bar chart shows genres sorted by count of movies, compared to the mean imdb score"
      ]
    },
    {
      "cell_type": "markdown",
      "metadata": {
        "id": "DdGnVPDlaFSU"
      },
      "source": [
        "### Top 10 Genres with the highest mean gross"
      ]
    },
    {
      "cell_type": "code",
      "metadata": {
        "id": "vttMQHHCaEwS"
      },
      "source": [
        "gross_ = df1.groupby(\"first_genre\")[\"gross\"].mean().reset_index()\n",
        "gross_10 = gross_.sort_values(\"gross\", ascending = False)[:10]"
      ],
      "execution_count": 70,
      "outputs": []
    },
    {
      "cell_type": "code",
      "metadata": {
        "colab": {
          "base_uri": "https://localhost:8080/",
          "height": 359
        },
        "id": "ksZDoJdZcWDt",
        "outputId": "ba4e239b-47a8-4193-b50c-1fdf69a3abd4"
      },
      "source": [
        "gross_10"
      ],
      "execution_count": 71,
      "outputs": [
        {
          "output_type": "execute_result",
          "data": {
            "text/html": [
              "<div>\n",
              "<style scoped>\n",
              "    .dataframe tbody tr th:only-of-type {\n",
              "        vertical-align: middle;\n",
              "    }\n",
              "\n",
              "    .dataframe tbody tr th {\n",
              "        vertical-align: top;\n",
              "    }\n",
              "\n",
              "    .dataframe thead th {\n",
              "        text-align: right;\n",
              "    }\n",
              "</style>\n",
              "<table border=\"1\" class=\"dataframe\">\n",
              "  <thead>\n",
              "    <tr style=\"text-align: right;\">\n",
              "      <th></th>\n",
              "      <th>first_genre</th>\n",
              "      <th>gross</th>\n",
              "    </tr>\n",
              "  </thead>\n",
              "  <tbody>\n",
              "    <tr>\n",
              "      <th>8</th>\n",
              "      <td>Family</td>\n",
              "      <td>148.666667</td>\n",
              "    </tr>\n",
              "    <tr>\n",
              "      <th>2</th>\n",
              "      <td>Animation</td>\n",
              "      <td>93.108000</td>\n",
              "    </tr>\n",
              "    <tr>\n",
              "      <th>1</th>\n",
              "      <td>Adventure</td>\n",
              "      <td>88.678523</td>\n",
              "    </tr>\n",
              "    <tr>\n",
              "      <th>0</th>\n",
              "      <td>Action</td>\n",
              "      <td>78.668786</td>\n",
              "    </tr>\n",
              "    <tr>\n",
              "      <th>11</th>\n",
              "      <td>Musical</td>\n",
              "      <td>61.000000</td>\n",
              "    </tr>\n",
              "    <tr>\n",
              "      <th>12</th>\n",
              "      <td>Mystery</td>\n",
              "      <td>48.250000</td>\n",
              "    </tr>\n",
              "    <tr>\n",
              "      <th>9</th>\n",
              "      <td>Fantasy</td>\n",
              "      <td>38.795098</td>\n",
              "    </tr>\n",
              "    <tr>\n",
              "      <th>4</th>\n",
              "      <td>Comedy</td>\n",
              "      <td>36.324399</td>\n",
              "    </tr>\n",
              "    <tr>\n",
              "      <th>3</th>\n",
              "      <td>Biography</td>\n",
              "      <td>35.794833</td>\n",
              "    </tr>\n",
              "    <tr>\n",
              "      <th>10</th>\n",
              "      <td>Horror</td>\n",
              "      <td>35.159332</td>\n",
              "    </tr>\n",
              "  </tbody>\n",
              "</table>\n",
              "</div>"
            ],
            "text/plain": [
              "   first_genre       gross\n",
              "8       Family  148.666667\n",
              "2    Animation   93.108000\n",
              "1    Adventure   88.678523\n",
              "0       Action   78.668786\n",
              "11     Musical   61.000000\n",
              "12     Mystery   48.250000\n",
              "9      Fantasy   38.795098\n",
              "4       Comedy   36.324399\n",
              "3    Biography   35.794833\n",
              "10      Horror   35.159332"
            ]
          },
          "metadata": {},
          "execution_count": 71
        }
      ]
    },
    {
      "cell_type": "code",
      "metadata": {
        "colab": {
          "base_uri": "https://localhost:8080/",
          "height": 530
        },
        "id": "a71YpVjedStr",
        "outputId": "8f00bf38-237e-493f-ae65-769b662444d9"
      },
      "source": [
        "fig,axs=plt.subplots(figsize=(10, 8))\n",
        "sns.barplot(y = 'first_genre', x = 'gross', data=gross_10).set_title(\"Top 10 Genres with the highest mean gross\", weight = \"bold\")"
      ],
      "execution_count": null,
      "outputs": [
        {
          "output_type": "execute_result",
          "data": {
            "text/plain": [
              "Text(0.5, 1.0, 'Top 10 Genres with the highest mean gross')"
            ]
          },
          "metadata": {},
          "execution_count": 142
        },
        {
          "output_type": "display_data",
          "data": {
            "image/png": "[encoded data removed]",
            "text/plain": [
              "<Figure size 720x576 with 1 Axes>"
            ]
          },
          "metadata": {
            "needs_background": "light"
          }
        }
      ]
    },
    {
      "cell_type": "markdown",
      "metadata": {
        "id": "gv9pl-WRdqN0"
      },
      "source": [
        "### Top 10 Genres with the highest mean budget"
      ]
    },
    {
      "cell_type": "code",
      "metadata": {
        "id": "JFgaGqxqdwQX"
      },
      "source": [
        "budget_ = df1.groupby(\"first_genre\")[\"budget\"].mean().reset_index()\n",
        "budget_10 = budget_.sort_values(\"budget\", ascending = False)[:10]"
      ],
      "execution_count": null,
      "outputs": []
    },
    {
      "cell_type": "code",
      "metadata": {
        "colab": {
          "base_uri": "https://localhost:8080/",
          "height": 359
        },
        "id": "T8KFBta2d-ct",
        "outputId": "e9bc8b21-0049-4ba2-8b3c-5c0c904167b5"
      },
      "source": [
        "budget_10"
      ],
      "execution_count": null,
      "outputs": [
        {
          "output_type": "execute_result",
          "data": {
            "text/html": [
              "<div>\n",
              "<style scoped>\n",
              "    .dataframe tbody tr th:only-of-type {\n",
              "        vertical-align: middle;\n",
              "    }\n",
              "\n",
              "    .dataframe tbody tr th {\n",
              "        vertical-align: top;\n",
              "    }\n",
              "\n",
              "    .dataframe thead th {\n",
              "        text-align: right;\n",
              "    }\n",
              "</style>\n",
              "<table border=\"1\" class=\"dataframe\">\n",
              "  <thead>\n",
              "    <tr style=\"text-align: right;\">\n",
              "      <th></th>\n",
              "      <th>first_genre</th>\n",
              "      <th>budget</th>\n",
              "    </tr>\n",
              "  </thead>\n",
              "  <tbody>\n",
              "    <tr>\n",
              "      <th>0</th>\n",
              "      <td>Action</td>\n",
              "      <td>61.131870</td>\n",
              "    </tr>\n",
              "    <tr>\n",
              "      <th>1</th>\n",
              "      <td>Adventure</td>\n",
              "      <td>61.041516</td>\n",
              "    </tr>\n",
              "    <tr>\n",
              "      <th>2</th>\n",
              "      <td>Animation</td>\n",
              "      <td>55.290588</td>\n",
              "    </tr>\n",
              "    <tr>\n",
              "      <th>12</th>\n",
              "      <td>Mystery</td>\n",
              "      <td>26.784180</td>\n",
              "    </tr>\n",
              "    <tr>\n",
              "      <th>5</th>\n",
              "      <td>Crime</td>\n",
              "      <td>24.710002</td>\n",
              "    </tr>\n",
              "    <tr>\n",
              "      <th>3</th>\n",
              "      <td>Biography</td>\n",
              "      <td>24.701985</td>\n",
              "    </tr>\n",
              "    <tr>\n",
              "      <th>13</th>\n",
              "      <td>Romance</td>\n",
              "      <td>24.000000</td>\n",
              "    </tr>\n",
              "    <tr>\n",
              "      <th>4</th>\n",
              "      <td>Comedy</td>\n",
              "      <td>21.888675</td>\n",
              "    </tr>\n",
              "    <tr>\n",
              "      <th>7</th>\n",
              "      <td>Drama</td>\n",
              "      <td>21.675574</td>\n",
              "    </tr>\n",
              "    <tr>\n",
              "      <th>14</th>\n",
              "      <td>Sci-Fi</td>\n",
              "      <td>17.076923</td>\n",
              "    </tr>\n",
              "  </tbody>\n",
              "</table>\n",
              "</div>"
            ],
            "text/plain": [
              "   first_genre     budget\n",
              "0       Action  61.131870\n",
              "1    Adventure  61.041516\n",
              "2    Animation  55.290588\n",
              "12     Mystery  26.784180\n",
              "5        Crime  24.710002\n",
              "3    Biography  24.701985\n",
              "13     Romance  24.000000\n",
              "4       Comedy  21.888675\n",
              "7        Drama  21.675574\n",
              "14      Sci-Fi  17.076923"
            ]
          },
          "metadata": {},
          "execution_count": 144
        }
      ]
    },
    {
      "cell_type": "code",
      "metadata": {
        "colab": {
          "base_uri": "https://localhost:8080/",
          "height": 530
        },
        "id": "KApMRpXgeBtB",
        "outputId": "ade3c09a-8bb6-4161-a685-0cf504c71b87"
      },
      "source": [
        "fig,axs=plt.subplots(figsize=(10, 8))\n",
        "sns.barplot(y = 'first_genre', x = 'budget', data=budget_10).set_title(\"Top 10 Genres with the highest mean budget\", weight = \"bold\")"
      ],
      "execution_count": null,
      "outputs": [
        {
          "output_type": "execute_result",
          "data": {
            "text/plain": [
              "Text(0.5, 1.0, 'Top 10 Genres with the highest mean budget')"
            ]
          },
          "metadata": {},
          "execution_count": 145
        },
        {
          "output_type": "display_data",
          "data": {
            "image/png": "[encoded data removed]",
            "text/plain": [
              "<Figure size 720x576 with 1 Axes>"
            ]
          },
          "metadata": {
            "needs_background": "light"
          }
        }
      ]
    },
    {
      "cell_type": "markdown",
      "metadata": {
        "id": "QmyaDGI2-uCd"
      },
      "source": [
        "## Top 10 Most voted movies"
      ]
    },
    {
      "cell_type": "code",
      "metadata": {
        "id": "cQlC2PVQAqZj"
      },
      "source": [
        "top_voted = df1.sort_values(['num_voted_users'], ascending = False)[:10]"
      ],
      "execution_count": 79,
      "outputs": []
    },
    {
      "cell_type": "code",
      "metadata": {
        "colab": {
          "base_uri": "https://localhost:8080/",
          "height": 872
        },
        "id": "8lQautIq2tqZ",
        "outputId": "3d108d16-3153-4ea9-a90e-9e921c7aaae1"
      },
      "source": [
        "top_voted"
      ],
      "execution_count": 89,
      "outputs": [
        {
          "output_type": "execute_result",
          "data": {
            "text/html": [
              "<div>\n",
              "<style scoped>\n",
              "    .dataframe tbody tr th:only-of-type {\n",
              "        vertical-align: middle;\n",
              "    }\n",
              "\n",
              "    .dataframe tbody tr th {\n",
              "        vertical-align: top;\n",
              "    }\n",
              "\n",
              "    .dataframe thead th {\n",
              "        text-align: right;\n",
              "    }\n",
              "</style>\n",
              "<table border=\"1\" class=\"dataframe\">\n",
              "  <thead>\n",
              "    <tr style=\"text-align: right;\">\n",
              "      <th></th>\n",
              "      <th>director_name</th>\n",
              "      <th>num_critic_for_reviews</th>\n",
              "      <th>duration</th>\n",
              "      <th>director_facebook_likes</th>\n",
              "      <th>actor_3_facebook_likes</th>\n",
              "      <th>actor_2_name</th>\n",
              "      <th>actor_1_facebook_likes</th>\n",
              "      <th>gross</th>\n",
              "      <th>genres</th>\n",
              "      <th>actor_1_name</th>\n",
              "      <th>movie_title</th>\n",
              "      <th>num_voted_users</th>\n",
              "      <th>cast_total_facebook_likes</th>\n",
              "      <th>actor_3_name</th>\n",
              "      <th>plot_keywords</th>\n",
              "      <th>movie_imdb_link</th>\n",
              "      <th>num_user_for_reviews</th>\n",
              "      <th>language</th>\n",
              "      <th>country</th>\n",
              "      <th>content_rating</th>\n",
              "      <th>budget</th>\n",
              "      <th>title_year</th>\n",
              "      <th>actor_2_facebook_likes</th>\n",
              "      <th>imdb_score</th>\n",
              "      <th>movie_facebook_likes</th>\n",
              "      <th>first_genre</th>\n",
              "      <th>year</th>\n",
              "    </tr>\n",
              "  </thead>\n",
              "  <tbody>\n",
              "    <tr>\n",
              "      <th>1900</th>\n",
              "      <td>Frank Darabont</td>\n",
              "      <td>199.0</td>\n",
              "      <td>142.0</td>\n",
              "      <td>0.0</td>\n",
              "      <td>461.0</td>\n",
              "      <td>Jeffrey DeMunn</td>\n",
              "      <td>11000.0</td>\n",
              "      <td>28.0</td>\n",
              "      <td>['Crime', 'Drama']</td>\n",
              "      <td>Morgan Freeman</td>\n",
              "      <td>The Shawshank Redemption</td>\n",
              "      <td>1689764</td>\n",
              "      <td>13495</td>\n",
              "      <td>Bob Gunton</td>\n",
              "      <td>['escape from prison', 'first person narration...</td>\n",
              "      <td>http://www.imdb.com/title/tt0111161/?ref_=fn_t...</td>\n",
              "      <td>4144.0</td>\n",
              "      <td>English</td>\n",
              "      <td>USA</td>\n",
              "      <td>R</td>\n",
              "      <td>25.0</td>\n",
              "      <td>1994</td>\n",
              "      <td>745.0</td>\n",
              "      <td>9.3</td>\n",
              "      <td>108000</td>\n",
              "      <td>Crime</td>\n",
              "      <td>1994.0</td>\n",
              "    </tr>\n",
              "    <tr>\n",
              "      <th>65</th>\n",
              "      <td>Christopher Nolan</td>\n",
              "      <td>645.0</td>\n",
              "      <td>152.0</td>\n",
              "      <td>22000.0</td>\n",
              "      <td>11000.0</td>\n",
              "      <td>Heath Ledger</td>\n",
              "      <td>23000.0</td>\n",
              "      <td>533.0</td>\n",
              "      <td>['Action', 'Crime', 'Drama', 'Thriller']</td>\n",
              "      <td>Christian Bale</td>\n",
              "      <td>The Dark Knight</td>\n",
              "      <td>1676169</td>\n",
              "      <td>57802</td>\n",
              "      <td>Morgan Freeman</td>\n",
              "      <td>['based on comic book', 'dc comics', 'psychopa...</td>\n",
              "      <td>http://www.imdb.com/title/tt0468569/?ref_=fn_t...</td>\n",
              "      <td>4667.0</td>\n",
              "      <td>English</td>\n",
              "      <td>USA</td>\n",
              "      <td>PG-13</td>\n",
              "      <td>185.0</td>\n",
              "      <td>2008</td>\n",
              "      <td>13000.0</td>\n",
              "      <td>9.0</td>\n",
              "      <td>37000</td>\n",
              "      <td>Action</td>\n",
              "      <td>2008.0</td>\n",
              "    </tr>\n",
              "    <tr>\n",
              "      <th>96</th>\n",
              "      <td>Christopher Nolan</td>\n",
              "      <td>642.0</td>\n",
              "      <td>148.0</td>\n",
              "      <td>22000.0</td>\n",
              "      <td>23000.0</td>\n",
              "      <td>Tom Hardy</td>\n",
              "      <td>29000.0</td>\n",
              "      <td>292.0</td>\n",
              "      <td>['Action', 'Adventure', 'Sci-Fi', 'Thriller']</td>\n",
              "      <td>Leonardo DiCaprio</td>\n",
              "      <td>Inception</td>\n",
              "      <td>1468200</td>\n",
              "      <td>81115</td>\n",
              "      <td>Joseph Gordon-Levitt</td>\n",
              "      <td>['ambiguous ending', 'corporate espionage', 'd...</td>\n",
              "      <td>http://www.imdb.com/title/tt1375666/?ref_=fn_t...</td>\n",
              "      <td>2803.0</td>\n",
              "      <td>English</td>\n",
              "      <td>USA</td>\n",
              "      <td>PG-13</td>\n",
              "      <td>160.0</td>\n",
              "      <td>2010</td>\n",
              "      <td>27000.0</td>\n",
              "      <td>8.8</td>\n",
              "      <td>175000</td>\n",
              "      <td>Action</td>\n",
              "      <td>2010.0</td>\n",
              "    </tr>\n",
              "    <tr>\n",
              "      <th>672</th>\n",
              "      <td>David Fincher</td>\n",
              "      <td>315.0</td>\n",
              "      <td>151.0</td>\n",
              "      <td>21000.0</td>\n",
              "      <td>637.0</td>\n",
              "      <td>Meat Loaf</td>\n",
              "      <td>11000.0</td>\n",
              "      <td>37.0</td>\n",
              "      <td>['Drama']</td>\n",
              "      <td>Brad Pitt</td>\n",
              "      <td>Fight Club</td>\n",
              "      <td>1347461</td>\n",
              "      <td>13209</td>\n",
              "      <td>Eugenie Bondurant</td>\n",
              "      <td>['anti establishment', 'dark humor', 'fighting...</td>\n",
              "      <td>http://www.imdb.com/title/tt0137523/?ref_=fn_t...</td>\n",
              "      <td>2968.0</td>\n",
              "      <td>English</td>\n",
              "      <td>USA</td>\n",
              "      <td>R</td>\n",
              "      <td>63.0</td>\n",
              "      <td>1999</td>\n",
              "      <td>783.0</td>\n",
              "      <td>8.8</td>\n",
              "      <td>48000</td>\n",
              "      <td>Drama</td>\n",
              "      <td>1999.0</td>\n",
              "    </tr>\n",
              "    <tr>\n",
              "      <th>3288</th>\n",
              "      <td>Quentin Tarantino</td>\n",
              "      <td>215.0</td>\n",
              "      <td>178.0</td>\n",
              "      <td>16000.0</td>\n",
              "      <td>857.0</td>\n",
              "      <td>Eric Stoltz</td>\n",
              "      <td>13000.0</td>\n",
              "      <td>107.0</td>\n",
              "      <td>['Crime', 'Drama']</td>\n",
              "      <td>Bruce Willis</td>\n",
              "      <td>Pulp Fiction</td>\n",
              "      <td>1324680</td>\n",
              "      <td>16557</td>\n",
              "      <td>Phil LaMarr</td>\n",
              "      <td>['black comedy', 'cunnilingus', 'neo noir', 'n...</td>\n",
              "      <td>http://www.imdb.com/title/tt0110912/?ref_=fn_t...</td>\n",
              "      <td>2195.0</td>\n",
              "      <td>English</td>\n",
              "      <td>USA</td>\n",
              "      <td>R</td>\n",
              "      <td>8.0</td>\n",
              "      <td>1994</td>\n",
              "      <td>902.0</td>\n",
              "      <td>8.9</td>\n",
              "      <td>45000</td>\n",
              "      <td>Crime</td>\n",
              "      <td>1994.0</td>\n",
              "    </tr>\n",
              "    <tr>\n",
              "      <th>820</th>\n",
              "      <td>Robert Zemeckis</td>\n",
              "      <td>149.0</td>\n",
              "      <td>142.0</td>\n",
              "      <td>0.0</td>\n",
              "      <td>194.0</td>\n",
              "      <td>Siobhan Fallon Hogan</td>\n",
              "      <td>15000.0</td>\n",
              "      <td>329.0</td>\n",
              "      <td>['Comedy', 'Drama']</td>\n",
              "      <td>Tom Hanks</td>\n",
              "      <td>Forrest Gump</td>\n",
              "      <td>1251222</td>\n",
              "      <td>15700</td>\n",
              "      <td>Sam Anderson</td>\n",
              "      <td>['amputee', 'love', 'vietnam', 'vietnam war', ...</td>\n",
              "      <td>http://www.imdb.com/title/tt0109830/?ref_=fn_t...</td>\n",
              "      <td>1398.0</td>\n",
              "      <td>English</td>\n",
              "      <td>USA</td>\n",
              "      <td>PG-13</td>\n",
              "      <td>55.0</td>\n",
              "      <td>1994</td>\n",
              "      <td>294.0</td>\n",
              "      <td>8.8</td>\n",
              "      <td>59000</td>\n",
              "      <td>Comedy</td>\n",
              "      <td>1994.0</td>\n",
              "    </tr>\n",
              "    <tr>\n",
              "      <th>267</th>\n",
              "      <td>Peter Jackson</td>\n",
              "      <td>297.0</td>\n",
              "      <td>171.0</td>\n",
              "      <td>0.0</td>\n",
              "      <td>857.0</td>\n",
              "      <td>Orlando Bloom</td>\n",
              "      <td>16000.0</td>\n",
              "      <td>313.0</td>\n",
              "      <td>['Action', 'Adventure', 'Drama', 'Fantasy']</td>\n",
              "      <td>Christopher Lee</td>\n",
              "      <td>The Lord of the Rings: The Fellowship of the R...</td>\n",
              "      <td>1238746</td>\n",
              "      <td>22342</td>\n",
              "      <td>Billy Boyd</td>\n",
              "      <td>['elf', 'hobbit', 'middle earth', 'quest', 'ri...</td>\n",
              "      <td>http://www.imdb.com/title/tt0120737/?ref_=fn_t...</td>\n",
              "      <td>5060.0</td>\n",
              "      <td>English</td>\n",
              "      <td>New Zealand</td>\n",
              "      <td>PG-13</td>\n",
              "      <td>93.0</td>\n",
              "      <td>2001</td>\n",
              "      <td>5000.0</td>\n",
              "      <td>8.8</td>\n",
              "      <td>21000</td>\n",
              "      <td>Action</td>\n",
              "      <td>2001.0</td>\n",
              "    </tr>\n",
              "    <tr>\n",
              "      <th>643</th>\n",
              "      <td>Lana Wachowski</td>\n",
              "      <td>313.0</td>\n",
              "      <td>136.0</td>\n",
              "      <td>0.0</td>\n",
              "      <td>99.0</td>\n",
              "      <td>Marcus Chong</td>\n",
              "      <td>18000.0</td>\n",
              "      <td>171.0</td>\n",
              "      <td>['Action', 'Sci-Fi']</td>\n",
              "      <td>Keanu Reeves</td>\n",
              "      <td>The Matrix</td>\n",
              "      <td>1217752</td>\n",
              "      <td>18563</td>\n",
              "      <td>Gloria Foster</td>\n",
              "      <td>['artificial reality', 'computer', 'matrix', '...</td>\n",
              "      <td>http://www.imdb.com/title/tt0133093/?ref_=fn_t...</td>\n",
              "      <td>3646.0</td>\n",
              "      <td>English</td>\n",
              "      <td>USA</td>\n",
              "      <td>R</td>\n",
              "      <td>63.0</td>\n",
              "      <td>1999</td>\n",
              "      <td>145.0</td>\n",
              "      <td>8.7</td>\n",
              "      <td>25000</td>\n",
              "      <td>Action</td>\n",
              "      <td>1999.0</td>\n",
              "    </tr>\n",
              "    <tr>\n",
              "      <th>335</th>\n",
              "      <td>Peter Jackson</td>\n",
              "      <td>328.0</td>\n",
              "      <td>192.0</td>\n",
              "      <td>0.0</td>\n",
              "      <td>416.0</td>\n",
              "      <td>Billy Boyd</td>\n",
              "      <td>5000.0</td>\n",
              "      <td>377.0</td>\n",
              "      <td>['Action', 'Adventure', 'Drama', 'Fantasy']</td>\n",
              "      <td>Orlando Bloom</td>\n",
              "      <td>The Lord of the Rings: The Return of the King</td>\n",
              "      <td>1215718</td>\n",
              "      <td>6434</td>\n",
              "      <td>Bernard Hill</td>\n",
              "      <td>['battle', 'epic', 'king', 'orc', 'ring']</td>\n",
              "      <td>http://www.imdb.com/title/tt0167260/?ref_=fn_t...</td>\n",
              "      <td>3189.0</td>\n",
              "      <td>English</td>\n",
              "      <td>USA</td>\n",
              "      <td>PG-13</td>\n",
              "      <td>94.0</td>\n",
              "      <td>2003</td>\n",
              "      <td>857.0</td>\n",
              "      <td>8.9</td>\n",
              "      <td>16000</td>\n",
              "      <td>Action</td>\n",
              "      <td>2003.0</td>\n",
              "    </tr>\n",
              "    <tr>\n",
              "      <th>3396</th>\n",
              "      <td>Francis Ford Coppola</td>\n",
              "      <td>208.0</td>\n",
              "      <td>175.0</td>\n",
              "      <td>0.0</td>\n",
              "      <td>3000.0</td>\n",
              "      <td>Marlon Brando</td>\n",
              "      <td>14000.0</td>\n",
              "      <td>134.0</td>\n",
              "      <td>['Crime', 'Drama']</td>\n",
              "      <td>Al Pacino</td>\n",
              "      <td>The Godfather</td>\n",
              "      <td>1155770</td>\n",
              "      <td>28122</td>\n",
              "      <td>Robert Duvall</td>\n",
              "      <td>['crime family', 'mafia', 'organized crime', '...</td>\n",
              "      <td>http://www.imdb.com/title/tt0068646/?ref_=fn_t...</td>\n",
              "      <td>2238.0</td>\n",
              "      <td>English</td>\n",
              "      <td>USA</td>\n",
              "      <td>R</td>\n",
              "      <td>6.0</td>\n",
              "      <td>1972</td>\n",
              "      <td>10000.0</td>\n",
              "      <td>9.2</td>\n",
              "      <td>43000</td>\n",
              "      <td>Crime</td>\n",
              "      <td>1972.0</td>\n",
              "    </tr>\n",
              "  </tbody>\n",
              "</table>\n",
              "</div>"
            ],
            "text/plain": [
              "             director_name  num_critic_for_reviews  ...  first_genre    year\n",
              "1900        Frank Darabont                   199.0  ...        Crime  1994.0\n",
              "65       Christopher Nolan                   645.0  ...       Action  2008.0\n",
              "96       Christopher Nolan                   642.0  ...       Action  2010.0\n",
              "672          David Fincher                   315.0  ...        Drama  1999.0\n",
              "3288     Quentin Tarantino                   215.0  ...        Crime  1994.0\n",
              "820        Robert Zemeckis                   149.0  ...       Comedy  1994.0\n",
              "267          Peter Jackson                   297.0  ...       Action  2001.0\n",
              "643         Lana Wachowski                   313.0  ...       Action  1999.0\n",
              "335          Peter Jackson                   328.0  ...       Action  2003.0\n",
              "3396  Francis Ford Coppola                   208.0  ...        Crime  1972.0\n",
              "\n",
              "[10 rows x 27 columns]"
            ]
          },
          "metadata": {},
          "execution_count": 89
        }
      ]
    },
    {
      "cell_type": "code",
      "metadata": {
        "colab": {
          "base_uri": "https://localhost:8080/",
          "height": 622
        },
        "id": "FyhfpmK394Aw",
        "outputId": "73656005-5e42-46fe-d49d-d0976502c15b"
      },
      "source": [
        "import matplotlib.pyplot as plt \n",
        "fig,axs=plt.subplots(figsize=(10, 10))\n",
        "g=sns.barplot(y=top_voted['movie_title'],x=top_voted['num_voted_users'],\n",
        "              order = top_voted.sort_values('num_voted_users', ascending= False).movie_title,\n",
        "              palette = 'hls')\n",
        "g.set_title(\"Top 10 Voted Movies\", weight = \"bold\")\n",
        "plt.show()"
      ],
      "execution_count": 88,
      "outputs": [
        {
          "output_type": "display_data",
          "data": {
            "image/png": "[encoded data removed]",
            "text/plain": [
              "<Figure size 720x720 with 1 Axes>"
            ]
          },
          "metadata": {
            "needs_background": "light"
          }
        }
      ]
    },
    {
      "cell_type": "markdown",
      "metadata": {
        "id": "w2qU3hiCHvjB"
      },
      "source": [
        "Are we surprised at the top 10 voted piece? Not really."
      ]
    },
    {
      "cell_type": "markdown",
      "metadata": {
        "id": "qGJXH2WMIHQ-"
      },
      "source": [
        "## Top 10 most voted films vs their imdb scores"
      ]
    },
    {
      "cell_type": "code",
      "metadata": {
        "colab": {
          "base_uri": "https://localhost:8080/",
          "height": 359
        },
        "id": "x_Eduy4FIGNA",
        "outputId": "e16e6784-5069-49c4-ab25-aef2a9c517f1"
      },
      "source": [
        "top_voted[[\"movie_title\", \"num_voted_users\",\"imdb_score\"]]"
      ],
      "execution_count": 91,
      "outputs": [
        {
          "output_type": "execute_result",
          "data": {
            "text/html": [
              "<div>\n",
              "<style scoped>\n",
              "    .dataframe tbody tr th:only-of-type {\n",
              "        vertical-align: middle;\n",
              "    }\n",
              "\n",
              "    .dataframe tbody tr th {\n",
              "        vertical-align: top;\n",
              "    }\n",
              "\n",
              "    .dataframe thead th {\n",
              "        text-align: right;\n",
              "    }\n",
              "</style>\n",
              "<table border=\"1\" class=\"dataframe\">\n",
              "  <thead>\n",
              "    <tr style=\"text-align: right;\">\n",
              "      <th></th>\n",
              "      <th>movie_title</th>\n",
              "      <th>num_voted_users</th>\n",
              "      <th>imdb_score</th>\n",
              "    </tr>\n",
              "  </thead>\n",
              "  <tbody>\n",
              "    <tr>\n",
              "      <th>1900</th>\n",
              "      <td>The Shawshank Redemption</td>\n",
              "      <td>1689764</td>\n",
              "      <td>9.3</td>\n",
              "    </tr>\n",
              "    <tr>\n",
              "      <th>65</th>\n",
              "      <td>The Dark Knight</td>\n",
              "      <td>1676169</td>\n",
              "      <td>9.0</td>\n",
              "    </tr>\n",
              "    <tr>\n",
              "      <th>96</th>\n",
              "      <td>Inception</td>\n",
              "      <td>1468200</td>\n",
              "      <td>8.8</td>\n",
              "    </tr>\n",
              "    <tr>\n",
              "      <th>672</th>\n",
              "      <td>Fight Club</td>\n",
              "      <td>1347461</td>\n",
              "      <td>8.8</td>\n",
              "    </tr>\n",
              "    <tr>\n",
              "      <th>3288</th>\n",
              "      <td>Pulp Fiction</td>\n",
              "      <td>1324680</td>\n",
              "      <td>8.9</td>\n",
              "    </tr>\n",
              "    <tr>\n",
              "      <th>820</th>\n",
              "      <td>Forrest Gump</td>\n",
              "      <td>1251222</td>\n",
              "      <td>8.8</td>\n",
              "    </tr>\n",
              "    <tr>\n",
              "      <th>267</th>\n",
              "      <td>The Lord of the Rings: The Fellowship of the R...</td>\n",
              "      <td>1238746</td>\n",
              "      <td>8.8</td>\n",
              "    </tr>\n",
              "    <tr>\n",
              "      <th>643</th>\n",
              "      <td>The Matrix</td>\n",
              "      <td>1217752</td>\n",
              "      <td>8.7</td>\n",
              "    </tr>\n",
              "    <tr>\n",
              "      <th>335</th>\n",
              "      <td>The Lord of the Rings: The Return of the King</td>\n",
              "      <td>1215718</td>\n",
              "      <td>8.9</td>\n",
              "    </tr>\n",
              "    <tr>\n",
              "      <th>3396</th>\n",
              "      <td>The Godfather</td>\n",
              "      <td>1155770</td>\n",
              "      <td>9.2</td>\n",
              "    </tr>\n",
              "  </tbody>\n",
              "</table>\n",
              "</div>"
            ],
            "text/plain": [
              "                                            movie_title  ...  imdb_score\n",
              "1900                          The Shawshank Redemption   ...         9.3\n",
              "65                                     The Dark Knight   ...         9.0\n",
              "96                                           Inception   ...         8.8\n",
              "672                                         Fight Club   ...         8.8\n",
              "3288                                      Pulp Fiction   ...         8.9\n",
              "820                                       Forrest Gump   ...         8.8\n",
              "267   The Lord of the Rings: The Fellowship of the R...  ...         8.8\n",
              "643                                         The Matrix   ...         8.7\n",
              "335      The Lord of the Rings: The Return of the King   ...         8.9\n",
              "3396                                     The Godfather   ...         9.2\n",
              "\n",
              "[10 rows x 3 columns]"
            ]
          },
          "metadata": {},
          "execution_count": 91
        }
      ]
    },
    {
      "cell_type": "markdown",
      "metadata": {
        "id": "f3yhqyniNRK5"
      },
      "source": [
        "## How many movies are in each rating bucket?\n",
        "* horrible = 0 - 4\n",
        "* poor = 4.1 - 6\n",
        "* okay = 6.1 - 7.5\n",
        "* high = 7.6 - 8.5\n",
        "* amazing = 8.6 - 10"
      ]
    },
    {
      "cell_type": "code",
      "metadata": {
        "id": "hWJf42RlVuAI"
      },
      "source": [
        "df1['score_bin'] = pd.cut(df1.imdb_score, [0, 4, 6, 7.5, 8.5, 10],\n",
        "                              labels=['horrible', 'poor', 'okay', 'high', 'amazing'], right = True)"
      ],
      "execution_count": 92,
      "outputs": []
    },
    {
      "cell_type": "code",
      "metadata": {
        "colab": {
          "base_uri": "https://localhost:8080/",
          "height": 367
        },
        "id": "xbk3ca__YjNS",
        "outputId": "7fb9dd53-71e7-4ae4-d5cf-85095fb8ee3e"
      },
      "source": [
        "fig,axs=plt.subplots(figsize=(6, 4))\n",
        "sns.countplot('score_bin', data=df1, order = df1['score_bin'].value_counts().index).set_title(\"Num of movies in each rating bucket\", weight = \"bold\")"
      ],
      "execution_count": 103,
      "outputs": [
        {
          "output_type": "stream",
          "name": "stderr",
          "text": [
            "/usr/local/lib/python3.7/dist-packages/seaborn/_decorators.py:43: FutureWarning: Pass the following variable as a keyword arg: x. From version 0.12, the only valid positional argument will be `data`, and passing other arguments without an explicit keyword will result in an error or misinterpretation.\n",
            "  FutureWarning\n"
          ]
        },
        {
          "output_type": "execute_result",
          "data": {
            "text/plain": [
              "Text(0.5, 1.0, 'Num of movies in each rating bucket')"
            ]
          },
          "metadata": {},
          "execution_count": 103
        },
        {
          "output_type": "display_data",
          "data": {
            "image/png": "[encoded data removed]",
            "text/plain": [
              "<Figure size 432x288 with 1 Axes>"
            ]
          },
          "metadata": {
            "needs_background": "light"
          }
        }
      ]
    },
    {
      "cell_type": "markdown",
      "metadata": {
        "id": "FDtRhu8AChRq"
      },
      "source": [
        "## Avg number of users voted by score bin"
      ]
    },
    {
      "cell_type": "code",
      "metadata": {
        "id": "IwD65dKbCGym"
      },
      "source": [
        "avg_vote_by_bin = df1.groupby(\"score_bin\")[\"num_voted_users\"].mean().sort_values(ascending = False).reset_index()"
      ],
      "execution_count": 107,
      "outputs": []
    },
    {
      "cell_type": "code",
      "metadata": {
        "colab": {
          "base_uri": "https://localhost:8080/",
          "height": 204
        },
        "id": "xvhwRaSCCVBo",
        "outputId": "b00b528b-7c12-4ba6-bba4-0b0e4f3ffbba"
      },
      "source": [
        "avg_vote_by_bin"
      ],
      "execution_count": 108,
      "outputs": [
        {
          "output_type": "execute_result",
          "data": {
            "text/html": [
              "<div>\n",
              "<style scoped>\n",
              "    .dataframe tbody tr th:only-of-type {\n",
              "        vertical-align: middle;\n",
              "    }\n",
              "\n",
              "    .dataframe tbody tr th {\n",
              "        vertical-align: top;\n",
              "    }\n",
              "\n",
              "    .dataframe thead th {\n",
              "        text-align: right;\n",
              "    }\n",
              "</style>\n",
              "<table border=\"1\" class=\"dataframe\">\n",
              "  <thead>\n",
              "    <tr style=\"text-align: right;\">\n",
              "      <th></th>\n",
              "      <th>score_bin</th>\n",
              "      <th>num_voted_users</th>\n",
              "    </tr>\n",
              "  </thead>\n",
              "  <tbody>\n",
              "    <tr>\n",
              "      <th>0</th>\n",
              "      <td>amazing</td>\n",
              "      <td>819267.125000</td>\n",
              "    </tr>\n",
              "    <tr>\n",
              "      <th>1</th>\n",
              "      <td>high</td>\n",
              "      <td>243159.619134</td>\n",
              "    </tr>\n",
              "    <tr>\n",
              "      <th>2</th>\n",
              "      <td>okay</td>\n",
              "      <td>78556.602327</td>\n",
              "    </tr>\n",
              "    <tr>\n",
              "      <th>3</th>\n",
              "      <td>poor</td>\n",
              "      <td>34729.221239</td>\n",
              "    </tr>\n",
              "    <tr>\n",
              "      <th>4</th>\n",
              "      <td>horrible</td>\n",
              "      <td>15062.396450</td>\n",
              "    </tr>\n",
              "  </tbody>\n",
              "</table>\n",
              "</div>"
            ],
            "text/plain": [
              "  score_bin  num_voted_users\n",
              "0   amazing    819267.125000\n",
              "1      high    243159.619134\n",
              "2      okay     78556.602327\n",
              "3      poor     34729.221239\n",
              "4  horrible     15062.396450"
            ]
          },
          "metadata": {},
          "execution_count": 108
        }
      ]
    },
    {
      "cell_type": "code",
      "metadata": {
        "colab": {
          "base_uri": "https://localhost:8080/",
          "height": 531
        },
        "id": "1eJIE3F_Csv1",
        "outputId": "b9bf7491-f2db-4e21-df56-2305b2fd6442"
      },
      "source": [
        "fig,axs=plt.subplots(figsize=(10, 8))\n",
        "sns.barplot(y = 'score_bin', x = 'num_voted_users', data=avg_vote_by_bin, \n",
        "            order =avg_vote_by_bin.sort_values('num_voted_users', ascending= False).score_bin ).set_title(\"Avg num of voted users by score bin\", weight = \"bold\")"
      ],
      "execution_count": 110,
      "outputs": [
        {
          "output_type": "execute_result",
          "data": {
            "text/plain": [
              "Text(0.5, 1.0, 'Avg num of voted users by score bin')"
            ]
          },
          "metadata": {},
          "execution_count": 110
        },
        {
          "output_type": "display_data",
          "data": {
            "image/png": "[encoded data removed]",
            "text/plain": [
              "<Figure size 720x576 with 1 Axes>"
            ]
          },
          "metadata": {
            "needs_background": "light"
          }
        }
      ]
    },
    {
      "cell_type": "markdown",
      "metadata": {
        "id": "2uFUpRuNxUIu"
      },
      "source": [
        "## Top 10 directors by number of films"
      ]
    },
    {
      "cell_type": "code",
      "metadata": {
        "colab": {
          "base_uri": "https://localhost:8080/",
          "height": 560
        },
        "id": "CA1F9XQYqSIW",
        "outputId": "a26fce0f-eca5-4240-d81d-09b87f16c81c"
      },
      "source": [
        "fig,axs=plt.subplots(figsize=(15,10))\n",
        "g=sns.barplot(x=df1['director_name'].value_counts()[:10],y=df1['director_name'].value_counts()[:10].index)\n",
        "g.set_title(\"Top 10 directors by num of films\", weight = \"bold\")\n",
        "g.set_xlabel(\"director\", weight = \"bold\")\n",
        "plt.show()"
      ],
      "execution_count": 124,
      "outputs": [
        {
          "output_type": "display_data",
          "data": {
            "image/png": "[encoded data removed]",
            "text/plain": [
              "<Figure size 1080x720 with 1 Axes>"
            ]
          },
          "metadata": {
            "needs_background": "light"
          }
        }
      ]
    },
    {
      "cell_type": "code",
      "metadata": {
        "id": "-jBoMcrIzazO"
      },
      "source": [
        "#temp = df1[[\"director_name\", \"imdb_score\"]]\n",
        "group_by_dir = df1.groupby('director_name', sort=True)\n"
      ],
      "execution_count": null,
      "outputs": []
    },
    {
      "cell_type": "code",
      "metadata": {
        "colab": {
          "base_uri": "https://localhost:8080/"
        },
        "id": "BT4Zm9_bGTvv",
        "outputId": "4c8c921c-c7fb-4686-aae5-390603a23e60"
      },
      "source": [
        "group_by_dir.size().sort_values(ascending = False)[:10]"
      ],
      "execution_count": null,
      "outputs": [
        {
          "output_type": "execute_result",
          "data": {
            "text/plain": [
              "director_name\n",
              "Steven Spielberg     26\n",
              "Woody Allen          22\n",
              "Martin Scorsese      20\n",
              "Clint Eastwood       19\n",
              "Ridley Scott         17\n",
              "Steven Soderbergh    16\n",
              "Spike Lee            16\n",
              "Tim Burton           16\n",
              "Renny Harlin         15\n",
              "Oliver Stone         14\n",
              "dtype: int64"
            ]
          },
          "metadata": {},
          "execution_count": 232
        }
      ]
    },
    {
      "cell_type": "markdown",
      "metadata": {
        "id": "4h7-yFgJyHjn"
      },
      "source": [
        "## Top 10 directors by mean imdb score"
      ]
    },
    {
      "cell_type": "code",
      "metadata": {
        "id": "6PyTEwnp6o27"
      },
      "source": [
        "avg_score_top_dir = group_by_dir.agg(mean_score = (\"imdb_score\",np.mean)).mean_score.sort_values(ascending = False)[:10]"
      ],
      "execution_count": null,
      "outputs": []
    },
    {
      "cell_type": "code",
      "metadata": {
        "id": "GepxCkMGzns-"
      },
      "source": [
        "score_dir_df = avg_score_top_dir.to_frame().reset_index()\n"
      ],
      "execution_count": null,
      "outputs": []
    },
    {
      "cell_type": "code",
      "metadata": {
        "colab": {
          "base_uri": "https://localhost:8080/",
          "height": 359
        },
        "id": "hVKFSJUfF0Im",
        "outputId": "02fbd50d-4e05-4392-eeb7-073fd6eabf9a"
      },
      "source": [
        "score_dir_df"
      ],
      "execution_count": null,
      "outputs": [
        {
          "output_type": "execute_result",
          "data": {
            "text/html": [
              "<div>\n",
              "<style scoped>\n",
              "    .dataframe tbody tr th:only-of-type {\n",
              "        vertical-align: middle;\n",
              "    }\n",
              "\n",
              "    .dataframe tbody tr th {\n",
              "        vertical-align: top;\n",
              "    }\n",
              "\n",
              "    .dataframe thead th {\n",
              "        text-align: right;\n",
              "    }\n",
              "</style>\n",
              "<table border=\"1\" class=\"dataframe\">\n",
              "  <thead>\n",
              "    <tr style=\"text-align: right;\">\n",
              "      <th></th>\n",
              "      <th>director_name</th>\n",
              "      <th>mean_score</th>\n",
              "    </tr>\n",
              "  </thead>\n",
              "  <tbody>\n",
              "    <tr>\n",
              "      <th>0</th>\n",
              "      <td>Mitchell Altieri</td>\n",
              "      <td>8.700</td>\n",
              "    </tr>\n",
              "    <tr>\n",
              "      <th>1</th>\n",
              "      <td>Cary Bell</td>\n",
              "      <td>8.700</td>\n",
              "    </tr>\n",
              "    <tr>\n",
              "      <th>2</th>\n",
              "      <td>Sadyk Sher-Niyaz</td>\n",
              "      <td>8.700</td>\n",
              "    </tr>\n",
              "    <tr>\n",
              "      <th>3</th>\n",
              "      <td>Charles Chaplin</td>\n",
              "      <td>8.600</td>\n",
              "    </tr>\n",
              "    <tr>\n",
              "      <th>4</th>\n",
              "      <td>Mike Mayhall</td>\n",
              "      <td>8.600</td>\n",
              "    </tr>\n",
              "    <tr>\n",
              "      <th>5</th>\n",
              "      <td>Damien Chazelle</td>\n",
              "      <td>8.500</td>\n",
              "    </tr>\n",
              "    <tr>\n",
              "      <th>6</th>\n",
              "      <td>Sergio Leone</td>\n",
              "      <td>8.500</td>\n",
              "    </tr>\n",
              "    <tr>\n",
              "      <th>7</th>\n",
              "      <td>Christopher Nolan</td>\n",
              "      <td>8.425</td>\n",
              "    </tr>\n",
              "    <tr>\n",
              "      <th>8</th>\n",
              "      <td>Moustapha Akkad</td>\n",
              "      <td>8.400</td>\n",
              "    </tr>\n",
              "    <tr>\n",
              "      <th>9</th>\n",
              "      <td>Jay Oliva</td>\n",
              "      <td>8.400</td>\n",
              "    </tr>\n",
              "  </tbody>\n",
              "</table>\n",
              "</div>"
            ],
            "text/plain": [
              "       director_name  mean_score\n",
              "0   Mitchell Altieri       8.700\n",
              "1          Cary Bell       8.700\n",
              "2   Sadyk Sher-Niyaz       8.700\n",
              "3    Charles Chaplin       8.600\n",
              "4       Mike Mayhall       8.600\n",
              "5    Damien Chazelle       8.500\n",
              "6       Sergio Leone       8.500\n",
              "7  Christopher Nolan       8.425\n",
              "8    Moustapha Akkad       8.400\n",
              "9          Jay Oliva       8.400"
            ]
          },
          "metadata": {},
          "execution_count": 225
        }
      ]
    },
    {
      "cell_type": "code",
      "metadata": {
        "colab": {
          "base_uri": "https://localhost:8080/",
          "height": 249
        },
        "id": "jE4x9nNZyUJS",
        "outputId": "5176debe-75e0-45ee-857b-45cb1a4d2e07"
      },
      "source": [
        "fig,axs=plt.subplots(figsize=(20,5))\n",
        "sns.barplot(y='director_name',x=\"mean_score\", data = score_dir_df)\n",
        "g.set_title(\"Top 10 directors by mean imdb score\", weight = \"bold\")\n",
        "g.set_ylabel(\"director\", weight = \"bold\")\n",
        "plt.show()"
      ],
      "execution_count": null,
      "outputs": [
        {
          "output_type": "display_data",
          "data": {
            "image/png": "[encoded data removed]",
            "text/plain": [
              "<Figure size 1440x360 with 1 Axes>"
            ]
          },
          "metadata": {
            "needs_background": "light"
          }
        }
      ]
    },
    {
      "cell_type": "markdown",
      "metadata": {
        "id": "ojyci4pTLLAS"
      },
      "source": [
        "## Avg score for top 10 directors by count"
      ]
    },
    {
      "cell_type": "code",
      "metadata": {
        "id": "mQUOmoYkLKr6"
      },
      "source": [
        "top_10_dir = df1.groupby(\"director_name\").size().sort_values(ascending = False)[:10].index.to_list()"
      ],
      "execution_count": 130,
      "outputs": []
    },
    {
      "cell_type": "code",
      "metadata": {
        "colab": {
          "base_uri": "https://localhost:8080/"
        },
        "id": "1S_i46HuMVK5",
        "outputId": "ded3f45e-c200-498b-e83c-07e33f5dba55"
      },
      "source": [
        "top_10_dir"
      ],
      "execution_count": 131,
      "outputs": [
        {
          "output_type": "execute_result",
          "data": {
            "text/plain": [
              "['Steven Spielberg',\n",
              " 'Woody Allen',\n",
              " 'Martin Scorsese',\n",
              " 'Clint Eastwood',\n",
              " 'Ridley Scott',\n",
              " 'Steven Soderbergh',\n",
              " 'Spike Lee',\n",
              " 'Tim Burton',\n",
              " 'Renny Harlin',\n",
              " 'Oliver Stone']"
            ]
          },
          "metadata": {},
          "execution_count": 131
        }
      ]
    },
    {
      "cell_type": "code",
      "metadata": {
        "id": "7lA2Nvj3MsIg"
      },
      "source": [
        "# subset of movies shot by these directors above \n",
        "movies_by_top_dir = df1[df1['director_name'].isin(top_10_dir)]"
      ],
      "execution_count": 133,
      "outputs": []
    },
    {
      "cell_type": "code",
      "metadata": {
        "id": "X_XNl5TLNKAB"
      },
      "source": [
        "# subset of only the director names and imdb scores\n",
        "movies_by_top_dir_ = movies_by_top_dir[['director_name', 'imdb_score']]"
      ],
      "execution_count": 136,
      "outputs": []
    },
    {
      "cell_type": "code",
      "metadata": {
        "colab": {
          "base_uri": "https://localhost:8080/",
          "height": 390
        },
        "id": "CCGDwiBFNiRm",
        "outputId": "ab44a1a0-cc81-4cc0-d238-574e4fd634ad"
      },
      "source": [
        "movies_by_top_dir_.groupby('director_name').mean()"
      ],
      "execution_count": 137,
      "outputs": [
        {
          "output_type": "execute_result",
          "data": {
            "text/html": [
              "<div>\n",
              "<style scoped>\n",
              "    .dataframe tbody tr th:only-of-type {\n",
              "        vertical-align: middle;\n",
              "    }\n",
              "\n",
              "    .dataframe tbody tr th {\n",
              "        vertical-align: top;\n",
              "    }\n",
              "\n",
              "    .dataframe thead th {\n",
              "        text-align: right;\n",
              "    }\n",
              "</style>\n",
              "<table border=\"1\" class=\"dataframe\">\n",
              "  <thead>\n",
              "    <tr style=\"text-align: right;\">\n",
              "      <th></th>\n",
              "      <th>imdb_score</th>\n",
              "    </tr>\n",
              "    <tr>\n",
              "      <th>director_name</th>\n",
              "      <th></th>\n",
              "    </tr>\n",
              "  </thead>\n",
              "  <tbody>\n",
              "    <tr>\n",
              "      <th>Clint Eastwood</th>\n",
              "      <td>7.189474</td>\n",
              "    </tr>\n",
              "    <tr>\n",
              "      <th>Martin Scorsese</th>\n",
              "      <td>7.660000</td>\n",
              "    </tr>\n",
              "    <tr>\n",
              "      <th>Oliver Stone</th>\n",
              "      <td>6.950000</td>\n",
              "    </tr>\n",
              "    <tr>\n",
              "      <th>Renny Harlin</th>\n",
              "      <td>5.746667</td>\n",
              "    </tr>\n",
              "    <tr>\n",
              "      <th>Ridley Scott</th>\n",
              "      <td>7.070588</td>\n",
              "    </tr>\n",
              "    <tr>\n",
              "      <th>Spike Lee</th>\n",
              "      <td>6.568750</td>\n",
              "    </tr>\n",
              "    <tr>\n",
              "      <th>Steven Soderbergh</th>\n",
              "      <td>6.706250</td>\n",
              "    </tr>\n",
              "    <tr>\n",
              "      <th>Steven Spielberg</th>\n",
              "      <td>7.480769</td>\n",
              "    </tr>\n",
              "    <tr>\n",
              "      <th>Tim Burton</th>\n",
              "      <td>6.931250</td>\n",
              "    </tr>\n",
              "    <tr>\n",
              "      <th>Woody Allen</th>\n",
              "      <td>7.009091</td>\n",
              "    </tr>\n",
              "  </tbody>\n",
              "</table>\n",
              "</div>"
            ],
            "text/plain": [
              "                   imdb_score\n",
              "director_name                \n",
              "Clint Eastwood       7.189474\n",
              "Martin Scorsese      7.660000\n",
              "Oliver Stone         6.950000\n",
              "Renny Harlin         5.746667\n",
              "Ridley Scott         7.070588\n",
              "Spike Lee            6.568750\n",
              "Steven Soderbergh    6.706250\n",
              "Steven Spielberg     7.480769\n",
              "Tim Burton           6.931250\n",
              "Woody Allen          7.009091"
            ]
          },
          "metadata": {},
          "execution_count": 137
        }
      ]
    },
    {
      "cell_type": "markdown",
      "metadata": {
        "id": "iXQoBcjZN7jP"
      },
      "source": [
        "recall our score bins, we can see that for the directors with the most films, the mean score generally falls in the okay range, with one exception - Renny Harlin lands in the poor range.\n",
        "* horrible = 0 - 4\n",
        "* poor = 4.1 - 6\n",
        "* okay = 6.1 - 7.5\n",
        "* high = 7.6 - 8.5\n",
        "* amazing = 8.6 - 10"
      ]
    },
    {
      "cell_type": "markdown",
      "metadata": {
        "id": "J1zq9lCvWg2m"
      },
      "source": [
        "A list of all the movies Renny Harlin directed in this dataset and their imdb scores as of 2016."
      ]
    },
    {
      "cell_type": "code",
      "metadata": {
        "id": "ctDiqPBdOiC2"
      },
      "source": [
        "q = df1[['director_name', 'movie_title', 'imdb_score']]"
      ],
      "execution_count": 138,
      "outputs": []
    },
    {
      "cell_type": "code",
      "metadata": {
        "colab": {
          "base_uri": "https://localhost:8080/",
          "height": 514
        },
        "id": "cq2Jm60uWXBm",
        "outputId": "3074661e-962a-4c10-9cd5-6df9eee3cdaa"
      },
      "source": [
        "q.loc[q['director_name'] == 'Renny Harlin']"
      ],
      "execution_count": 139,
      "outputs": [
        {
          "output_type": "execute_result",
          "data": {
            "text/html": [
              "<div>\n",
              "<style scoped>\n",
              "    .dataframe tbody tr th:only-of-type {\n",
              "        vertical-align: middle;\n",
              "    }\n",
              "\n",
              "    .dataframe tbody tr th {\n",
              "        vertical-align: top;\n",
              "    }\n",
              "\n",
              "    .dataframe thead th {\n",
              "        text-align: right;\n",
              "    }\n",
              "</style>\n",
              "<table border=\"1\" class=\"dataframe\">\n",
              "  <thead>\n",
              "    <tr style=\"text-align: right;\">\n",
              "      <th></th>\n",
              "      <th>director_name</th>\n",
              "      <th>movie_title</th>\n",
              "      <th>imdb_score</th>\n",
              "    </tr>\n",
              "  </thead>\n",
              "  <tbody>\n",
              "    <tr>\n",
              "      <th>346</th>\n",
              "      <td>Renny Harlin</td>\n",
              "      <td>Cutthroat Island</td>\n",
              "      <td>5.6</td>\n",
              "    </tr>\n",
              "    <tr>\n",
              "      <th>525</th>\n",
              "      <td>Renny Harlin</td>\n",
              "      <td>Exorcist: The Beginning</td>\n",
              "      <td>5.1</td>\n",
              "    </tr>\n",
              "    <tr>\n",
              "      <th>568</th>\n",
              "      <td>Renny Harlin</td>\n",
              "      <td>Driven</td>\n",
              "      <td>4.5</td>\n",
              "    </tr>\n",
              "    <tr>\n",
              "      <th>582</th>\n",
              "      <td>Renny Harlin</td>\n",
              "      <td>Die Hard 2</td>\n",
              "      <td>7.1</td>\n",
              "    </tr>\n",
              "    <tr>\n",
              "      <th>619</th>\n",
              "      <td>Renny Harlin</td>\n",
              "      <td>The Legend of Hercules</td>\n",
              "      <td>4.2</td>\n",
              "    </tr>\n",
              "    <tr>\n",
              "      <th>654</th>\n",
              "      <td>Renny Harlin</td>\n",
              "      <td>Cliffhanger</td>\n",
              "      <td>6.4</td>\n",
              "    </tr>\n",
              "    <tr>\n",
              "      <th>669</th>\n",
              "      <td>Renny Harlin</td>\n",
              "      <td>The Long Kiss Goodnight</td>\n",
              "      <td>6.7</td>\n",
              "    </tr>\n",
              "    <tr>\n",
              "      <th>728</th>\n",
              "      <td>Renny Harlin</td>\n",
              "      <td>Deep Blue Sea</td>\n",
              "      <td>5.8</td>\n",
              "    </tr>\n",
              "    <tr>\n",
              "      <th>1014</th>\n",
              "      <td>Renny Harlin</td>\n",
              "      <td>The Adventures of Ford Fairlane</td>\n",
              "      <td>6.3</td>\n",
              "    </tr>\n",
              "    <tr>\n",
              "      <th>1792</th>\n",
              "      <td>Renny Harlin</td>\n",
              "      <td>Mindhunters</td>\n",
              "      <td>6.4</td>\n",
              "    </tr>\n",
              "    <tr>\n",
              "      <th>2192</th>\n",
              "      <td>Renny Harlin</td>\n",
              "      <td>The Covenant</td>\n",
              "      <td>5.3</td>\n",
              "    </tr>\n",
              "    <tr>\n",
              "      <th>2237</th>\n",
              "      <td>Renny Harlin</td>\n",
              "      <td>12 Rounds</td>\n",
              "      <td>5.6</td>\n",
              "    </tr>\n",
              "    <tr>\n",
              "      <th>2779</th>\n",
              "      <td>Renny Harlin</td>\n",
              "      <td>A Nightmare on Elm Street 4: The Dream Master</td>\n",
              "      <td>5.7</td>\n",
              "    </tr>\n",
              "    <tr>\n",
              "      <th>2951</th>\n",
              "      <td>Renny Harlin</td>\n",
              "      <td>5 Days of War</td>\n",
              "      <td>5.6</td>\n",
              "    </tr>\n",
              "    <tr>\n",
              "      <th>3855</th>\n",
              "      <td>Renny Harlin</td>\n",
              "      <td>Prison</td>\n",
              "      <td>5.9</td>\n",
              "    </tr>\n",
              "  </tbody>\n",
              "</table>\n",
              "</div>"
            ],
            "text/plain": [
              "     director_name                                     movie_title  imdb_score\n",
              "346   Renny Harlin                               Cutthroat Island          5.6\n",
              "525   Renny Harlin                        Exorcist: The Beginning          5.1\n",
              "568   Renny Harlin                                         Driven          4.5\n",
              "582   Renny Harlin                                     Die Hard 2          7.1\n",
              "619   Renny Harlin                         The Legend of Hercules          4.2\n",
              "654   Renny Harlin                                    Cliffhanger          6.4\n",
              "669   Renny Harlin                        The Long Kiss Goodnight          6.7\n",
              "728   Renny Harlin                                  Deep Blue Sea          5.8\n",
              "1014  Renny Harlin                The Adventures of Ford Fairlane          6.3\n",
              "1792  Renny Harlin                                    Mindhunters          6.4\n",
              "2192  Renny Harlin                                   The Covenant          5.3\n",
              "2237  Renny Harlin                                      12 Rounds          5.6\n",
              "2779  Renny Harlin  A Nightmare on Elm Street 4: The Dream Master          5.7\n",
              "2951  Renny Harlin                                  5 Days of War          5.6\n",
              "3855  Renny Harlin                                         Prison          5.9"
            ]
          },
          "metadata": {},
          "execution_count": 139
        }
      ]
    }
  ]
}