{
  "nbformat": 4,
  "nbformat_minor": 0,
  "metadata": {
    "colab": {
      "name": "IMDB_Regression.ipynb",
      "provenance": [],
      "collapsed_sections": [],
      "toc_visible": true
    },
    "kernelspec": {
      "name": "python3",
      "display_name": "Python 3"
    },
    "language_info": {
      "name": "python"
    }
  },
  "cells": [
    {
      "cell_type": "markdown",
      "metadata": {
        "id": "VClGkwiH8_0k"
      },
      "source": [
        "# PART 2: Feature Selection / Engineering & Regression Modeling"
      ]
    },
    {
      "cell_type": "code",
      "metadata": {
        "colab": {
          "base_uri": "https://localhost:8080/"
        },
        "id": "GScnYMe__Mgx",
        "outputId": "afe07ea9-1524-45ad-d853-73e825900e79"
      },
      "source": [
        "from google.colab import drive \n",
        "drive.mount('/content/gdrive')"
      ],
      "execution_count": 1,
      "outputs": [
        {
          "output_type": "stream",
          "name": "stdout",
          "text": [
            "Mounted at /content/gdrive\n"
          ]
        }
      ]
    },
    {
      "cell_type": "code",
      "metadata": {
        "id": "4-2PyKzg_V3V"
      },
      "source": [
        "import pandas as pd \n",
        "df=pd.read_csv('/content/gdrive/MyDrive/clean_imdb_2.csv')"
      ],
      "execution_count": 2,
      "outputs": []
    },
    {
      "cell_type": "code",
      "metadata": {
        "id": "VkUiddvXmEDb"
      },
      "source": [
        "import numpy as np"
      ],
      "execution_count": 3,
      "outputs": []
    },
    {
      "cell_type": "code",
      "metadata": {
        "colab": {
          "base_uri": "https://localhost:8080/",
          "height": 499
        },
        "id": "e8f3np2I_dqE",
        "outputId": "855f8da9-71f6-452c-f6c0-2e875ea828e7"
      },
      "source": [
        "df.head()"
      ],
      "execution_count": null,
      "outputs": [
        {
          "output_type": "execute_result",
          "data": {
            "text/html": [
              "<div>\n",
              "<style scoped>\n",
              "    .dataframe tbody tr th:only-of-type {\n",
              "        vertical-align: middle;\n",
              "    }\n",
              "\n",
              "    .dataframe tbody tr th {\n",
              "        vertical-align: top;\n",
              "    }\n",
              "\n",
              "    .dataframe thead th {\n",
              "        text-align: right;\n",
              "    }\n",
              "</style>\n",
              "<table border=\"1\" class=\"dataframe\">\n",
              "  <thead>\n",
              "    <tr style=\"text-align: right;\">\n",
              "      <th></th>\n",
              "      <th>Unnamed: 0</th>\n",
              "      <th>director_name</th>\n",
              "      <th>num_critic_for_reviews</th>\n",
              "      <th>duration</th>\n",
              "      <th>director_facebook_likes</th>\n",
              "      <th>actor_3_facebook_likes</th>\n",
              "      <th>actor_2_name</th>\n",
              "      <th>actor_1_facebook_likes</th>\n",
              "      <th>gross</th>\n",
              "      <th>genres</th>\n",
              "      <th>actor_1_name</th>\n",
              "      <th>movie_title</th>\n",
              "      <th>num_voted_users</th>\n",
              "      <th>cast_total_facebook_likes</th>\n",
              "      <th>actor_3_name</th>\n",
              "      <th>plot_keywords</th>\n",
              "      <th>movie_imdb_link</th>\n",
              "      <th>num_user_for_reviews</th>\n",
              "      <th>language</th>\n",
              "      <th>country</th>\n",
              "      <th>content_rating</th>\n",
              "      <th>budget</th>\n",
              "      <th>title_year</th>\n",
              "      <th>actor_2_facebook_likes</th>\n",
              "      <th>imdb_score</th>\n",
              "      <th>movie_facebook_likes</th>\n",
              "      <th>first_genre</th>\n",
              "      <th>year</th>\n",
              "    </tr>\n",
              "  </thead>\n",
              "  <tbody>\n",
              "    <tr>\n",
              "      <th>0</th>\n",
              "      <td>0</td>\n",
              "      <td>James Cameron</td>\n",
              "      <td>723.0</td>\n",
              "      <td>178.0</td>\n",
              "      <td>0.0</td>\n",
              "      <td>855.0</td>\n",
              "      <td>Joel David Moore</td>\n",
              "      <td>1000.0</td>\n",
              "      <td>760.0</td>\n",
              "      <td>['Action', 'Adventure', 'Fantasy', 'Sci-Fi']</td>\n",
              "      <td>CCH Pounder</td>\n",
              "      <td>Avatar</td>\n",
              "      <td>886204</td>\n",
              "      <td>4834</td>\n",
              "      <td>Wes Studi</td>\n",
              "      <td>['avatar', 'future', 'marine', 'native', 'para...</td>\n",
              "      <td>http://www.imdb.com/title/tt0499549/?ref_=fn_t...</td>\n",
              "      <td>3054.0</td>\n",
              "      <td>English</td>\n",
              "      <td>USA</td>\n",
              "      <td>PG-13</td>\n",
              "      <td>237.0</td>\n",
              "      <td>2009</td>\n",
              "      <td>936.0</td>\n",
              "      <td>7.9</td>\n",
              "      <td>33000</td>\n",
              "      <td>Action</td>\n",
              "      <td>2009.0</td>\n",
              "    </tr>\n",
              "    <tr>\n",
              "      <th>1</th>\n",
              "      <td>1</td>\n",
              "      <td>Gore Verbinski</td>\n",
              "      <td>302.0</td>\n",
              "      <td>169.0</td>\n",
              "      <td>563.0</td>\n",
              "      <td>1000.0</td>\n",
              "      <td>Orlando Bloom</td>\n",
              "      <td>40000.0</td>\n",
              "      <td>309.0</td>\n",
              "      <td>['Action', 'Adventure', 'Fantasy']</td>\n",
              "      <td>Johnny Depp</td>\n",
              "      <td>Pirates of the Caribbean: At World's End</td>\n",
              "      <td>471220</td>\n",
              "      <td>48350</td>\n",
              "      <td>Jack Davenport</td>\n",
              "      <td>['goddess', 'marriage ceremony', 'marriage pro...</td>\n",
              "      <td>http://www.imdb.com/title/tt0449088/?ref_=fn_t...</td>\n",
              "      <td>1238.0</td>\n",
              "      <td>English</td>\n",
              "      <td>USA</td>\n",
              "      <td>PG-13</td>\n",
              "      <td>300.0</td>\n",
              "      <td>2007</td>\n",
              "      <td>5000.0</td>\n",
              "      <td>7.1</td>\n",
              "      <td>0</td>\n",
              "      <td>Action</td>\n",
              "      <td>2007.0</td>\n",
              "    </tr>\n",
              "    <tr>\n",
              "      <th>2</th>\n",
              "      <td>2</td>\n",
              "      <td>Sam Mendes</td>\n",
              "      <td>602.0</td>\n",
              "      <td>148.0</td>\n",
              "      <td>0.0</td>\n",
              "      <td>161.0</td>\n",
              "      <td>Rory Kinnear</td>\n",
              "      <td>11000.0</td>\n",
              "      <td>200.0</td>\n",
              "      <td>['Action', 'Adventure', 'Thriller']</td>\n",
              "      <td>Christoph Waltz</td>\n",
              "      <td>Spectre</td>\n",
              "      <td>275868</td>\n",
              "      <td>11700</td>\n",
              "      <td>Stephanie Sigman</td>\n",
              "      <td>['bomb', 'espionage', 'sequel', 'spy', 'terror...</td>\n",
              "      <td>http://www.imdb.com/title/tt2379713/?ref_=fn_t...</td>\n",
              "      <td>994.0</td>\n",
              "      <td>English</td>\n",
              "      <td>UK</td>\n",
              "      <td>PG-13</td>\n",
              "      <td>245.0</td>\n",
              "      <td>2015</td>\n",
              "      <td>393.0</td>\n",
              "      <td>6.8</td>\n",
              "      <td>85000</td>\n",
              "      <td>Action</td>\n",
              "      <td>2015.0</td>\n",
              "    </tr>\n",
              "    <tr>\n",
              "      <th>3</th>\n",
              "      <td>3</td>\n",
              "      <td>Christopher Nolan</td>\n",
              "      <td>813.0</td>\n",
              "      <td>164.0</td>\n",
              "      <td>22000.0</td>\n",
              "      <td>23000.0</td>\n",
              "      <td>Christian Bale</td>\n",
              "      <td>27000.0</td>\n",
              "      <td>448.0</td>\n",
              "      <td>['Action', 'Thriller']</td>\n",
              "      <td>Tom Hardy</td>\n",
              "      <td>The Dark Knight Rises</td>\n",
              "      <td>1144337</td>\n",
              "      <td>106759</td>\n",
              "      <td>Joseph Gordon-Levitt</td>\n",
              "      <td>['deception', 'imprisonment', 'lawlessness', '...</td>\n",
              "      <td>http://www.imdb.com/title/tt1345836/?ref_=fn_t...</td>\n",
              "      <td>2701.0</td>\n",
              "      <td>English</td>\n",
              "      <td>USA</td>\n",
              "      <td>PG-13</td>\n",
              "      <td>250.0</td>\n",
              "      <td>2012</td>\n",
              "      <td>23000.0</td>\n",
              "      <td>8.5</td>\n",
              "      <td>164000</td>\n",
              "      <td>Action</td>\n",
              "      <td>2012.0</td>\n",
              "    </tr>\n",
              "    <tr>\n",
              "      <th>4</th>\n",
              "      <td>4</td>\n",
              "      <td>Andrew Stanton</td>\n",
              "      <td>462.0</td>\n",
              "      <td>132.0</td>\n",
              "      <td>475.0</td>\n",
              "      <td>530.0</td>\n",
              "      <td>Samantha Morton</td>\n",
              "      <td>640.0</td>\n",
              "      <td>73.0</td>\n",
              "      <td>['Action', 'Adventure', 'Sci-Fi']</td>\n",
              "      <td>Daryl Sabara</td>\n",
              "      <td>John Carter</td>\n",
              "      <td>212204</td>\n",
              "      <td>1873</td>\n",
              "      <td>Polly Walker</td>\n",
              "      <td>['alien', 'american civil war', 'male nipple',...</td>\n",
              "      <td>http://www.imdb.com/title/tt0401729/?ref_=fn_t...</td>\n",
              "      <td>738.0</td>\n",
              "      <td>English</td>\n",
              "      <td>USA</td>\n",
              "      <td>PG-13</td>\n",
              "      <td>263.0</td>\n",
              "      <td>2012</td>\n",
              "      <td>632.0</td>\n",
              "      <td>6.6</td>\n",
              "      <td>24000</td>\n",
              "      <td>Action</td>\n",
              "      <td>2012.0</td>\n",
              "    </tr>\n",
              "  </tbody>\n",
              "</table>\n",
              "</div>"
            ],
            "text/plain": [
              "   Unnamed: 0      director_name  ...  first_genre    year\n",
              "0           0      James Cameron  ...       Action  2009.0\n",
              "1           1     Gore Verbinski  ...       Action  2007.0\n",
              "2           2         Sam Mendes  ...       Action  2015.0\n",
              "3           3  Christopher Nolan  ...       Action  2012.0\n",
              "4           4     Andrew Stanton  ...       Action  2012.0\n",
              "\n",
              "[5 rows x 28 columns]"
            ]
          },
          "metadata": {},
          "execution_count": 4
        }
      ]
    },
    {
      "cell_type": "code",
      "metadata": {
        "id": "BRXI7xPs_gz2"
      },
      "source": [
        "df = df.drop(\"Unnamed: 0\", axis = 1)"
      ],
      "execution_count": 15,
      "outputs": []
    },
    {
      "cell_type": "code",
      "metadata": {
        "colab": {
          "base_uri": "https://localhost:8080/",
          "height": 482
        },
        "id": "9aj75I6T_uEN",
        "outputId": "c1c660a7-d4f7-4765-e903-41d0cf4564f6"
      },
      "source": [
        "df.head()"
      ],
      "execution_count": null,
      "outputs": [
        {
          "output_type": "execute_result",
          "data": {
            "text/html": [
              "<div>\n",
              "<style scoped>\n",
              "    .dataframe tbody tr th:only-of-type {\n",
              "        vertical-align: middle;\n",
              "    }\n",
              "\n",
              "    .dataframe tbody tr th {\n",
              "        vertical-align: top;\n",
              "    }\n",
              "\n",
              "    .dataframe thead th {\n",
              "        text-align: right;\n",
              "    }\n",
              "</style>\n",
              "<table border=\"1\" class=\"dataframe\">\n",
              "  <thead>\n",
              "    <tr style=\"text-align: right;\">\n",
              "      <th></th>\n",
              "      <th>director_name</th>\n",
              "      <th>num_critic_for_reviews</th>\n",
              "      <th>duration</th>\n",
              "      <th>director_facebook_likes</th>\n",
              "      <th>actor_3_facebook_likes</th>\n",
              "      <th>actor_2_name</th>\n",
              "      <th>actor_1_facebook_likes</th>\n",
              "      <th>gross</th>\n",
              "      <th>genres</th>\n",
              "      <th>actor_1_name</th>\n",
              "      <th>movie_title</th>\n",
              "      <th>num_voted_users</th>\n",
              "      <th>cast_total_facebook_likes</th>\n",
              "      <th>actor_3_name</th>\n",
              "      <th>plot_keywords</th>\n",
              "      <th>movie_imdb_link</th>\n",
              "      <th>num_user_for_reviews</th>\n",
              "      <th>language</th>\n",
              "      <th>country</th>\n",
              "      <th>content_rating</th>\n",
              "      <th>budget</th>\n",
              "      <th>title_year</th>\n",
              "      <th>actor_2_facebook_likes</th>\n",
              "      <th>imdb_score</th>\n",
              "      <th>movie_facebook_likes</th>\n",
              "      <th>first_genre</th>\n",
              "      <th>year</th>\n",
              "    </tr>\n",
              "  </thead>\n",
              "  <tbody>\n",
              "    <tr>\n",
              "      <th>0</th>\n",
              "      <td>James Cameron</td>\n",
              "      <td>723.0</td>\n",
              "      <td>178.0</td>\n",
              "      <td>0.0</td>\n",
              "      <td>855.0</td>\n",
              "      <td>Joel David Moore</td>\n",
              "      <td>1000.0</td>\n",
              "      <td>760.0</td>\n",
              "      <td>['Action', 'Adventure', 'Fantasy', 'Sci-Fi']</td>\n",
              "      <td>CCH Pounder</td>\n",
              "      <td>Avatar</td>\n",
              "      <td>886204</td>\n",
              "      <td>4834</td>\n",
              "      <td>Wes Studi</td>\n",
              "      <td>['avatar', 'future', 'marine', 'native', 'para...</td>\n",
              "      <td>http://www.imdb.com/title/tt0499549/?ref_=fn_t...</td>\n",
              "      <td>3054.0</td>\n",
              "      <td>English</td>\n",
              "      <td>USA</td>\n",
              "      <td>PG-13</td>\n",
              "      <td>237.0</td>\n",
              "      <td>2009</td>\n",
              "      <td>936.0</td>\n",
              "      <td>7.9</td>\n",
              "      <td>33000</td>\n",
              "      <td>Action</td>\n",
              "      <td>2009.0</td>\n",
              "    </tr>\n",
              "    <tr>\n",
              "      <th>1</th>\n",
              "      <td>Gore Verbinski</td>\n",
              "      <td>302.0</td>\n",
              "      <td>169.0</td>\n",
              "      <td>563.0</td>\n",
              "      <td>1000.0</td>\n",
              "      <td>Orlando Bloom</td>\n",
              "      <td>40000.0</td>\n",
              "      <td>309.0</td>\n",
              "      <td>['Action', 'Adventure', 'Fantasy']</td>\n",
              "      <td>Johnny Depp</td>\n",
              "      <td>Pirates of the Caribbean: At World's End</td>\n",
              "      <td>471220</td>\n",
              "      <td>48350</td>\n",
              "      <td>Jack Davenport</td>\n",
              "      <td>['goddess', 'marriage ceremony', 'marriage pro...</td>\n",
              "      <td>http://www.imdb.com/title/tt0449088/?ref_=fn_t...</td>\n",
              "      <td>1238.0</td>\n",
              "      <td>English</td>\n",
              "      <td>USA</td>\n",
              "      <td>PG-13</td>\n",
              "      <td>300.0</td>\n",
              "      <td>2007</td>\n",
              "      <td>5000.0</td>\n",
              "      <td>7.1</td>\n",
              "      <td>0</td>\n",
              "      <td>Action</td>\n",
              "      <td>2007.0</td>\n",
              "    </tr>\n",
              "    <tr>\n",
              "      <th>2</th>\n",
              "      <td>Sam Mendes</td>\n",
              "      <td>602.0</td>\n",
              "      <td>148.0</td>\n",
              "      <td>0.0</td>\n",
              "      <td>161.0</td>\n",
              "      <td>Rory Kinnear</td>\n",
              "      <td>11000.0</td>\n",
              "      <td>200.0</td>\n",
              "      <td>['Action', 'Adventure', 'Thriller']</td>\n",
              "      <td>Christoph Waltz</td>\n",
              "      <td>Spectre</td>\n",
              "      <td>275868</td>\n",
              "      <td>11700</td>\n",
              "      <td>Stephanie Sigman</td>\n",
              "      <td>['bomb', 'espionage', 'sequel', 'spy', 'terror...</td>\n",
              "      <td>http://www.imdb.com/title/tt2379713/?ref_=fn_t...</td>\n",
              "      <td>994.0</td>\n",
              "      <td>English</td>\n",
              "      <td>UK</td>\n",
              "      <td>PG-13</td>\n",
              "      <td>245.0</td>\n",
              "      <td>2015</td>\n",
              "      <td>393.0</td>\n",
              "      <td>6.8</td>\n",
              "      <td>85000</td>\n",
              "      <td>Action</td>\n",
              "      <td>2015.0</td>\n",
              "    </tr>\n",
              "    <tr>\n",
              "      <th>3</th>\n",
              "      <td>Christopher Nolan</td>\n",
              "      <td>813.0</td>\n",
              "      <td>164.0</td>\n",
              "      <td>22000.0</td>\n",
              "      <td>23000.0</td>\n",
              "      <td>Christian Bale</td>\n",
              "      <td>27000.0</td>\n",
              "      <td>448.0</td>\n",
              "      <td>['Action', 'Thriller']</td>\n",
              "      <td>Tom Hardy</td>\n",
              "      <td>The Dark Knight Rises</td>\n",
              "      <td>1144337</td>\n",
              "      <td>106759</td>\n",
              "      <td>Joseph Gordon-Levitt</td>\n",
              "      <td>['deception', 'imprisonment', 'lawlessness', '...</td>\n",
              "      <td>http://www.imdb.com/title/tt1345836/?ref_=fn_t...</td>\n",
              "      <td>2701.0</td>\n",
              "      <td>English</td>\n",
              "      <td>USA</td>\n",
              "      <td>PG-13</td>\n",
              "      <td>250.0</td>\n",
              "      <td>2012</td>\n",
              "      <td>23000.0</td>\n",
              "      <td>8.5</td>\n",
              "      <td>164000</td>\n",
              "      <td>Action</td>\n",
              "      <td>2012.0</td>\n",
              "    </tr>\n",
              "    <tr>\n",
              "      <th>4</th>\n",
              "      <td>Andrew Stanton</td>\n",
              "      <td>462.0</td>\n",
              "      <td>132.0</td>\n",
              "      <td>475.0</td>\n",
              "      <td>530.0</td>\n",
              "      <td>Samantha Morton</td>\n",
              "      <td>640.0</td>\n",
              "      <td>73.0</td>\n",
              "      <td>['Action', 'Adventure', 'Sci-Fi']</td>\n",
              "      <td>Daryl Sabara</td>\n",
              "      <td>John Carter</td>\n",
              "      <td>212204</td>\n",
              "      <td>1873</td>\n",
              "      <td>Polly Walker</td>\n",
              "      <td>['alien', 'american civil war', 'male nipple',...</td>\n",
              "      <td>http://www.imdb.com/title/tt0401729/?ref_=fn_t...</td>\n",
              "      <td>738.0</td>\n",
              "      <td>English</td>\n",
              "      <td>USA</td>\n",
              "      <td>PG-13</td>\n",
              "      <td>263.0</td>\n",
              "      <td>2012</td>\n",
              "      <td>632.0</td>\n",
              "      <td>6.6</td>\n",
              "      <td>24000</td>\n",
              "      <td>Action</td>\n",
              "      <td>2012.0</td>\n",
              "    </tr>\n",
              "  </tbody>\n",
              "</table>\n",
              "</div>"
            ],
            "text/plain": [
              "       director_name  num_critic_for_reviews  ...  first_genre    year\n",
              "0      James Cameron                   723.0  ...       Action  2009.0\n",
              "1     Gore Verbinski                   302.0  ...       Action  2007.0\n",
              "2         Sam Mendes                   602.0  ...       Action  2015.0\n",
              "3  Christopher Nolan                   813.0  ...       Action  2012.0\n",
              "4     Andrew Stanton                   462.0  ...       Action  2012.0\n",
              "\n",
              "[5 rows x 27 columns]"
            ]
          },
          "metadata": {},
          "execution_count": 6
        }
      ]
    },
    {
      "cell_type": "markdown",
      "metadata": {
        "id": "fUlv88_Q9Jn2"
      },
      "source": [
        "## 2.1: Feature Selection"
      ]
    },
    {
      "cell_type": "code",
      "metadata": {
        "id": "qBcmd52iAklm"
      },
      "source": [
        "df1 = df.copy()"
      ],
      "execution_count": 16,
      "outputs": []
    },
    {
      "cell_type": "code",
      "metadata": {
        "id": "RDGncuIRW9ZP"
      },
      "source": [
        "# make movie_title an index of df1\n",
        "df1 = df1.set_index(\"movie_title\")"
      ],
      "execution_count": 17,
      "outputs": []
    },
    {
      "cell_type": "code",
      "metadata": {
        "id": "9N_Noeu4rf6k"
      },
      "source": [
        "# separate Y label\n",
        "Y = df1[\"imdb_score\"]"
      ],
      "execution_count": 18,
      "outputs": []
    },
    {
      "cell_type": "markdown",
      "metadata": {
        "id": "KB4EHUL3-d38"
      },
      "source": [
        "### 2.1.1: Feature Selection deep dive"
      ]
    },
    {
      "cell_type": "code",
      "metadata": {
        "id": "Qs3qbH-SB-H2"
      },
      "source": [
        "# features need to be removed \n",
        "remove = [\"director_name\", \"actor_1_name\", \"actor_2_name\", \"actor_3_name\", \"genres\", \n",
        "          \"cast_total_facebook_likes\", \"language\", \"country\", \"imdb_score\", \"title_year\", \"plot_keywords\", \"movie_imdb_link\"]"
      ],
      "execution_count": 19,
      "outputs": []
    },
    {
      "cell_type": "code",
      "metadata": {
        "id": "h4isNWNZOYed"
      },
      "source": [
        "# the remaining dataframe (note: not all left are predictive features yet)\n",
        "df1 = df1.drop(remove, axis = 1)"
      ],
      "execution_count": 20,
      "outputs": []
    },
    {
      "cell_type": "markdown",
      "metadata": {
        "id": "syMEV2G9Lmxu"
      },
      "source": [
        "Why do we remove these features?\n",
        "\n",
        "* names: We assume their facebook likes can directly associate with the popularity / importance of each director / actor. Facebook might not be everyone's primary choice of following / liking directors or actors these days, but it is a good relative scale of measurement for their importance. This also avoids us creating too many bag of words vectors, if not neccessary.\n",
        "\n",
        "* genres: I want to discuss various genres in unsupervised clustering, in a different notebook, so for this regression mission, we'll inherit previous assumption about the first genre being the \"strongest associated genre\" with a movie, and only use that feature instead.\n",
        "\n",
        "* cast total facebook likes: it is equal to the sum of actor 1, actor 2, and actor 3 facebook likes. It'll be highly correlated to these features and most likely be rated least important from the models. So we'll just toss it now.\n",
        "\n",
        "* language: all movies in this dataset are in english, no need to keep this info\n",
        "\n",
        "* country: Because we removed all the non-Eng movies, my assumption is that as long as the movie is in English, people don't care much about whether the movie was American, British, or else. For example, when we compare the Harry Pottery series with, say, Mary Poppins', do we really rate the movie higher depends on the country of origin? To me, it's not important.\n",
        "\n",
        "* imdb_score: this is our predicting target"
      ]
    },
    {
      "cell_type": "code",
      "metadata": {
        "id": "_LIHYbxTN6I0"
      },
      "source": [
        "# have to do dummie variables here because \n",
        "# when I first splitted the train / test set, there are different numbers of  categories \n",
        "# in content_rating, in the train and test set\n",
        "# causing modeling unable to fit because of mismatched dataframe shapes\n",
        "\n",
        "df1 = pd.get_dummies(df1, columns=['content_rating', 'first_genre'], sparse = True)"
      ],
      "execution_count": 21,
      "outputs": []
    },
    {
      "cell_type": "code",
      "metadata": {
        "id": "KpwGdEusryuD"
      },
      "source": [
        "X = df1.copy()"
      ],
      "execution_count": 22,
      "outputs": []
    },
    {
      "cell_type": "code",
      "metadata": {
        "colab": {
          "base_uri": "https://localhost:8080/"
        },
        "id": "rEFfzywoOjIi",
        "outputId": "bae02695-1266-43cf-bf4a-73490ffc36d9"
      },
      "source": [
        "df1.info()"
      ],
      "execution_count": null,
      "outputs": [
        {
          "output_type": "stream",
          "name": "stdout",
          "text": [
            "<class 'pandas.core.frame.DataFrame'>\n",
            "Index: 4603 entries, Avatar  to My Date with Drew \n",
            "Data columns (total 44 columns):\n",
            " #   Column                    Non-Null Count  Dtype           \n",
            "---  ------                    --------------  -----           \n",
            " 0   num_critic_for_reviews    4603 non-null   float64         \n",
            " 1   duration                  4603 non-null   float64         \n",
            " 2   director_facebook_likes   4603 non-null   float64         \n",
            " 3   actor_3_facebook_likes    4603 non-null   float64         \n",
            " 4   actor_1_facebook_likes    4603 non-null   float64         \n",
            " 5   gross                     4603 non-null   float64         \n",
            " 6   num_voted_users           4603 non-null   int64           \n",
            " 7   num_user_for_reviews      4603 non-null   float64         \n",
            " 8   budget                    4603 non-null   float64         \n",
            " 9   actor_2_facebook_likes    4603 non-null   float64         \n",
            " 10  movie_facebook_likes      4603 non-null   int64           \n",
            " 11  year                      4603 non-null   float64         \n",
            " 12  content_rating_Approved   4603 non-null   Sparse[uint8, 0]\n",
            " 13  content_rating_G          4603 non-null   Sparse[uint8, 0]\n",
            " 14  content_rating_GP         4603 non-null   Sparse[uint8, 0]\n",
            " 15  content_rating_M          4603 non-null   Sparse[uint8, 0]\n",
            " 16  content_rating_NC-17      4603 non-null   Sparse[uint8, 0]\n",
            " 17  content_rating_Not Rated  4603 non-null   Sparse[uint8, 0]\n",
            " 18  content_rating_PG         4603 non-null   Sparse[uint8, 0]\n",
            " 19  content_rating_PG-13      4603 non-null   Sparse[uint8, 0]\n",
            " 20  content_rating_Passed     4603 non-null   Sparse[uint8, 0]\n",
            " 21  content_rating_R          4603 non-null   Sparse[uint8, 0]\n",
            " 22  content_rating_TV-14      4603 non-null   Sparse[uint8, 0]\n",
            " 23  content_rating_TV-G       4603 non-null   Sparse[uint8, 0]\n",
            " 24  content_rating_TV-PG      4603 non-null   Sparse[uint8, 0]\n",
            " 25  content_rating_Unrated    4603 non-null   Sparse[uint8, 0]\n",
            " 26  content_rating_X          4603 non-null   Sparse[uint8, 0]\n",
            " 27  first_genre_Action        4603 non-null   Sparse[uint8, 0]\n",
            " 28  first_genre_Adventure     4603 non-null   Sparse[uint8, 0]\n",
            " 29  first_genre_Animation     4603 non-null   Sparse[uint8, 0]\n",
            " 30  first_genre_Biography     4603 non-null   Sparse[uint8, 0]\n",
            " 31  first_genre_Comedy        4603 non-null   Sparse[uint8, 0]\n",
            " 32  first_genre_Crime         4603 non-null   Sparse[uint8, 0]\n",
            " 33  first_genre_Documentary   4603 non-null   Sparse[uint8, 0]\n",
            " 34  first_genre_Drama         4603 non-null   Sparse[uint8, 0]\n",
            " 35  first_genre_Family        4603 non-null   Sparse[uint8, 0]\n",
            " 36  first_genre_Fantasy       4603 non-null   Sparse[uint8, 0]\n",
            " 37  first_genre_Horror        4603 non-null   Sparse[uint8, 0]\n",
            " 38  first_genre_Musical       4603 non-null   Sparse[uint8, 0]\n",
            " 39  first_genre_Mystery       4603 non-null   Sparse[uint8, 0]\n",
            " 40  first_genre_Romance       4603 non-null   Sparse[uint8, 0]\n",
            " 41  first_genre_Sci-Fi        4603 non-null   Sparse[uint8, 0]\n",
            " 42  first_genre_Thriller      4603 non-null   Sparse[uint8, 0]\n",
            " 43  first_genre_Western       4603 non-null   Sparse[uint8, 0]\n",
            "dtypes: Sparse[uint8, 0](32), float64(10), int64(2)\n",
            "memory usage: 511.6+ KB\n"
          ]
        }
      ]
    },
    {
      "cell_type": "markdown",
      "metadata": {
        "id": "DsK0kOL4-obV"
      },
      "source": [
        "### 2.1.2: Train-validation-test split"
      ]
    },
    {
      "cell_type": "code",
      "metadata": {
        "id": "w5gcr6FerUOV"
      },
      "source": [
        "X1 = X.copy()\n",
        "Y1 = Y.copy()"
      ],
      "execution_count": null,
      "outputs": []
    },
    {
      "cell_type": "code",
      "metadata": {
        "colab": {
          "base_uri": "https://localhost:8080/",
          "height": 148
        },
        "id": "FM-d1KF5gqaO",
        "outputId": "e1e3fe41-014f-4747-d1a4-42b74a48be20"
      },
      "source": [
        "X1.head(1)"
      ],
      "execution_count": null,
      "outputs": [
        {
          "output_type": "execute_result",
          "data": {
            "text/html": [
              "<div>\n",
              "<style scoped>\n",
              "    .dataframe tbody tr th:only-of-type {\n",
              "        vertical-align: middle;\n",
              "    }\n",
              "\n",
              "    .dataframe tbody tr th {\n",
              "        vertical-align: top;\n",
              "    }\n",
              "\n",
              "    .dataframe thead th {\n",
              "        text-align: right;\n",
              "    }\n",
              "</style>\n",
              "<table border=\"1\" class=\"dataframe\">\n",
              "  <thead>\n",
              "    <tr style=\"text-align: right;\">\n",
              "      <th></th>\n",
              "      <th>num_critic_for_reviews</th>\n",
              "      <th>duration</th>\n",
              "      <th>director_facebook_likes</th>\n",
              "      <th>actor_3_facebook_likes</th>\n",
              "      <th>actor_1_facebook_likes</th>\n",
              "      <th>gross</th>\n",
              "      <th>num_voted_users</th>\n",
              "      <th>num_user_for_reviews</th>\n",
              "      <th>budget</th>\n",
              "      <th>actor_2_facebook_likes</th>\n",
              "      <th>movie_facebook_likes</th>\n",
              "      <th>year</th>\n",
              "      <th>content_rating_Approved</th>\n",
              "      <th>content_rating_G</th>\n",
              "      <th>content_rating_GP</th>\n",
              "      <th>content_rating_M</th>\n",
              "      <th>content_rating_NC-17</th>\n",
              "      <th>content_rating_Not Rated</th>\n",
              "      <th>content_rating_PG</th>\n",
              "      <th>content_rating_PG-13</th>\n",
              "      <th>content_rating_Passed</th>\n",
              "      <th>content_rating_R</th>\n",
              "      <th>content_rating_TV-14</th>\n",
              "      <th>content_rating_TV-G</th>\n",
              "      <th>content_rating_TV-PG</th>\n",
              "      <th>content_rating_Unrated</th>\n",
              "      <th>content_rating_X</th>\n",
              "      <th>first_genre_Action</th>\n",
              "      <th>first_genre_Adventure</th>\n",
              "      <th>first_genre_Animation</th>\n",
              "      <th>first_genre_Biography</th>\n",
              "      <th>first_genre_Comedy</th>\n",
              "      <th>first_genre_Crime</th>\n",
              "      <th>first_genre_Documentary</th>\n",
              "      <th>first_genre_Drama</th>\n",
              "      <th>first_genre_Family</th>\n",
              "      <th>first_genre_Fantasy</th>\n",
              "      <th>first_genre_Horror</th>\n",
              "      <th>first_genre_Musical</th>\n",
              "      <th>first_genre_Mystery</th>\n",
              "      <th>first_genre_Romance</th>\n",
              "      <th>first_genre_Sci-Fi</th>\n",
              "      <th>first_genre_Thriller</th>\n",
              "      <th>first_genre_Western</th>\n",
              "    </tr>\n",
              "    <tr>\n",
              "      <th>movie_title</th>\n",
              "      <th></th>\n",
              "      <th></th>\n",
              "      <th></th>\n",
              "      <th></th>\n",
              "      <th></th>\n",
              "      <th></th>\n",
              "      <th></th>\n",
              "      <th></th>\n",
              "      <th></th>\n",
              "      <th></th>\n",
              "      <th></th>\n",
              "      <th></th>\n",
              "      <th></th>\n",
              "      <th></th>\n",
              "      <th></th>\n",
              "      <th></th>\n",
              "      <th></th>\n",
              "      <th></th>\n",
              "      <th></th>\n",
              "      <th></th>\n",
              "      <th></th>\n",
              "      <th></th>\n",
              "      <th></th>\n",
              "      <th></th>\n",
              "      <th></th>\n",
              "      <th></th>\n",
              "      <th></th>\n",
              "      <th></th>\n",
              "      <th></th>\n",
              "      <th></th>\n",
              "      <th></th>\n",
              "      <th></th>\n",
              "      <th></th>\n",
              "      <th></th>\n",
              "      <th></th>\n",
              "      <th></th>\n",
              "      <th></th>\n",
              "      <th></th>\n",
              "      <th></th>\n",
              "      <th></th>\n",
              "      <th></th>\n",
              "      <th></th>\n",
              "      <th></th>\n",
              "      <th></th>\n",
              "    </tr>\n",
              "  </thead>\n",
              "  <tbody>\n",
              "    <tr>\n",
              "      <th>Avatar</th>\n",
              "      <td>723.0</td>\n",
              "      <td>178.0</td>\n",
              "      <td>0.0</td>\n",
              "      <td>855.0</td>\n",
              "      <td>1000.0</td>\n",
              "      <td>760.0</td>\n",
              "      <td>886204</td>\n",
              "      <td>3054.0</td>\n",
              "      <td>237.0</td>\n",
              "      <td>936.0</td>\n",
              "      <td>33000</td>\n",
              "      <td>2009.0</td>\n",
              "      <td>0</td>\n",
              "      <td>0</td>\n",
              "      <td>0</td>\n",
              "      <td>0</td>\n",
              "      <td>0</td>\n",
              "      <td>0</td>\n",
              "      <td>0</td>\n",
              "      <td>1</td>\n",
              "      <td>0</td>\n",
              "      <td>0</td>\n",
              "      <td>0</td>\n",
              "      <td>0</td>\n",
              "      <td>0</td>\n",
              "      <td>0</td>\n",
              "      <td>0</td>\n",
              "      <td>1</td>\n",
              "      <td>0</td>\n",
              "      <td>0</td>\n",
              "      <td>0</td>\n",
              "      <td>0</td>\n",
              "      <td>0</td>\n",
              "      <td>0</td>\n",
              "      <td>0</td>\n",
              "      <td>0</td>\n",
              "      <td>0</td>\n",
              "      <td>0</td>\n",
              "      <td>0</td>\n",
              "      <td>0</td>\n",
              "      <td>0</td>\n",
              "      <td>0</td>\n",
              "      <td>0</td>\n",
              "      <td>0</td>\n",
              "    </tr>\n",
              "  </tbody>\n",
              "</table>\n",
              "</div>"
            ],
            "text/plain": [
              "             num_critic_for_reviews  ...  first_genre_Western\n",
              "movie_title                          ...                     \n",
              "Avatar                        723.0  ...                    0\n",
              "\n",
              "[1 rows x 44 columns]"
            ]
          },
          "metadata": {},
          "execution_count": 16
        }
      ]
    },
    {
      "cell_type": "code",
      "metadata": {
        "id": "nA37svrxX-4t"
      },
      "source": [
        "from sklearn import model_selection\n",
        "X_train, X_test, y_train, y_test = model_selection.train_test_split(X1, Y1, test_size=0.20, shuffle=True)"
      ],
      "execution_count": null,
      "outputs": []
    },
    {
      "cell_type": "code",
      "metadata": {
        "colab": {
          "base_uri": "https://localhost:8080/"
        },
        "id": "UNKtV_4iYYNY",
        "outputId": "9f92a144-05f4-4768-f5fd-266063aa6af6"
      },
      "source": [
        "print('training data has ' + str(X_train.shape[0]) + ' observation with ' + str(X_train.shape[1]) + ' features')\n",
        "print('test data has ' + str(X_test.shape[0]) + ' observation with ' + str(X_test.shape[1]) + ' features')"
      ],
      "execution_count": null,
      "outputs": [
        {
          "output_type": "stream",
          "name": "stdout",
          "text": [
            "training data has 3682 observation with 44 features\n",
            "test data has 921 observation with 44 features\n"
          ]
        }
      ]
    },
    {
      "cell_type": "markdown",
      "metadata": {
        "id": "QI8RQs6q9N-k"
      },
      "source": [
        "## 2.2: Feature Engineering \n"
      ]
    },
    {
      "cell_type": "code",
      "metadata": {
        "id": "qcrqIoJ8cjMp"
      },
      "source": [
        "# X_test.shape"
      ],
      "execution_count": null,
      "outputs": []
    },
    {
      "cell_type": "code",
      "metadata": {
        "id": "O6B-dgz9czuX"
      },
      "source": [
        "X_train = X_train.fillna('', inplace=False)"
      ],
      "execution_count": null,
      "outputs": []
    },
    {
      "cell_type": "code",
      "metadata": {
        "id": "jJMr3dO5M8j2"
      },
      "source": [
        "X_test = X_test.fillna('', inplace=False)"
      ],
      "execution_count": null,
      "outputs": []
    },
    {
      "cell_type": "code",
      "metadata": {
        "id": "GWz2yNldcB06"
      },
      "source": [
        "# X_train.info()"
      ],
      "execution_count": null,
      "outputs": []
    },
    {
      "cell_type": "code",
      "metadata": {
        "colab": {
          "base_uri": "https://localhost:8080/",
          "height": 165
        },
        "id": "1Xi7T5AIduOb",
        "outputId": "f3a6a680-55f1-4d61-da46-af2396d5dcd2"
      },
      "source": [
        "X_train.head(1)"
      ],
      "execution_count": null,
      "outputs": [
        {
          "output_type": "execute_result",
          "data": {
            "text/html": [
              "<div>\n",
              "<style scoped>\n",
              "    .dataframe tbody tr th:only-of-type {\n",
              "        vertical-align: middle;\n",
              "    }\n",
              "\n",
              "    .dataframe tbody tr th {\n",
              "        vertical-align: top;\n",
              "    }\n",
              "\n",
              "    .dataframe thead th {\n",
              "        text-align: right;\n",
              "    }\n",
              "</style>\n",
              "<table border=\"1\" class=\"dataframe\">\n",
              "  <thead>\n",
              "    <tr style=\"text-align: right;\">\n",
              "      <th></th>\n",
              "      <th>num_critic_for_reviews</th>\n",
              "      <th>duration</th>\n",
              "      <th>director_facebook_likes</th>\n",
              "      <th>actor_3_facebook_likes</th>\n",
              "      <th>actor_1_facebook_likes</th>\n",
              "      <th>gross</th>\n",
              "      <th>num_voted_users</th>\n",
              "      <th>num_user_for_reviews</th>\n",
              "      <th>budget</th>\n",
              "      <th>actor_2_facebook_likes</th>\n",
              "      <th>movie_facebook_likes</th>\n",
              "      <th>year</th>\n",
              "      <th>content_rating_Approved</th>\n",
              "      <th>content_rating_G</th>\n",
              "      <th>content_rating_GP</th>\n",
              "      <th>content_rating_M</th>\n",
              "      <th>content_rating_NC-17</th>\n",
              "      <th>content_rating_Not Rated</th>\n",
              "      <th>content_rating_PG</th>\n",
              "      <th>content_rating_PG-13</th>\n",
              "      <th>content_rating_Passed</th>\n",
              "      <th>content_rating_R</th>\n",
              "      <th>content_rating_TV-14</th>\n",
              "      <th>content_rating_TV-G</th>\n",
              "      <th>content_rating_TV-PG</th>\n",
              "      <th>content_rating_Unrated</th>\n",
              "      <th>content_rating_X</th>\n",
              "      <th>first_genre_Action</th>\n",
              "      <th>first_genre_Adventure</th>\n",
              "      <th>first_genre_Animation</th>\n",
              "      <th>first_genre_Biography</th>\n",
              "      <th>first_genre_Comedy</th>\n",
              "      <th>first_genre_Crime</th>\n",
              "      <th>first_genre_Documentary</th>\n",
              "      <th>first_genre_Drama</th>\n",
              "      <th>first_genre_Family</th>\n",
              "      <th>first_genre_Fantasy</th>\n",
              "      <th>first_genre_Horror</th>\n",
              "      <th>first_genre_Musical</th>\n",
              "      <th>first_genre_Mystery</th>\n",
              "      <th>first_genre_Romance</th>\n",
              "      <th>first_genre_Sci-Fi</th>\n",
              "      <th>first_genre_Thriller</th>\n",
              "      <th>first_genre_Western</th>\n",
              "    </tr>\n",
              "    <tr>\n",
              "      <th>movie_title</th>\n",
              "      <th></th>\n",
              "      <th></th>\n",
              "      <th></th>\n",
              "      <th></th>\n",
              "      <th></th>\n",
              "      <th></th>\n",
              "      <th></th>\n",
              "      <th></th>\n",
              "      <th></th>\n",
              "      <th></th>\n",
              "      <th></th>\n",
              "      <th></th>\n",
              "      <th></th>\n",
              "      <th></th>\n",
              "      <th></th>\n",
              "      <th></th>\n",
              "      <th></th>\n",
              "      <th></th>\n",
              "      <th></th>\n",
              "      <th></th>\n",
              "      <th></th>\n",
              "      <th></th>\n",
              "      <th></th>\n",
              "      <th></th>\n",
              "      <th></th>\n",
              "      <th></th>\n",
              "      <th></th>\n",
              "      <th></th>\n",
              "      <th></th>\n",
              "      <th></th>\n",
              "      <th></th>\n",
              "      <th></th>\n",
              "      <th></th>\n",
              "      <th></th>\n",
              "      <th></th>\n",
              "      <th></th>\n",
              "      <th></th>\n",
              "      <th></th>\n",
              "      <th></th>\n",
              "      <th></th>\n",
              "      <th></th>\n",
              "      <th></th>\n",
              "      <th></th>\n",
              "      <th></th>\n",
              "    </tr>\n",
              "  </thead>\n",
              "  <tbody>\n",
              "    <tr>\n",
              "      <th>The Wizard of Oz</th>\n",
              "      <td>213.0</td>\n",
              "      <td>102.0</td>\n",
              "      <td>149.0</td>\n",
              "      <td>357.0</td>\n",
              "      <td>695.0</td>\n",
              "      <td>22.0</td>\n",
              "      <td>291875</td>\n",
              "      <td>533.0</td>\n",
              "      <td>2.0</td>\n",
              "      <td>421.0</td>\n",
              "      <td>14000</td>\n",
              "      <td>1939.0</td>\n",
              "      <td>0</td>\n",
              "      <td>0</td>\n",
              "      <td>0</td>\n",
              "      <td>0</td>\n",
              "      <td>0</td>\n",
              "      <td>0</td>\n",
              "      <td>0</td>\n",
              "      <td>0</td>\n",
              "      <td>1</td>\n",
              "      <td>0</td>\n",
              "      <td>0</td>\n",
              "      <td>0</td>\n",
              "      <td>0</td>\n",
              "      <td>0</td>\n",
              "      <td>0</td>\n",
              "      <td>0</td>\n",
              "      <td>1</td>\n",
              "      <td>0</td>\n",
              "      <td>0</td>\n",
              "      <td>0</td>\n",
              "      <td>0</td>\n",
              "      <td>0</td>\n",
              "      <td>0</td>\n",
              "      <td>0</td>\n",
              "      <td>0</td>\n",
              "      <td>0</td>\n",
              "      <td>0</td>\n",
              "      <td>0</td>\n",
              "      <td>0</td>\n",
              "      <td>0</td>\n",
              "      <td>0</td>\n",
              "      <td>0</td>\n",
              "    </tr>\n",
              "  </tbody>\n",
              "</table>\n",
              "</div>"
            ],
            "text/plain": [
              "                   num_critic_for_reviews  ...  first_genre_Western\n",
              "movie_title                                ...                     \n",
              "The Wizard of Oz                    213.0  ...                    0\n",
              "\n",
              "[1 rows x 44 columns]"
            ]
          },
          "metadata": {},
          "execution_count": 23
        }
      ]
    },
    {
      "cell_type": "code",
      "metadata": {
        "colab": {
          "base_uri": "https://localhost:8080/",
          "height": 165
        },
        "id": "qdSsVqr_NMET",
        "outputId": "16d748db-eec4-431e-d815-d9743e09e37a"
      },
      "source": [
        "X_test.head(1)"
      ],
      "execution_count": null,
      "outputs": [
        {
          "output_type": "execute_result",
          "data": {
            "text/html": [
              "<div>\n",
              "<style scoped>\n",
              "    .dataframe tbody tr th:only-of-type {\n",
              "        vertical-align: middle;\n",
              "    }\n",
              "\n",
              "    .dataframe tbody tr th {\n",
              "        vertical-align: top;\n",
              "    }\n",
              "\n",
              "    .dataframe thead th {\n",
              "        text-align: right;\n",
              "    }\n",
              "</style>\n",
              "<table border=\"1\" class=\"dataframe\">\n",
              "  <thead>\n",
              "    <tr style=\"text-align: right;\">\n",
              "      <th></th>\n",
              "      <th>num_critic_for_reviews</th>\n",
              "      <th>duration</th>\n",
              "      <th>director_facebook_likes</th>\n",
              "      <th>actor_3_facebook_likes</th>\n",
              "      <th>actor_1_facebook_likes</th>\n",
              "      <th>gross</th>\n",
              "      <th>num_voted_users</th>\n",
              "      <th>num_user_for_reviews</th>\n",
              "      <th>budget</th>\n",
              "      <th>actor_2_facebook_likes</th>\n",
              "      <th>movie_facebook_likes</th>\n",
              "      <th>year</th>\n",
              "      <th>content_rating_Approved</th>\n",
              "      <th>content_rating_G</th>\n",
              "      <th>content_rating_GP</th>\n",
              "      <th>content_rating_M</th>\n",
              "      <th>content_rating_NC-17</th>\n",
              "      <th>content_rating_Not Rated</th>\n",
              "      <th>content_rating_PG</th>\n",
              "      <th>content_rating_PG-13</th>\n",
              "      <th>content_rating_Passed</th>\n",
              "      <th>content_rating_R</th>\n",
              "      <th>content_rating_TV-14</th>\n",
              "      <th>content_rating_TV-G</th>\n",
              "      <th>content_rating_TV-PG</th>\n",
              "      <th>content_rating_Unrated</th>\n",
              "      <th>content_rating_X</th>\n",
              "      <th>first_genre_Action</th>\n",
              "      <th>first_genre_Adventure</th>\n",
              "      <th>first_genre_Animation</th>\n",
              "      <th>first_genre_Biography</th>\n",
              "      <th>first_genre_Comedy</th>\n",
              "      <th>first_genre_Crime</th>\n",
              "      <th>first_genre_Documentary</th>\n",
              "      <th>first_genre_Drama</th>\n",
              "      <th>first_genre_Family</th>\n",
              "      <th>first_genre_Fantasy</th>\n",
              "      <th>first_genre_Horror</th>\n",
              "      <th>first_genre_Musical</th>\n",
              "      <th>first_genre_Mystery</th>\n",
              "      <th>first_genre_Romance</th>\n",
              "      <th>first_genre_Sci-Fi</th>\n",
              "      <th>first_genre_Thriller</th>\n",
              "      <th>first_genre_Western</th>\n",
              "    </tr>\n",
              "    <tr>\n",
              "      <th>movie_title</th>\n",
              "      <th></th>\n",
              "      <th></th>\n",
              "      <th></th>\n",
              "      <th></th>\n",
              "      <th></th>\n",
              "      <th></th>\n",
              "      <th></th>\n",
              "      <th></th>\n",
              "      <th></th>\n",
              "      <th></th>\n",
              "      <th></th>\n",
              "      <th></th>\n",
              "      <th></th>\n",
              "      <th></th>\n",
              "      <th></th>\n",
              "      <th></th>\n",
              "      <th></th>\n",
              "      <th></th>\n",
              "      <th></th>\n",
              "      <th></th>\n",
              "      <th></th>\n",
              "      <th></th>\n",
              "      <th></th>\n",
              "      <th></th>\n",
              "      <th></th>\n",
              "      <th></th>\n",
              "      <th></th>\n",
              "      <th></th>\n",
              "      <th></th>\n",
              "      <th></th>\n",
              "      <th></th>\n",
              "      <th></th>\n",
              "      <th></th>\n",
              "      <th></th>\n",
              "      <th></th>\n",
              "      <th></th>\n",
              "      <th></th>\n",
              "      <th></th>\n",
              "      <th></th>\n",
              "      <th></th>\n",
              "      <th></th>\n",
              "      <th></th>\n",
              "      <th></th>\n",
              "      <th></th>\n",
              "    </tr>\n",
              "  </thead>\n",
              "  <tbody>\n",
              "    <tr>\n",
              "      <th>The Shallows</th>\n",
              "      <td>186.0</td>\n",
              "      <td>86.0</td>\n",
              "      <td>174.0</td>\n",
              "      <td>2.0</td>\n",
              "      <td>619.0</td>\n",
              "      <td>54.0</td>\n",
              "      <td>12983</td>\n",
              "      <td>139.0</td>\n",
              "      <td>17.0</td>\n",
              "      <td>350.0</td>\n",
              "      <td>0</td>\n",
              "      <td>2016.0</td>\n",
              "      <td>0</td>\n",
              "      <td>0</td>\n",
              "      <td>0</td>\n",
              "      <td>0</td>\n",
              "      <td>0</td>\n",
              "      <td>0</td>\n",
              "      <td>0</td>\n",
              "      <td>1</td>\n",
              "      <td>0</td>\n",
              "      <td>0</td>\n",
              "      <td>0</td>\n",
              "      <td>0</td>\n",
              "      <td>0</td>\n",
              "      <td>0</td>\n",
              "      <td>0</td>\n",
              "      <td>0</td>\n",
              "      <td>0</td>\n",
              "      <td>0</td>\n",
              "      <td>0</td>\n",
              "      <td>0</td>\n",
              "      <td>0</td>\n",
              "      <td>0</td>\n",
              "      <td>1</td>\n",
              "      <td>0</td>\n",
              "      <td>0</td>\n",
              "      <td>0</td>\n",
              "      <td>0</td>\n",
              "      <td>0</td>\n",
              "      <td>0</td>\n",
              "      <td>0</td>\n",
              "      <td>0</td>\n",
              "      <td>0</td>\n",
              "    </tr>\n",
              "  </tbody>\n",
              "</table>\n",
              "</div>"
            ],
            "text/plain": [
              "               num_critic_for_reviews  ...  first_genre_Western\n",
              "movie_title                            ...                     \n",
              "The Shallows                    186.0  ...                    0\n",
              "\n",
              "[1 rows x 44 columns]"
            ]
          },
          "metadata": {},
          "execution_count": 24
        }
      ]
    },
    {
      "cell_type": "markdown",
      "metadata": {
        "id": "bsQhoviX9RF6"
      },
      "source": [
        "## 2.3: Model Selection"
      ]
    },
    {
      "cell_type": "markdown",
      "metadata": {
        "id": "Hnz47DtDJKEl"
      },
      "source": [
        "### 2.3.0: Summary Model Performance based on MSE (of fitting the entire dataset)\n",
        "\n",
        "* Best: Random Forest (0.0798)\n",
        "* Next best: Gradient Boosting (0.308)\n",
        "* Okay: KNN (0.768)\n",
        "* Worst (very bad): SGD (6.29)\n"
      ]
    },
    {
      "cell_type": "markdown",
      "metadata": {
        "id": "lhjJqgEL9Xn0"
      },
      "source": [
        "### 2.3.1: KNN prediction"
      ]
    },
    {
      "cell_type": "markdown",
      "metadata": {
        "id": "a5-0NNKqQ2wJ"
      },
      "source": [
        "#### 2.3.1 - 0: Feature Normalization"
      ]
    },
    {
      "cell_type": "code",
      "metadata": {
        "id": "WMe5fmW7Q7ek"
      },
      "source": [
        "from sklearn.metrics import mean_squared_error \n",
        "from sklearn.neighbors import KNeighborsRegressor"
      ],
      "execution_count": 35,
      "outputs": []
    },
    {
      "cell_type": "code",
      "metadata": {
        "id": "vz7UnrZXMFQm"
      },
      "source": [
        "# data normalization with sklearn\n",
        "from sklearn.preprocessing import MinMaxScaler\n",
        "\n",
        "# fit scaler on training data\n",
        "norm = MinMaxScaler().fit(X_train)\n",
        "\n",
        "# transform training data\n",
        "X_train_norm = norm.transform(X_train)\n",
        "\n",
        "# transform testing dataabs\n",
        "X_test_norm = norm.transform(X_test)"
      ],
      "execution_count": null,
      "outputs": []
    },
    {
      "cell_type": "markdown",
      "metadata": {
        "id": "PVwnbwOHR8Rx"
      },
      "source": [
        "#### 2.3.1 - 1: Base Model, K = 5"
      ]
    },
    {
      "cell_type": "code",
      "metadata": {
        "colab": {
          "base_uri": "https://localhost:8080/"
        },
        "id": "3S8f5rt1QvQ_",
        "outputId": "a07fccd3-8f13-459b-ad97-11c58da2c2df"
      },
      "source": [
        "model = KNeighborsRegressor(n_neighbors=5, metric = 'euclidean')\n",
        "print(model)\n",
        "\n",
        "model.fit(X_train,y_train)"
      ],
      "execution_count": null,
      "outputs": [
        {
          "output_type": "stream",
          "name": "stdout",
          "text": [
            "KNeighborsRegressor(algorithm='auto', leaf_size=30, metric='euclidean',\n",
            "                    metric_params=None, n_jobs=None, n_neighbors=5, p=2,\n",
            "                    weights='uniform')\n"
          ]
        },
        {
          "output_type": "execute_result",
          "data": {
            "text/plain": [
              "KNeighborsRegressor(algorithm='auto', leaf_size=30, metric='euclidean',\n",
              "                    metric_params=None, n_jobs=None, n_neighbors=5, p=2,\n",
              "                    weights='uniform')"
            ]
          },
          "metadata": {},
          "execution_count": 102
        }
      ]
    },
    {
      "cell_type": "code",
      "metadata": {
        "colab": {
          "base_uri": "https://localhost:8080/"
        },
        "id": "JSiQ5-eaPoE5",
        "outputId": "8f871718-7280-4d41-dbde-a32b38b1e54c"
      },
      "source": [
        "pred_y = model.predict(X_test)\n",
        "\n",
        "score=model.score(X_test,y_test)\n",
        "print(score)\n",
        "\n",
        "mse = mean_squared_error(y_test, pred_y)\n",
        "print(\"Mean Squared Error:\",mse)"
      ],
      "execution_count": null,
      "outputs": [
        {
          "output_type": "stream",
          "name": "stdout",
          "text": [
            "0.2090375513095487\n",
            "Mean Squared Error: 1.0746440825190011\n"
          ]
        }
      ]
    },
    {
      "cell_type": "markdown",
      "metadata": {
        "id": "Zdw5WY5oSBj_"
      },
      "source": [
        "#### 2.3.1 - 2: Grid Search CV"
      ]
    },
    {
      "cell_type": "code",
      "metadata": {
        "id": "F3KNZhlfUmQ4"
      },
      "source": [
        "from sklearn.model_selection import GridSearchCV\n",
        "\n",
        "# helper function for printing out grid search results \n",
        "def print_grid_search_metrics(gs):\n",
        "    print (\"Best score: \" + str(gs.best_score_))\n",
        "    print (\"Best parameters set:\")\n",
        "    best_parameters = gs.best_params_\n",
        "    for param_name in sorted(best_parameters.keys()):\n",
        "        print(param_name + ':' + str(best_parameters[param_name]))"
      ],
      "execution_count": 38,
      "outputs": []
    },
    {
      "cell_type": "code",
      "metadata": {
        "colab": {
          "base_uri": "https://localhost:8080/"
        },
        "id": "7-hI49WGRn-E",
        "outputId": "422deb68-03b4-43b4-819e-1c42ad7bd5f1"
      },
      "source": [
        "# hyper tuning K\n",
        "parameters = {\n",
        "    'n_neighbors':[1,3,5,7,9]\n",
        "}\n",
        "Grid_KNN = GridSearchCV(KNeighborsRegressor(metric = 'euclidean'),parameters, cv=5, refit = True)\n",
        "Grid_KNN.fit(X_train, y_train)"
      ],
      "execution_count": null,
      "outputs": [
        {
          "output_type": "execute_result",
          "data": {
            "text/plain": [
              "GridSearchCV(cv=5, error_score=nan,\n",
              "             estimator=KNeighborsRegressor(algorithm='auto', leaf_size=30,\n",
              "                                           metric='euclidean',\n",
              "                                           metric_params=None, n_jobs=None,\n",
              "                                           n_neighbors=5, p=2,\n",
              "                                           weights='uniform'),\n",
              "             iid='deprecated', n_jobs=None,\n",
              "             param_grid={'n_neighbors': [1, 3, 5, 7, 9]},\n",
              "             pre_dispatch='2*n_jobs', refit=True, return_train_score=False,\n",
              "             scoring=None, verbose=0)"
            ]
          },
          "metadata": {},
          "execution_count": 30
        }
      ]
    },
    {
      "cell_type": "code",
      "metadata": {
        "colab": {
          "base_uri": "https://localhost:8080/"
        },
        "id": "cOMLklK3VyIX",
        "outputId": "471757d6-c629-4d6f-ebb2-b9414ced233c"
      },
      "source": [
        "print_grid_search_metrics(Grid_KNN)"
      ],
      "execution_count": null,
      "outputs": [
        {
          "output_type": "stream",
          "name": "stdout",
          "text": [
            "Best score: 0.19808765952194243\n",
            "Best parameters set:\n",
            "n_neighbors:9\n"
          ]
        }
      ]
    },
    {
      "cell_type": "code",
      "metadata": {
        "id": "wfkb6ICLY0X1"
      },
      "source": [
        "# save the best Knn model from gridsearch\n",
        "best_KNN_model = Grid_KNN.best_estimator_"
      ],
      "execution_count": null,
      "outputs": []
    },
    {
      "cell_type": "markdown",
      "metadata": {
        "id": "UcPPsFh9ZhjG"
      },
      "source": [
        "#### 2.3.1 - 3: Validation on test set"
      ]
    },
    {
      "cell_type": "code",
      "metadata": {
        "colab": {
          "base_uri": "https://localhost:8080/"
        },
        "id": "eL8SiCDJY_Eq",
        "outputId": "0ac871d5-7960-4306-84d5-c41d962d1885"
      },
      "source": [
        "best_KNN_model.fit(X_test, y_test)"
      ],
      "execution_count": null,
      "outputs": [
        {
          "output_type": "execute_result",
          "data": {
            "text/plain": [
              "KNeighborsRegressor(algorithm='auto', leaf_size=30, metric='euclidean',\n",
              "                    metric_params=None, n_jobs=None, n_neighbors=9, p=2,\n",
              "                    weights='uniform')"
            ]
          },
          "metadata": {},
          "execution_count": 33
        }
      ]
    },
    {
      "cell_type": "code",
      "metadata": {
        "colab": {
          "base_uri": "https://localhost:8080/"
        },
        "id": "UDU5ElhOZ3EX",
        "outputId": "262eb559-7322-45c7-e52e-19c75d179825"
      },
      "source": [
        "pred_y_test = best_KNN_model.predict(X_test)\n",
        "\n",
        "score=best_KNN_model.score(X_test,y_test)\n",
        "print(score)\n",
        "\n",
        "mse = mean_squared_error(y_test, pred_y_test)\n",
        "print(\"Mean Squared Error:\",mse)"
      ],
      "execution_count": null,
      "outputs": [
        {
          "output_type": "stream",
          "name": "stdout",
          "text": [
            "0.37079140158368207\n",
            "Mean Squared Error: 0.8548766102331068\n"
          ]
        }
      ]
    },
    {
      "cell_type": "markdown",
      "metadata": {
        "id": "jfApepGoaxjF"
      },
      "source": [
        "#### 2.3.1 - 4: Model Performance on Entire Dataset"
      ]
    },
    {
      "cell_type": "code",
      "metadata": {
        "colab": {
          "base_uri": "https://localhost:8080/"
        },
        "id": "943NeZqfc2wA",
        "outputId": "b63feb81-ce54-4d1b-82b3-995363e7b08d"
      },
      "source": [
        "best_KNN_model.fit(X1, Y1)"
      ],
      "execution_count": null,
      "outputs": [
        {
          "output_type": "execute_result",
          "data": {
            "text/plain": [
              "KNeighborsRegressor(algorithm='auto', leaf_size=30, metric='euclidean',\n",
              "                    metric_params=None, n_jobs=None, n_neighbors=9, p=2,\n",
              "                    weights='uniform')"
            ]
          },
          "metadata": {},
          "execution_count": 35
        }
      ]
    },
    {
      "cell_type": "code",
      "metadata": {
        "colab": {
          "base_uri": "https://localhost:8080/"
        },
        "id": "GoYJqD6zdE0Y",
        "outputId": "022fe60a-50f9-44c7-e72c-e9660c34b01f"
      },
      "source": [
        "pred_y_all = best_KNN_model.predict(X1)\n",
        "\n",
        "score=best_KNN_model.score(X1, Y1)\n",
        "print(score)\n",
        "\n",
        "mse = mean_squared_error(Y1, pred_y_all)\n",
        "print(\"Mean Squared Error:\",mse)"
      ],
      "execution_count": null,
      "outputs": [
        {
          "output_type": "stream",
          "name": "stdout",
          "text": [
            "0.3786777408024073\n",
            "Mean Squared Error: 0.767583111390049\n"
          ]
        }
      ]
    },
    {
      "cell_type": "code",
      "metadata": {
        "id": "Qc6F_aJKeH47"
      },
      "source": [
        "test_title = X1[X1.index.str.match(\"Titanic\")]"
      ],
      "execution_count": null,
      "outputs": []
    },
    {
      "cell_type": "code",
      "metadata": {
        "colab": {
          "base_uri": "https://localhost:8080/"
        },
        "id": "p3VKkfM5dwD2",
        "outputId": "a4dcb152-b30d-49a3-c881-6968843e37ab"
      },
      "source": [
        "# single prediction for \"Titantic\"\n",
        "best_KNN_model.predict(test_title)"
      ],
      "execution_count": null,
      "outputs": [
        {
          "output_type": "execute_result",
          "data": {
            "text/plain": [
              "array([8.37777778])"
            ]
          },
          "metadata": {},
          "execution_count": 44
        }
      ]
    },
    {
      "cell_type": "code",
      "metadata": {
        "id": "oYETm9ydjaQW"
      },
      "source": [
        "# actual titanic score\n",
        "row_titanic = df.loc[df[\"movie_title\"].str.match( \"Titanic\")]"
      ],
      "execution_count": null,
      "outputs": []
    },
    {
      "cell_type": "code",
      "metadata": {
        "colab": {
          "base_uri": "https://localhost:8080/"
        },
        "id": "qj0zp72mm73V",
        "outputId": "78ee6f53-7268-4552-8889-396b5b1c3bc6"
      },
      "source": [
        "row_titanic.imdb_score"
      ],
      "execution_count": null,
      "outputs": [
        {
          "output_type": "execute_result",
          "data": {
            "text/plain": [
              "25    7.7\n",
              "Name: imdb_score, dtype: float64"
            ]
          },
          "metadata": {},
          "execution_count": 53
        }
      ]
    },
    {
      "cell_type": "code",
      "metadata": {
        "id": "14iwiSKtnhvN"
      },
      "source": [
        "# single prediction for The Lord of the Rings: The Fellowship of the Ring\n",
        "LoR = X1[X1.index.str.match(\"The Lord of the Rings: The Fellowship of the Ring\")]"
      ],
      "execution_count": null,
      "outputs": []
    },
    {
      "cell_type": "code",
      "metadata": {
        "colab": {
          "base_uri": "https://localhost:8080/"
        },
        "id": "LknaPlYjn2R1",
        "outputId": "ec3046da-6e16-4082-fdad-1947b78e8a8d"
      },
      "source": [
        "best_KNN_model.predict(LoR)"
      ],
      "execution_count": null,
      "outputs": [
        {
          "output_type": "execute_result",
          "data": {
            "text/plain": [
              "array([8.81111111])"
            ]
          },
          "metadata": {},
          "execution_count": 56
        }
      ]
    },
    {
      "cell_type": "code",
      "metadata": {
        "colab": {
          "base_uri": "https://localhost:8080/"
        },
        "id": "W0-oG-4NoAHq",
        "outputId": "b205360c-d0aa-439b-d33e-110347bf587b"
      },
      "source": [
        "# actual LoR score\n",
        "row_LoR = df.loc[df[\"movie_title\"].str.match( \"The Lord of the Rings: The Fellowship of the Ring\")]\n",
        "row_LoR.imdb_score"
      ],
      "execution_count": null,
      "outputs": [
        {
          "output_type": "execute_result",
          "data": {
            "text/plain": [
              "264    8.8\n",
              "Name: imdb_score, dtype: float64"
            ]
          },
          "metadata": {},
          "execution_count": 57
        }
      ]
    },
    {
      "cell_type": "markdown",
      "metadata": {
        "id": "MZ4opGFV9kp5"
      },
      "source": [
        "### 2.3.2: SGD Regressor"
      ]
    },
    {
      "cell_type": "markdown",
      "metadata": {
        "id": "EZPNPr4CbC9k"
      },
      "source": [
        "#### 2.3.2 - 1 : Base Model"
      ]
    },
    {
      "cell_type": "code",
      "metadata": {
        "id": "r2CPM9mbqybn"
      },
      "source": [
        "from sklearn.linear_model import SGDRegressor\n",
        "clf = SGDRegressor(max_iter=1000, tol=1e-3, random_state= 42)\n",
        "clf.fit(X_train, y_train)\n",
        "y_pred_sgd = clf.predict(X_test)"
      ],
      "execution_count": null,
      "outputs": []
    },
    {
      "cell_type": "code",
      "metadata": {
        "colab": {
          "base_uri": "https://localhost:8080/"
        },
        "id": "quLx_O262LqB",
        "outputId": "77a1a820-9223-4315-aeac-51271ab539de"
      },
      "source": [
        "print ('Mean squared error: \\n', mean_squared_error (y_test, y_pred_sgd))"
      ],
      "execution_count": null,
      "outputs": [
        {
          "output_type": "stream",
          "name": "stdout",
          "text": [
            "Mean squared error: \n",
            " 5.350491667481222e+38\n"
          ]
        }
      ]
    },
    {
      "cell_type": "markdown",
      "metadata": {
        "id": "EHY5zhadbI8R"
      },
      "source": [
        "#### 2.3.2 - 2: Grid Search CV"
      ]
    },
    {
      "cell_type": "code",
      "metadata": {
        "colab": {
          "base_uri": "https://localhost:8080/"
        },
        "id": "IpPKbdADuPGx",
        "outputId": "519231c4-cbb4-41bc-c2d0-8d6474d298d0"
      },
      "source": [
        "param_grid = {\n",
        "    'alpha': [0.0001 , 0.001 , 0.01 , 0.1 , 1 , 10 , 100],\n",
        "    'learning_rate': ['constant', 'optimal', 'invscaling'],\n",
        "    'max_iter': [1000, 2000, 3000]\n",
        "}\n",
        "GRID_SGD = GridSearchCV(clf, param_grid, refit = True)\n",
        "GRID_SGD.fit(X_train, y_train)\n"
      ],
      "execution_count": null,
      "outputs": [
        {
          "output_type": "execute_result",
          "data": {
            "text/plain": [
              "GridSearchCV(cv=None, error_score=nan,\n",
              "             estimator=SGDRegressor(alpha=0.0001, average=False,\n",
              "                                    early_stopping=False, epsilon=0.1,\n",
              "                                    eta0=0.01, fit_intercept=True,\n",
              "                                    l1_ratio=0.15, learning_rate='invscaling',\n",
              "                                    loss='squared_loss', max_iter=1000,\n",
              "                                    n_iter_no_change=5, penalty='l2',\n",
              "                                    power_t=0.25, random_state=42, shuffle=True,\n",
              "                                    tol=0.001, validation_fraction=0.1,\n",
              "                                    verbose=0, warm_start=False),\n",
              "             iid='deprecated', n_jobs=None,\n",
              "             param_grid={'alpha': [0.0001, 0.001, 0.01, 0.1, 1, 10, 100],\n",
              "                         'learning_rate': ['constant', 'optimal', 'invscaling'],\n",
              "                         'max_iter': [1000, 2000, 3000]},\n",
              "             pre_dispatch='2*n_jobs', refit=True, return_train_score=False,\n",
              "             scoring=None, verbose=0)"
            ]
          },
          "metadata": {},
          "execution_count": 79
        }
      ]
    },
    {
      "cell_type": "code",
      "metadata": {
        "colab": {
          "base_uri": "https://localhost:8080/"
        },
        "id": "L5RHMv-L59CQ",
        "outputId": "1c55dcf5-65ba-4143-888b-79ced33334f9"
      },
      "source": [
        "print_grid_search_metrics(GRID_SGD)"
      ],
      "execution_count": null,
      "outputs": [
        {
          "output_type": "stream",
          "name": "stdout",
          "text": [
            "Best score: -2.785298996915254e+30\n",
            "Best parameters set:\n",
            "alpha:100\n",
            "learning_rate:optimal\n",
            "max_iter:1000\n"
          ]
        }
      ]
    },
    {
      "cell_type": "code",
      "metadata": {
        "id": "xinLb5kc6kcq"
      },
      "source": [
        "best_SGD_model = GRID_SGD.best_estimator_"
      ],
      "execution_count": null,
      "outputs": []
    },
    {
      "cell_type": "markdown",
      "metadata": {
        "id": "EsnyZ1B7bPh8"
      },
      "source": [
        "#### 2.3.2 - 3: Validate on test set"
      ]
    },
    {
      "cell_type": "code",
      "metadata": {
        "colab": {
          "base_uri": "https://localhost:8080/"
        },
        "id": "_Os2NdeF7Xex",
        "outputId": "9a22ab75-457d-4ed9-de0d-5eef114a35c9"
      },
      "source": [
        "best_SGD_model.fit(X_test, y_test)"
      ],
      "execution_count": null,
      "outputs": [
        {
          "output_type": "execute_result",
          "data": {
            "text/plain": [
              "SGDRegressor(alpha=100, average=False, early_stopping=False, epsilon=0.1,\n",
              "             eta0=0.01, fit_intercept=True, l1_ratio=0.15,\n",
              "             learning_rate='optimal', loss='squared_loss', max_iter=1000,\n",
              "             n_iter_no_change=5, penalty='l2', power_t=0.25, random_state=42,\n",
              "             shuffle=True, tol=0.001, validation_fraction=0.1, verbose=0,\n",
              "             warm_start=False)"
            ]
          },
          "metadata": {},
          "execution_count": 83
        }
      ]
    },
    {
      "cell_type": "code",
      "metadata": {
        "colab": {
          "base_uri": "https://localhost:8080/"
        },
        "id": "_1Da5Qao7bTE",
        "outputId": "99075e31-c350-458c-9458-e898eefcc4ec"
      },
      "source": [
        "pred_y_test_sgd = best_SGD_model.predict(X_test)\n",
        "\n",
        "score=best_SGD_model.score(X_test,y_test)\n",
        "print(score)\n",
        "\n",
        "mse = mean_squared_error(y_test, pred_y_test_sgd)\n",
        "print(\"Mean Squared Error:\",mse)"
      ],
      "execution_count": null,
      "outputs": [
        {
          "output_type": "stream",
          "name": "stdout",
          "text": [
            "-2.63728182150746e+31\n",
            "Mean Squared Error: 3.5831527882394894e+31\n"
          ]
        }
      ]
    },
    {
      "cell_type": "markdown",
      "metadata": {
        "id": "z7k4l1OybTQC"
      },
      "source": [
        "#### 2.3.2 - 4: Model Performance on the entire dataset"
      ]
    },
    {
      "cell_type": "code",
      "metadata": {
        "colab": {
          "base_uri": "https://localhost:8080/"
        },
        "id": "ToFL43hz7vAb",
        "outputId": "22307ad9-dd4b-4c69-86e2-9186a399ba97"
      },
      "source": [
        "best_SGD_model.fit(X1, Y1)"
      ],
      "execution_count": null,
      "outputs": [
        {
          "output_type": "execute_result",
          "data": {
            "text/plain": [
              "SGDRegressor(alpha=100, average=False, early_stopping=False, epsilon=0.1,\n",
              "             eta0=0.01, fit_intercept=True, l1_ratio=0.15,\n",
              "             learning_rate='optimal', loss='squared_loss', max_iter=1000,\n",
              "             n_iter_no_change=5, penalty='l2', power_t=0.25, random_state=42,\n",
              "             shuffle=True, tol=0.001, validation_fraction=0.1, verbose=0,\n",
              "             warm_start=False)"
            ]
          },
          "metadata": {},
          "execution_count": 85
        }
      ]
    },
    {
      "cell_type": "code",
      "metadata": {
        "colab": {
          "base_uri": "https://localhost:8080/"
        },
        "id": "85TjyZyL8JXN",
        "outputId": "61632418-30e6-47f9-c37f-8d62fcccd24f"
      },
      "source": [
        "pred_y_test_sgd_all = best_SGD_model.predict(X1)\n",
        "\n",
        "score=best_SGD_model.score(X1, Y1)\n",
        "print(score)\n",
        "\n",
        "mse = mean_squared_error(Y1, pred_y_test_sgd_all)\n",
        "print(\"Mean Squared Error:\",mse)"
      ],
      "execution_count": null,
      "outputs": [
        {
          "output_type": "stream",
          "name": "stdout",
          "text": [
            "-5.091460220773798e+29\n",
            "Mean Squared Error: 6.290003005569706e+29\n"
          ]
        }
      ]
    },
    {
      "cell_type": "markdown",
      "metadata": {
        "id": "AB6Sys7N8VA4"
      },
      "source": [
        "SGD did horribly..."
      ]
    },
    {
      "cell_type": "markdown",
      "metadata": {
        "id": "EYkXRRtN9v45"
      },
      "source": [
        "### 2.3.3: Random Forest Regressor"
      ]
    },
    {
      "cell_type": "code",
      "metadata": {
        "id": "_vO3A0_G9qJj"
      },
      "source": [
        "# because RF overcomes the issue of scaling and normalization, we will use the df before normalization\n",
        "X2 = X.copy()\n",
        "Y2 = Y.copy()"
      ],
      "execution_count": 23,
      "outputs": []
    },
    {
      "cell_type": "code",
      "metadata": {
        "colab": {
          "base_uri": "https://localhost:8080/"
        },
        "id": "knyaehiB-i30",
        "outputId": "36f534d8-f8fc-4e0f-91f3-b5bad72315f8"
      },
      "source": [
        "X2.shape"
      ],
      "execution_count": 24,
      "outputs": [
        {
          "output_type": "execute_result",
          "data": {
            "text/plain": [
              "(4603, 44)"
            ]
          },
          "metadata": {},
          "execution_count": 24
        }
      ]
    },
    {
      "cell_type": "code",
      "metadata": {
        "colab": {
          "base_uri": "https://localhost:8080/"
        },
        "id": "-f770N-8-n9Y",
        "outputId": "d5c6e90f-5e46-48f5-b674-796e59dacf64"
      },
      "source": [
        "Y2.shape"
      ],
      "execution_count": 25,
      "outputs": [
        {
          "output_type": "execute_result",
          "data": {
            "text/plain": [
              "(4603,)"
            ]
          },
          "metadata": {},
          "execution_count": 25
        }
      ]
    },
    {
      "cell_type": "code",
      "metadata": {
        "colab": {
          "base_uri": "https://localhost:8080/",
          "height": 357
        },
        "id": "pqFE-1IpIBfH",
        "outputId": "997a03dd-5837-4069-dc6c-3fc7af71615e"
      },
      "source": [
        "X2.head()"
      ],
      "execution_count": 26,
      "outputs": [
        {
          "output_type": "execute_result",
          "data": {
            "text/html": [
              "<div>\n",
              "<style scoped>\n",
              "    .dataframe tbody tr th:only-of-type {\n",
              "        vertical-align: middle;\n",
              "    }\n",
              "\n",
              "    .dataframe tbody tr th {\n",
              "        vertical-align: top;\n",
              "    }\n",
              "\n",
              "    .dataframe thead th {\n",
              "        text-align: right;\n",
              "    }\n",
              "</style>\n",
              "<table border=\"1\" class=\"dataframe\">\n",
              "  <thead>\n",
              "    <tr style=\"text-align: right;\">\n",
              "      <th></th>\n",
              "      <th>num_critic_for_reviews</th>\n",
              "      <th>duration</th>\n",
              "      <th>director_facebook_likes</th>\n",
              "      <th>actor_3_facebook_likes</th>\n",
              "      <th>actor_1_facebook_likes</th>\n",
              "      <th>gross</th>\n",
              "      <th>num_voted_users</th>\n",
              "      <th>num_user_for_reviews</th>\n",
              "      <th>budget</th>\n",
              "      <th>actor_2_facebook_likes</th>\n",
              "      <th>movie_facebook_likes</th>\n",
              "      <th>year</th>\n",
              "      <th>content_rating_Approved</th>\n",
              "      <th>content_rating_G</th>\n",
              "      <th>content_rating_GP</th>\n",
              "      <th>content_rating_M</th>\n",
              "      <th>content_rating_NC-17</th>\n",
              "      <th>content_rating_Not Rated</th>\n",
              "      <th>content_rating_PG</th>\n",
              "      <th>content_rating_PG-13</th>\n",
              "      <th>content_rating_Passed</th>\n",
              "      <th>content_rating_R</th>\n",
              "      <th>content_rating_TV-14</th>\n",
              "      <th>content_rating_TV-G</th>\n",
              "      <th>content_rating_TV-PG</th>\n",
              "      <th>content_rating_Unrated</th>\n",
              "      <th>content_rating_X</th>\n",
              "      <th>first_genre_Action</th>\n",
              "      <th>first_genre_Adventure</th>\n",
              "      <th>first_genre_Animation</th>\n",
              "      <th>first_genre_Biography</th>\n",
              "      <th>first_genre_Comedy</th>\n",
              "      <th>first_genre_Crime</th>\n",
              "      <th>first_genre_Documentary</th>\n",
              "      <th>first_genre_Drama</th>\n",
              "      <th>first_genre_Family</th>\n",
              "      <th>first_genre_Fantasy</th>\n",
              "      <th>first_genre_Horror</th>\n",
              "      <th>first_genre_Musical</th>\n",
              "      <th>first_genre_Mystery</th>\n",
              "      <th>first_genre_Romance</th>\n",
              "      <th>first_genre_Sci-Fi</th>\n",
              "      <th>first_genre_Thriller</th>\n",
              "      <th>first_genre_Western</th>\n",
              "    </tr>\n",
              "    <tr>\n",
              "      <th>movie_title</th>\n",
              "      <th></th>\n",
              "      <th></th>\n",
              "      <th></th>\n",
              "      <th></th>\n",
              "      <th></th>\n",
              "      <th></th>\n",
              "      <th></th>\n",
              "      <th></th>\n",
              "      <th></th>\n",
              "      <th></th>\n",
              "      <th></th>\n",
              "      <th></th>\n",
              "      <th></th>\n",
              "      <th></th>\n",
              "      <th></th>\n",
              "      <th></th>\n",
              "      <th></th>\n",
              "      <th></th>\n",
              "      <th></th>\n",
              "      <th></th>\n",
              "      <th></th>\n",
              "      <th></th>\n",
              "      <th></th>\n",
              "      <th></th>\n",
              "      <th></th>\n",
              "      <th></th>\n",
              "      <th></th>\n",
              "      <th></th>\n",
              "      <th></th>\n",
              "      <th></th>\n",
              "      <th></th>\n",
              "      <th></th>\n",
              "      <th></th>\n",
              "      <th></th>\n",
              "      <th></th>\n",
              "      <th></th>\n",
              "      <th></th>\n",
              "      <th></th>\n",
              "      <th></th>\n",
              "      <th></th>\n",
              "      <th></th>\n",
              "      <th></th>\n",
              "      <th></th>\n",
              "      <th></th>\n",
              "    </tr>\n",
              "  </thead>\n",
              "  <tbody>\n",
              "    <tr>\n",
              "      <th>Avatar</th>\n",
              "      <td>723.0</td>\n",
              "      <td>178.0</td>\n",
              "      <td>0.0</td>\n",
              "      <td>855.0</td>\n",
              "      <td>1000.0</td>\n",
              "      <td>760.0</td>\n",
              "      <td>886204</td>\n",
              "      <td>3054.0</td>\n",
              "      <td>237.0</td>\n",
              "      <td>936.0</td>\n",
              "      <td>33000</td>\n",
              "      <td>2009.0</td>\n",
              "      <td>0</td>\n",
              "      <td>0</td>\n",
              "      <td>0</td>\n",
              "      <td>0</td>\n",
              "      <td>0</td>\n",
              "      <td>0</td>\n",
              "      <td>0</td>\n",
              "      <td>1</td>\n",
              "      <td>0</td>\n",
              "      <td>0</td>\n",
              "      <td>0</td>\n",
              "      <td>0</td>\n",
              "      <td>0</td>\n",
              "      <td>0</td>\n",
              "      <td>0</td>\n",
              "      <td>1</td>\n",
              "      <td>0</td>\n",
              "      <td>0</td>\n",
              "      <td>0</td>\n",
              "      <td>0</td>\n",
              "      <td>0</td>\n",
              "      <td>0</td>\n",
              "      <td>0</td>\n",
              "      <td>0</td>\n",
              "      <td>0</td>\n",
              "      <td>0</td>\n",
              "      <td>0</td>\n",
              "      <td>0</td>\n",
              "      <td>0</td>\n",
              "      <td>0</td>\n",
              "      <td>0</td>\n",
              "      <td>0</td>\n",
              "    </tr>\n",
              "    <tr>\n",
              "      <th>Pirates of the Caribbean: At World's End</th>\n",
              "      <td>302.0</td>\n",
              "      <td>169.0</td>\n",
              "      <td>563.0</td>\n",
              "      <td>1000.0</td>\n",
              "      <td>40000.0</td>\n",
              "      <td>309.0</td>\n",
              "      <td>471220</td>\n",
              "      <td>1238.0</td>\n",
              "      <td>300.0</td>\n",
              "      <td>5000.0</td>\n",
              "      <td>0</td>\n",
              "      <td>2007.0</td>\n",
              "      <td>0</td>\n",
              "      <td>0</td>\n",
              "      <td>0</td>\n",
              "      <td>0</td>\n",
              "      <td>0</td>\n",
              "      <td>0</td>\n",
              "      <td>0</td>\n",
              "      <td>1</td>\n",
              "      <td>0</td>\n",
              "      <td>0</td>\n",
              "      <td>0</td>\n",
              "      <td>0</td>\n",
              "      <td>0</td>\n",
              "      <td>0</td>\n",
              "      <td>0</td>\n",
              "      <td>1</td>\n",
              "      <td>0</td>\n",
              "      <td>0</td>\n",
              "      <td>0</td>\n",
              "      <td>0</td>\n",
              "      <td>0</td>\n",
              "      <td>0</td>\n",
              "      <td>0</td>\n",
              "      <td>0</td>\n",
              "      <td>0</td>\n",
              "      <td>0</td>\n",
              "      <td>0</td>\n",
              "      <td>0</td>\n",
              "      <td>0</td>\n",
              "      <td>0</td>\n",
              "      <td>0</td>\n",
              "      <td>0</td>\n",
              "    </tr>\n",
              "    <tr>\n",
              "      <th>Spectre</th>\n",
              "      <td>602.0</td>\n",
              "      <td>148.0</td>\n",
              "      <td>0.0</td>\n",
              "      <td>161.0</td>\n",
              "      <td>11000.0</td>\n",
              "      <td>200.0</td>\n",
              "      <td>275868</td>\n",
              "      <td>994.0</td>\n",
              "      <td>245.0</td>\n",
              "      <td>393.0</td>\n",
              "      <td>85000</td>\n",
              "      <td>2015.0</td>\n",
              "      <td>0</td>\n",
              "      <td>0</td>\n",
              "      <td>0</td>\n",
              "      <td>0</td>\n",
              "      <td>0</td>\n",
              "      <td>0</td>\n",
              "      <td>0</td>\n",
              "      <td>1</td>\n",
              "      <td>0</td>\n",
              "      <td>0</td>\n",
              "      <td>0</td>\n",
              "      <td>0</td>\n",
              "      <td>0</td>\n",
              "      <td>0</td>\n",
              "      <td>0</td>\n",
              "      <td>1</td>\n",
              "      <td>0</td>\n",
              "      <td>0</td>\n",
              "      <td>0</td>\n",
              "      <td>0</td>\n",
              "      <td>0</td>\n",
              "      <td>0</td>\n",
              "      <td>0</td>\n",
              "      <td>0</td>\n",
              "      <td>0</td>\n",
              "      <td>0</td>\n",
              "      <td>0</td>\n",
              "      <td>0</td>\n",
              "      <td>0</td>\n",
              "      <td>0</td>\n",
              "      <td>0</td>\n",
              "      <td>0</td>\n",
              "    </tr>\n",
              "    <tr>\n",
              "      <th>The Dark Knight Rises</th>\n",
              "      <td>813.0</td>\n",
              "      <td>164.0</td>\n",
              "      <td>22000.0</td>\n",
              "      <td>23000.0</td>\n",
              "      <td>27000.0</td>\n",
              "      <td>448.0</td>\n",
              "      <td>1144337</td>\n",
              "      <td>2701.0</td>\n",
              "      <td>250.0</td>\n",
              "      <td>23000.0</td>\n",
              "      <td>164000</td>\n",
              "      <td>2012.0</td>\n",
              "      <td>0</td>\n",
              "      <td>0</td>\n",
              "      <td>0</td>\n",
              "      <td>0</td>\n",
              "      <td>0</td>\n",
              "      <td>0</td>\n",
              "      <td>0</td>\n",
              "      <td>1</td>\n",
              "      <td>0</td>\n",
              "      <td>0</td>\n",
              "      <td>0</td>\n",
              "      <td>0</td>\n",
              "      <td>0</td>\n",
              "      <td>0</td>\n",
              "      <td>0</td>\n",
              "      <td>1</td>\n",
              "      <td>0</td>\n",
              "      <td>0</td>\n",
              "      <td>0</td>\n",
              "      <td>0</td>\n",
              "      <td>0</td>\n",
              "      <td>0</td>\n",
              "      <td>0</td>\n",
              "      <td>0</td>\n",
              "      <td>0</td>\n",
              "      <td>0</td>\n",
              "      <td>0</td>\n",
              "      <td>0</td>\n",
              "      <td>0</td>\n",
              "      <td>0</td>\n",
              "      <td>0</td>\n",
              "      <td>0</td>\n",
              "    </tr>\n",
              "    <tr>\n",
              "      <th>John Carter</th>\n",
              "      <td>462.0</td>\n",
              "      <td>132.0</td>\n",
              "      <td>475.0</td>\n",
              "      <td>530.0</td>\n",
              "      <td>640.0</td>\n",
              "      <td>73.0</td>\n",
              "      <td>212204</td>\n",
              "      <td>738.0</td>\n",
              "      <td>263.0</td>\n",
              "      <td>632.0</td>\n",
              "      <td>24000</td>\n",
              "      <td>2012.0</td>\n",
              "      <td>0</td>\n",
              "      <td>0</td>\n",
              "      <td>0</td>\n",
              "      <td>0</td>\n",
              "      <td>0</td>\n",
              "      <td>0</td>\n",
              "      <td>0</td>\n",
              "      <td>1</td>\n",
              "      <td>0</td>\n",
              "      <td>0</td>\n",
              "      <td>0</td>\n",
              "      <td>0</td>\n",
              "      <td>0</td>\n",
              "      <td>0</td>\n",
              "      <td>0</td>\n",
              "      <td>1</td>\n",
              "      <td>0</td>\n",
              "      <td>0</td>\n",
              "      <td>0</td>\n",
              "      <td>0</td>\n",
              "      <td>0</td>\n",
              "      <td>0</td>\n",
              "      <td>0</td>\n",
              "      <td>0</td>\n",
              "      <td>0</td>\n",
              "      <td>0</td>\n",
              "      <td>0</td>\n",
              "      <td>0</td>\n",
              "      <td>0</td>\n",
              "      <td>0</td>\n",
              "      <td>0</td>\n",
              "      <td>0</td>\n",
              "    </tr>\n",
              "  </tbody>\n",
              "</table>\n",
              "</div>"
            ],
            "text/plain": [
              "                                           num_critic_for_reviews  ...  first_genre_Western\n",
              "movie_title                                                        ...                     \n",
              "Avatar                                                      723.0  ...                    0\n",
              "Pirates of the Caribbean: At World's End                    302.0  ...                    0\n",
              "Spectre                                                     602.0  ...                    0\n",
              "The Dark Knight Rises                                       813.0  ...                    0\n",
              "John Carter                                                 462.0  ...                    0\n",
              "\n",
              "[5 rows x 44 columns]"
            ]
          },
          "metadata": {},
          "execution_count": 26
        }
      ]
    },
    {
      "cell_type": "code",
      "metadata": {
        "id": "ARGPOqzR-sbj"
      },
      "source": [
        "from sklearn import model_selection\n",
        "X1_train, X1_test, y1_train, y1_test = model_selection.train_test_split(X2, Y2, test_size=0.20, shuffle=True, random_state=42)"
      ],
      "execution_count": 27,
      "outputs": []
    },
    {
      "cell_type": "code",
      "metadata": {
        "colab": {
          "base_uri": "https://localhost:8080/"
        },
        "id": "2lGbzMtE_L0n",
        "outputId": "6dbf1167-6672-495e-c437-93344cd0bcfc"
      },
      "source": [
        "print('training data has ' + str(X1_train.shape[0]) + ' observation with ' + str(X1_train.shape[1]) + ' features')\n",
        "print('test data has ' + str(X1_test.shape[0]) + ' observation with ' + str(X1_test.shape[1]) + ' features')"
      ],
      "execution_count": 28,
      "outputs": [
        {
          "output_type": "stream",
          "name": "stdout",
          "text": [
            "training data has 3682 observation with 44 features\n",
            "test data has 921 observation with 44 features\n"
          ]
        }
      ]
    },
    {
      "cell_type": "code",
      "metadata": {
        "id": "nP3GUd4h_XRu"
      },
      "source": [
        "X1_train = X1_train.fillna('', inplace=False)\n",
        "X1_test = X1_test.fillna('', inplace=False)"
      ],
      "execution_count": 29,
      "outputs": []
    },
    {
      "cell_type": "code",
      "metadata": {
        "id": "per-fHWR_qU2"
      },
      "source": [
        "from sklearn.ensemble import RandomForestRegressor"
      ],
      "execution_count": 30,
      "outputs": []
    },
    {
      "cell_type": "markdown",
      "metadata": {
        "id": "RdiiH9Q4bjI1"
      },
      "source": [
        "#### 2.3.3 - 1: Base Model"
      ]
    },
    {
      "cell_type": "code",
      "metadata": {
        "id": "xu_eeSQN_r58"
      },
      "source": [
        "RF_regressor = RandomForestRegressor(random_state = 42)"
      ],
      "execution_count": 31,
      "outputs": []
    },
    {
      "cell_type": "code",
      "metadata": {
        "colab": {
          "base_uri": "https://localhost:8080/"
        },
        "id": "UGB1DKy_AL6B",
        "outputId": "19297b2c-140e-40d7-d16c-acbd44133d7e"
      },
      "source": [
        "RF_regressor.fit(X1_train, y1_train)"
      ],
      "execution_count": 33,
      "outputs": [
        {
          "output_type": "execute_result",
          "data": {
            "text/plain": [
              "RandomForestRegressor(bootstrap=True, ccp_alpha=0.0, criterion='mse',\n",
              "                      max_depth=None, max_features='auto', max_leaf_nodes=None,\n",
              "                      max_samples=None, min_impurity_decrease=0.0,\n",
              "                      min_impurity_split=None, min_samples_leaf=1,\n",
              "                      min_samples_split=2, min_weight_fraction_leaf=0.0,\n",
              "                      n_estimators=100, n_jobs=None, oob_score=False,\n",
              "                      random_state=42, verbose=0, warm_start=False)"
            ]
          },
          "metadata": {},
          "execution_count": 33
        }
      ]
    },
    {
      "cell_type": "code",
      "metadata": {
        "colab": {
          "base_uri": "https://localhost:8080/"
        },
        "id": "_bR7kv4VAaCv",
        "outputId": "2fb146d3-9b4b-48b1-dabe-b0d2ed81e0e5"
      },
      "source": [
        "base_RF_pred_y = RF_regressor.predict(X1_test)\n",
        "\n",
        "score=RF_regressor.score(X1_test,y1_test)\n",
        "print(score)\n",
        "\n",
        "mse = mean_squared_error(y1_test, base_RF_pred_y)\n",
        "print(\"Mean Squared Error:\",mse)"
      ],
      "execution_count": 36,
      "outputs": [
        {
          "output_type": "stream",
          "name": "stdout",
          "text": [
            "0.5198268043465617\n",
            "Mean Squared Error: 0.5731125939196527\n"
          ]
        }
      ]
    },
    {
      "cell_type": "markdown",
      "metadata": {
        "id": "HwOL9hFObmzW"
      },
      "source": [
        "#### 2.3.3 - 2: Grid Search CV"
      ]
    },
    {
      "cell_type": "code",
      "metadata": {
        "colab": {
          "base_uri": "https://localhost:8080/"
        },
        "id": "Ou-wLbzUDBtO",
        "outputId": "58f2dd6d-45ac-4c4d-9c16-87de2aef6c1a"
      },
      "source": [
        "parameters = {\n",
        "    'n_estimators' : [60, 80, 100, 120, 140],\n",
        "    'max_features': [\"auto\", \"sqrt\", \"log2\"]\n",
        "}\n",
        "Grid_RF = GridSearchCV(RF_regressor, parameters, cv=5, refit = True)\n",
        "Grid_RF.fit(X1_train, y1_train)"
      ],
      "execution_count": 39,
      "outputs": [
        {
          "output_type": "execute_result",
          "data": {
            "text/plain": [
              "GridSearchCV(cv=5, error_score=nan,\n",
              "             estimator=RandomForestRegressor(bootstrap=True, ccp_alpha=0.0,\n",
              "                                             criterion='mse', max_depth=None,\n",
              "                                             max_features='auto',\n",
              "                                             max_leaf_nodes=None,\n",
              "                                             max_samples=None,\n",
              "                                             min_impurity_decrease=0.0,\n",
              "                                             min_impurity_split=None,\n",
              "                                             min_samples_leaf=1,\n",
              "                                             min_samples_split=2,\n",
              "                                             min_weight_fraction_leaf=0.0,\n",
              "                                             n_estimators=100, n_jobs=None,\n",
              "                                             oob_score=False, random_state=42,\n",
              "                                             verbose=0, warm_start=False),\n",
              "             iid='deprecated', n_jobs=None,\n",
              "             param_grid={'max_features': ['auto', 'sqrt', 'log2'],\n",
              "                         'n_estimators': [60, 80, 100, 120, 140]},\n",
              "             pre_dispatch='2*n_jobs', refit=True, return_train_score=False,\n",
              "             scoring=None, verbose=0)"
            ]
          },
          "metadata": {},
          "execution_count": 39
        }
      ]
    },
    {
      "cell_type": "code",
      "metadata": {
        "colab": {
          "base_uri": "https://localhost:8080/"
        },
        "id": "9RuOMZD1Ftco",
        "outputId": "03dc9f6a-c9de-49fb-d75b-5f811c50441e"
      },
      "source": [
        "print_grid_search_metrics(Grid_RF)"
      ],
      "execution_count": 40,
      "outputs": [
        {
          "output_type": "stream",
          "name": "stdout",
          "text": [
            "Best score: 0.5134058647370467\n",
            "Best parameters set:\n",
            "max_features:auto\n",
            "n_estimators:140\n"
          ]
        }
      ]
    },
    {
      "cell_type": "code",
      "metadata": {
        "id": "53o_qppQF1Mw"
      },
      "source": [
        "best_RF_model = Grid_RF.best_estimator_"
      ],
      "execution_count": 41,
      "outputs": []
    },
    {
      "cell_type": "markdown",
      "metadata": {
        "id": "QbYb0ompbq7C"
      },
      "source": [
        "#### 2.3.3 - 3: Validation on test set"
      ]
    },
    {
      "cell_type": "code",
      "metadata": {
        "colab": {
          "base_uri": "https://localhost:8080/"
        },
        "id": "EhbLB1t6GOJ6",
        "outputId": "741ffbef-4525-4b2f-be27-bf1a2189ec30"
      },
      "source": [
        "best_RF_model.fit(X1_test, y1_test)"
      ],
      "execution_count": 42,
      "outputs": [
        {
          "output_type": "execute_result",
          "data": {
            "text/plain": [
              "RandomForestRegressor(bootstrap=True, ccp_alpha=0.0, criterion='mse',\n",
              "                      max_depth=None, max_features='auto', max_leaf_nodes=None,\n",
              "                      max_samples=None, min_impurity_decrease=0.0,\n",
              "                      min_impurity_split=None, min_samples_leaf=1,\n",
              "                      min_samples_split=2, min_weight_fraction_leaf=0.0,\n",
              "                      n_estimators=140, n_jobs=None, oob_score=False,\n",
              "                      random_state=42, verbose=0, warm_start=False)"
            ]
          },
          "metadata": {},
          "execution_count": 42
        }
      ]
    },
    {
      "cell_type": "code",
      "metadata": {
        "colab": {
          "base_uri": "https://localhost:8080/"
        },
        "id": "2kZRKss_HEkI",
        "outputId": "1c22350e-7a23-44cd-ac19-8d4838d0c084"
      },
      "source": [
        "pred_y_test_rf = best_RF_model.predict(X1_test)\n",
        "\n",
        "score=best_RF_model.score(X1_test,y1_test)\n",
        "print(score)\n",
        "\n",
        "mse = mean_squared_error(y1_test, pred_y_test_rf)\n",
        "print(\"Mean Squared Error:\",mse)"
      ],
      "execution_count": 43,
      "outputs": [
        {
          "output_type": "stream",
          "name": "stdout",
          "text": [
            "0.9220988427331143\n",
            "Mean Squared Error: 0.09297923064991469\n"
          ]
        }
      ]
    },
    {
      "cell_type": "markdown",
      "metadata": {
        "id": "Er_qefFEbvIO"
      },
      "source": [
        "#### 2.3.3 - 4: Model Performance on the entire dataset"
      ]
    },
    {
      "cell_type": "code",
      "metadata": {
        "colab": {
          "base_uri": "https://localhost:8080/"
        },
        "id": "nOP7kClX86oc",
        "outputId": "6243da22-aeb8-493d-dd03-d08740d184c3"
      },
      "source": [
        "best_RF_model.fit(X2,Y2)\n",
        "pred_y_rf_all = best_RF_model.predict(X2)\n",
        "\n",
        "score=best_RF_model.score(X2,Y2)\n",
        "print(score)\n",
        "\n",
        "mse = mean_squared_error(Y2, pred_y_rf_all)\n",
        "print(\"Mean Squared Error:\",mse)"
      ],
      "execution_count": 44,
      "outputs": [
        {
          "output_type": "stream",
          "name": "stdout",
          "text": [
            "0.9354247043691606\n",
            "Mean Squared Error: 0.0797764857213796\n"
          ]
        }
      ]
    },
    {
      "cell_type": "markdown",
      "metadata": {
        "id": "9c3p0yPfJZYT"
      },
      "source": [
        "#### 2.3.3 - 5: Feature Importance"
      ]
    },
    {
      "cell_type": "code",
      "metadata": {
        "id": "NKjL-b06Jt0r"
      },
      "source": [
        "from sklearn.inspection import permutation_importance\n",
        "from matplotlib import pyplot as plt"
      ],
      "execution_count": 46,
      "outputs": []
    },
    {
      "cell_type": "code",
      "metadata": {
        "id": "kYe73VI7KjJG"
      },
      "source": [
        "plt.rcParams.update({'figure.figsize': (15, 12)})\n",
        "plt.rcParams.update({'font.size': 14})"
      ],
      "execution_count": 54,
      "outputs": []
    },
    {
      "cell_type": "code",
      "metadata": {
        "colab": {
          "base_uri": "https://localhost:8080/",
          "height": 617
        },
        "id": "KGY1e4xqJfH0",
        "outputId": "55053459-6260-4ccd-d6a6-02e7347d7319"
      },
      "source": [
        "# 1) RF built-in importance\n",
        "sorted_idx = best_RF_model.feature_importances_.argsort()\n",
        "plt.barh(X2.columns, best_RF_model.feature_importances_[sorted_idx])\n",
        "plt.xlabel(\"Random Forest Feature Importance\")"
      ],
      "execution_count": 56,
      "outputs": [
        {
          "output_type": "execute_result",
          "data": {
            "text/plain": [
              "Text(0.5, 0, 'Random Forest Feature Importance')"
            ]
          },
          "metadata": {},
          "execution_count": 56
        },
        {
          "output_type": "display_data",
          "data": {
            "image/png": "[encoded data removed]",
            "text/plain": [
              "<Figure size 1080x864 with 1 Axes>"
            ]
          },
          "metadata": {
            "needs_background": "light"
          }
        }
      ]
    },
    {
      "cell_type": "code",
      "metadata": {
        "id": "GUfwRWGNLbGu"
      },
      "source": [
        "# 2) Permutation basesd importance\n",
        "perm_importance = permutation_importance(best_RF_model, X2, Y2)"
      ],
      "execution_count": 58,
      "outputs": []
    },
    {
      "cell_type": "code",
      "metadata": {
        "colab": {
          "base_uri": "https://localhost:8080/",
          "height": 617
        },
        "id": "zIhpR8xGLrSN",
        "outputId": "d1cc0d24-2433-4b3f-b118-1871a2cb8e1b"
      },
      "source": [
        "sorted_idx = perm_importance.importances_mean.argsort()\n",
        "plt.barh(X2.columns, best_RF_model.feature_importances_[sorted_idx])\n",
        "plt.xlabel(\"Random Forest Feature Importance\")"
      ],
      "execution_count": 59,
      "outputs": [
        {
          "output_type": "execute_result",
          "data": {
            "text/plain": [
              "Text(0.5, 0, 'Random Forest Feature Importance')"
            ]
          },
          "metadata": {},
          "execution_count": 59
        },
        {
          "output_type": "display_data",
          "data": {
            "image/png": "[encoded data removed]",
            "text/plain": [
              "<Figure size 1080x864 with 1 Axes>"
            ]
          },
          "metadata": {
            "needs_background": "light"
          }
        }
      ]
    },
    {
      "cell_type": "markdown",
      "metadata": {
        "id": "gjUQK59PLpYX"
      },
      "source": [
        ""
      ]
    },
    {
      "cell_type": "markdown",
      "metadata": {
        "id": "FMR2C3L9K2L9"
      },
      "source": [
        "### 2.3.4: Gradient Boosting Regressor"
      ]
    },
    {
      "cell_type": "markdown",
      "metadata": {
        "id": "jD9fRRKZLJcl"
      },
      "source": [
        "we can use the same X and Y train / test dataframes from Random Forest"
      ]
    },
    {
      "cell_type": "markdown",
      "metadata": {
        "id": "PeSOanrVLT8D"
      },
      "source": [
        "#### 2.3.4 - 1: Base Model"
      ]
    },
    {
      "cell_type": "code",
      "metadata": {
        "id": "L5qheGJpLrXq"
      },
      "source": [
        "from sklearn.ensemble import GradientBoostingRegressor\n",
        "base_GBR = GradientBoostingRegressor(random_state=42)"
      ],
      "execution_count": null,
      "outputs": []
    },
    {
      "cell_type": "code",
      "metadata": {
        "colab": {
          "base_uri": "https://localhost:8080/"
        },
        "id": "mT4EDxebMSa8",
        "outputId": "8dbba920-4c64-4a5b-8c8b-e2d3370185eb"
      },
      "source": [
        "base_GBR.fit(X1_train, y1_train)\n",
        "base_GBR_pred_y = base_GBR.predict(X1_test)\n",
        "\n",
        "score=base_GBR.score(X1_test,y1_test)\n",
        "print(score)\n",
        "\n",
        "mse = mean_squared_error(y1_test, base_GBR_pred_y)\n",
        "print(\"Mean Squared Error:\",mse)"
      ],
      "execution_count": null,
      "outputs": [
        {
          "output_type": "stream",
          "name": "stdout",
          "text": [
            "0.49666344765894305\n",
            "Mean Squared Error: 0.6007593088035642\n"
          ]
        }
      ]
    },
    {
      "cell_type": "markdown",
      "metadata": {
        "id": "PJy-XkVGLZzI"
      },
      "source": [
        "#### 2.3.4 - 2: Grid Search CV"
      ]
    },
    {
      "cell_type": "code",
      "metadata": {
        "colab": {
          "base_uri": "https://localhost:8080/"
        },
        "id": "EvGpywLqLfCB",
        "outputId": "c107955d-1451-4e12-9d6b-db79fcd5fc36"
      },
      "source": [
        "parameters = {\n",
        "    'learning_rate': [0.05, 0.1, 0.25, 0.5],\n",
        "    'n_estimators' : [60, 80, 100, 120, 140],\n",
        "    'max_features': [\"auto\", \"sqrt\", \"log2\"]\n",
        "}\n",
        "Grid_GBR = GridSearchCV(base_GBR, parameters, cv=5, refit = True)\n",
        "Grid_GBR.fit(X1_train, y1_train)"
      ],
      "execution_count": null,
      "outputs": [
        {
          "output_type": "execute_result",
          "data": {
            "text/plain": [
              "GridSearchCV(cv=5, error_score=nan,\n",
              "             estimator=GradientBoostingRegressor(alpha=0.9, ccp_alpha=0.0,\n",
              "                                                 criterion='friedman_mse',\n",
              "                                                 init=None, learning_rate=0.1,\n",
              "                                                 loss='ls', max_depth=3,\n",
              "                                                 max_features=None,\n",
              "                                                 max_leaf_nodes=None,\n",
              "                                                 min_impurity_decrease=0.0,\n",
              "                                                 min_impurity_split=None,\n",
              "                                                 min_samples_leaf=1,\n",
              "                                                 min_samples_split=2,\n",
              "                                                 min_weight_fraction_leaf=0.0,\n",
              "                                                 n_estimators=100,\n",
              "                                                 n_iter_n...e,\n",
              "                                                 presort='deprecated',\n",
              "                                                 random_state=42, subsample=1.0,\n",
              "                                                 tol=0.0001,\n",
              "                                                 validation_fraction=0.1,\n",
              "                                                 verbose=0, warm_start=False),\n",
              "             iid='deprecated', n_jobs=None,\n",
              "             param_grid={'learning_rate': [0.05, 0.1, 0.25, 0.5],\n",
              "                         'max_features': ['auto', 'sqrt', 'log2'],\n",
              "                         'n_estimators': [60, 80, 100, 120, 140]},\n",
              "             pre_dispatch='2*n_jobs', refit=True, return_train_score=False,\n",
              "             scoring=None, verbose=0)"
            ]
          },
          "metadata": {},
          "execution_count": 118
        }
      ]
    },
    {
      "cell_type": "code",
      "metadata": {
        "colab": {
          "base_uri": "https://localhost:8080/"
        },
        "id": "kwEYD4XgOYJX",
        "outputId": "a29f25e0-621e-49db-e3d0-de08bf4d8cff"
      },
      "source": [
        "print_grid_search_metrics(Grid_GBR)"
      ],
      "execution_count": null,
      "outputs": [
        {
          "output_type": "stream",
          "name": "stdout",
          "text": [
            "Best score: 0.5251711024075416\n",
            "Best parameters set:\n",
            "learning_rate:0.25\n",
            "max_features:auto\n",
            "n_estimators:140\n"
          ]
        }
      ]
    },
    {
      "cell_type": "code",
      "metadata": {
        "id": "BQM2V0gJOdGK"
      },
      "source": [
        "best_GBR_model = Grid_GBR.best_estimator_"
      ],
      "execution_count": null,
      "outputs": []
    },
    {
      "cell_type": "markdown",
      "metadata": {
        "id": "Ayawh4SmLfri"
      },
      "source": [
        "#### 2.3.4 - 3: Validation on test set"
      ]
    },
    {
      "cell_type": "code",
      "metadata": {
        "colab": {
          "base_uri": "https://localhost:8080/"
        },
        "id": "3c2X5C7wOny7",
        "outputId": "dca1c5fc-8169-4e6c-d140-ab0838caf5b7"
      },
      "source": [
        "best_GBR_model.fit(X1_test, y1_test)"
      ],
      "execution_count": null,
      "outputs": [
        {
          "output_type": "execute_result",
          "data": {
            "text/plain": [
              "GradientBoostingRegressor(alpha=0.9, ccp_alpha=0.0, criterion='friedman_mse',\n",
              "                          init=None, learning_rate=0.25, loss='ls', max_depth=3,\n",
              "                          max_features='auto', max_leaf_nodes=None,\n",
              "                          min_impurity_decrease=0.0, min_impurity_split=None,\n",
              "                          min_samples_leaf=1, min_samples_split=2,\n",
              "                          min_weight_fraction_leaf=0.0, n_estimators=140,\n",
              "                          n_iter_no_change=None, presort='deprecated',\n",
              "                          random_state=42, subsample=1.0, tol=0.0001,\n",
              "                          validation_fraction=0.1, verbose=0, warm_start=False)"
            ]
          },
          "metadata": {},
          "execution_count": 121
        }
      ]
    },
    {
      "cell_type": "code",
      "metadata": {
        "colab": {
          "base_uri": "https://localhost:8080/"
        },
        "id": "IW6a1lh8OxLD",
        "outputId": "379b41e4-e3ed-4ba6-d09d-9fb92b2e794b"
      },
      "source": [
        "pred_y_test_gbr = best_GBR_model.predict(X1_test)\n",
        "\n",
        "score=best_GBR_model.score(X1_test,y1_test)\n",
        "print(score)\n",
        "\n",
        "mse = mean_squared_error(y1_test, pred_y_test_gbr)\n",
        "print(\"Mean Squared Error:\",mse)"
      ],
      "execution_count": null,
      "outputs": [
        {
          "output_type": "stream",
          "name": "stdout",
          "text": [
            "0.9247441691323127\n",
            "Mean Squared Error: 0.0898218909896998\n"
          ]
        }
      ]
    },
    {
      "cell_type": "markdown",
      "metadata": {
        "id": "pHoV8Q04Ljkb"
      },
      "source": [
        "#### 2.4.4 - 4: Model Peformance on the entire dataset"
      ]
    },
    {
      "cell_type": "code",
      "metadata": {
        "colab": {
          "base_uri": "https://localhost:8080/"
        },
        "id": "m5Pec6hiO8gL",
        "outputId": "e0c63fc4-87d7-42bc-e670-b8113dc7b990"
      },
      "source": [
        "best_GBR_model.fit(X2,Y2)\n",
        "\n",
        "pred_y__gbr_all = best_GBR_model.predict(X2)\n",
        "\n",
        "score=best_GBR_model.score(X2,Y2)\n",
        "print(score)\n",
        "\n",
        "mse = mean_squared_error(Y2, pred_y__gbr_all)\n",
        "print(\"Mean Squared Error:\",mse)"
      ],
      "execution_count": null,
      "outputs": [
        {
          "output_type": "stream",
          "name": "stdout",
          "text": [
            "0.7506000450775129\n",
            "Mean Squared Error: 0.3081093434945819\n"
          ]
        }
      ]
    }
  ]
}